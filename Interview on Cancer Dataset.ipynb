{
 "cells": [
  {
   "cell_type": "code",
   "execution_count": 1,
   "metadata": {},
   "outputs": [],
   "source": [
    "import pandas as pd\n",
    "import numpy as np\n",
    "import seaborn as sns\n",
    "import matplotlib.pyplot as plt\n",
    "%matplotlib inline\n",
    "sns.set()"
   ]
  },
  {
   "cell_type": "code",
   "execution_count": 2,
   "metadata": {},
   "outputs": [],
   "source": [
    "from sklearn.datasets import load_breast_cancer"
   ]
  },
  {
   "cell_type": "code",
   "execution_count": 3,
   "metadata": {},
   "outputs": [],
   "source": [
    "df=load_breast_cancer()"
   ]
  },
  {
   "cell_type": "code",
   "execution_count": 4,
   "metadata": {
    "scrolled": true
   },
   "outputs": [],
   "source": [
    "dataset=pd.DataFrame(df.data)"
   ]
  },
  {
   "cell_type": "code",
   "execution_count": 5,
   "metadata": {},
   "outputs": [
    {
     "data": {
      "text/html": [
       "<div>\n",
       "<style scoped>\n",
       "    .dataframe tbody tr th:only-of-type {\n",
       "        vertical-align: middle;\n",
       "    }\n",
       "\n",
       "    .dataframe tbody tr th {\n",
       "        vertical-align: top;\n",
       "    }\n",
       "\n",
       "    .dataframe thead th {\n",
       "        text-align: right;\n",
       "    }\n",
       "</style>\n",
       "<table border=\"1\" class=\"dataframe\">\n",
       "  <thead>\n",
       "    <tr style=\"text-align: right;\">\n",
       "      <th></th>\n",
       "      <th>0</th>\n",
       "      <th>1</th>\n",
       "      <th>2</th>\n",
       "      <th>3</th>\n",
       "      <th>4</th>\n",
       "      <th>5</th>\n",
       "      <th>6</th>\n",
       "      <th>7</th>\n",
       "      <th>8</th>\n",
       "      <th>9</th>\n",
       "      <th>...</th>\n",
       "      <th>20</th>\n",
       "      <th>21</th>\n",
       "      <th>22</th>\n",
       "      <th>23</th>\n",
       "      <th>24</th>\n",
       "      <th>25</th>\n",
       "      <th>26</th>\n",
       "      <th>27</th>\n",
       "      <th>28</th>\n",
       "      <th>29</th>\n",
       "    </tr>\n",
       "  </thead>\n",
       "  <tbody>\n",
       "    <tr>\n",
       "      <th>0</th>\n",
       "      <td>17.99</td>\n",
       "      <td>10.38</td>\n",
       "      <td>122.80</td>\n",
       "      <td>1001.0</td>\n",
       "      <td>0.11840</td>\n",
       "      <td>0.27760</td>\n",
       "      <td>0.3001</td>\n",
       "      <td>0.14710</td>\n",
       "      <td>0.2419</td>\n",
       "      <td>0.07871</td>\n",
       "      <td>...</td>\n",
       "      <td>25.38</td>\n",
       "      <td>17.33</td>\n",
       "      <td>184.60</td>\n",
       "      <td>2019.0</td>\n",
       "      <td>0.1622</td>\n",
       "      <td>0.6656</td>\n",
       "      <td>0.7119</td>\n",
       "      <td>0.2654</td>\n",
       "      <td>0.4601</td>\n",
       "      <td>0.11890</td>\n",
       "    </tr>\n",
       "    <tr>\n",
       "      <th>1</th>\n",
       "      <td>20.57</td>\n",
       "      <td>17.77</td>\n",
       "      <td>132.90</td>\n",
       "      <td>1326.0</td>\n",
       "      <td>0.08474</td>\n",
       "      <td>0.07864</td>\n",
       "      <td>0.0869</td>\n",
       "      <td>0.07017</td>\n",
       "      <td>0.1812</td>\n",
       "      <td>0.05667</td>\n",
       "      <td>...</td>\n",
       "      <td>24.99</td>\n",
       "      <td>23.41</td>\n",
       "      <td>158.80</td>\n",
       "      <td>1956.0</td>\n",
       "      <td>0.1238</td>\n",
       "      <td>0.1866</td>\n",
       "      <td>0.2416</td>\n",
       "      <td>0.1860</td>\n",
       "      <td>0.2750</td>\n",
       "      <td>0.08902</td>\n",
       "    </tr>\n",
       "    <tr>\n",
       "      <th>2</th>\n",
       "      <td>19.69</td>\n",
       "      <td>21.25</td>\n",
       "      <td>130.00</td>\n",
       "      <td>1203.0</td>\n",
       "      <td>0.10960</td>\n",
       "      <td>0.15990</td>\n",
       "      <td>0.1974</td>\n",
       "      <td>0.12790</td>\n",
       "      <td>0.2069</td>\n",
       "      <td>0.05999</td>\n",
       "      <td>...</td>\n",
       "      <td>23.57</td>\n",
       "      <td>25.53</td>\n",
       "      <td>152.50</td>\n",
       "      <td>1709.0</td>\n",
       "      <td>0.1444</td>\n",
       "      <td>0.4245</td>\n",
       "      <td>0.4504</td>\n",
       "      <td>0.2430</td>\n",
       "      <td>0.3613</td>\n",
       "      <td>0.08758</td>\n",
       "    </tr>\n",
       "    <tr>\n",
       "      <th>3</th>\n",
       "      <td>11.42</td>\n",
       "      <td>20.38</td>\n",
       "      <td>77.58</td>\n",
       "      <td>386.1</td>\n",
       "      <td>0.14250</td>\n",
       "      <td>0.28390</td>\n",
       "      <td>0.2414</td>\n",
       "      <td>0.10520</td>\n",
       "      <td>0.2597</td>\n",
       "      <td>0.09744</td>\n",
       "      <td>...</td>\n",
       "      <td>14.91</td>\n",
       "      <td>26.50</td>\n",
       "      <td>98.87</td>\n",
       "      <td>567.7</td>\n",
       "      <td>0.2098</td>\n",
       "      <td>0.8663</td>\n",
       "      <td>0.6869</td>\n",
       "      <td>0.2575</td>\n",
       "      <td>0.6638</td>\n",
       "      <td>0.17300</td>\n",
       "    </tr>\n",
       "    <tr>\n",
       "      <th>4</th>\n",
       "      <td>20.29</td>\n",
       "      <td>14.34</td>\n",
       "      <td>135.10</td>\n",
       "      <td>1297.0</td>\n",
       "      <td>0.10030</td>\n",
       "      <td>0.13280</td>\n",
       "      <td>0.1980</td>\n",
       "      <td>0.10430</td>\n",
       "      <td>0.1809</td>\n",
       "      <td>0.05883</td>\n",
       "      <td>...</td>\n",
       "      <td>22.54</td>\n",
       "      <td>16.67</td>\n",
       "      <td>152.20</td>\n",
       "      <td>1575.0</td>\n",
       "      <td>0.1374</td>\n",
       "      <td>0.2050</td>\n",
       "      <td>0.4000</td>\n",
       "      <td>0.1625</td>\n",
       "      <td>0.2364</td>\n",
       "      <td>0.07678</td>\n",
       "    </tr>\n",
       "  </tbody>\n",
       "</table>\n",
       "<p>5 rows × 30 columns</p>\n",
       "</div>"
      ],
      "text/plain": [
       "      0      1       2       3        4        5       6        7       8   \\\n",
       "0  17.99  10.38  122.80  1001.0  0.11840  0.27760  0.3001  0.14710  0.2419   \n",
       "1  20.57  17.77  132.90  1326.0  0.08474  0.07864  0.0869  0.07017  0.1812   \n",
       "2  19.69  21.25  130.00  1203.0  0.10960  0.15990  0.1974  0.12790  0.2069   \n",
       "3  11.42  20.38   77.58   386.1  0.14250  0.28390  0.2414  0.10520  0.2597   \n",
       "4  20.29  14.34  135.10  1297.0  0.10030  0.13280  0.1980  0.10430  0.1809   \n",
       "\n",
       "        9   ...     20     21      22      23      24      25      26      27  \\\n",
       "0  0.07871  ...  25.38  17.33  184.60  2019.0  0.1622  0.6656  0.7119  0.2654   \n",
       "1  0.05667  ...  24.99  23.41  158.80  1956.0  0.1238  0.1866  0.2416  0.1860   \n",
       "2  0.05999  ...  23.57  25.53  152.50  1709.0  0.1444  0.4245  0.4504  0.2430   \n",
       "3  0.09744  ...  14.91  26.50   98.87   567.7  0.2098  0.8663  0.6869  0.2575   \n",
       "4  0.05883  ...  22.54  16.67  152.20  1575.0  0.1374  0.2050  0.4000  0.1625   \n",
       "\n",
       "       28       29  \n",
       "0  0.4601  0.11890  \n",
       "1  0.2750  0.08902  \n",
       "2  0.3613  0.08758  \n",
       "3  0.6638  0.17300  \n",
       "4  0.2364  0.07678  \n",
       "\n",
       "[5 rows x 30 columns]"
      ]
     },
     "execution_count": 5,
     "metadata": {},
     "output_type": "execute_result"
    }
   ],
   "source": [
    "dataset.head()"
   ]
  },
  {
   "cell_type": "code",
   "execution_count": 6,
   "metadata": {},
   "outputs": [
    {
     "data": {
      "text/plain": [
       "569"
      ]
     },
     "execution_count": 6,
     "metadata": {},
     "output_type": "execute_result"
    }
   ],
   "source": [
    "len(dataset)"
   ]
  },
  {
   "cell_type": "code",
   "execution_count": 7,
   "metadata": {},
   "outputs": [
    {
     "data": {
      "text/html": [
       "<div>\n",
       "<style scoped>\n",
       "    .dataframe tbody tr th:only-of-type {\n",
       "        vertical-align: middle;\n",
       "    }\n",
       "\n",
       "    .dataframe tbody tr th {\n",
       "        vertical-align: top;\n",
       "    }\n",
       "\n",
       "    .dataframe thead th {\n",
       "        text-align: right;\n",
       "    }\n",
       "</style>\n",
       "<table border=\"1\" class=\"dataframe\">\n",
       "  <thead>\n",
       "    <tr style=\"text-align: right;\">\n",
       "      <th></th>\n",
       "      <th>mean radius</th>\n",
       "      <th>mean texture</th>\n",
       "      <th>mean perimeter</th>\n",
       "      <th>mean area</th>\n",
       "      <th>mean smoothness</th>\n",
       "      <th>mean compactness</th>\n",
       "      <th>mean concavity</th>\n",
       "      <th>mean concave points</th>\n",
       "      <th>mean symmetry</th>\n",
       "      <th>mean fractal dimension</th>\n",
       "      <th>...</th>\n",
       "      <th>worst radius</th>\n",
       "      <th>worst texture</th>\n",
       "      <th>worst perimeter</th>\n",
       "      <th>worst area</th>\n",
       "      <th>worst smoothness</th>\n",
       "      <th>worst compactness</th>\n",
       "      <th>worst concavity</th>\n",
       "      <th>worst concave points</th>\n",
       "      <th>worst symmetry</th>\n",
       "      <th>worst fractal dimension</th>\n",
       "    </tr>\n",
       "  </thead>\n",
       "  <tbody>\n",
       "    <tr>\n",
       "      <th>0</th>\n",
       "      <td>17.99</td>\n",
       "      <td>10.38</td>\n",
       "      <td>122.80</td>\n",
       "      <td>1001.0</td>\n",
       "      <td>0.11840</td>\n",
       "      <td>0.27760</td>\n",
       "      <td>0.3001</td>\n",
       "      <td>0.14710</td>\n",
       "      <td>0.2419</td>\n",
       "      <td>0.07871</td>\n",
       "      <td>...</td>\n",
       "      <td>25.38</td>\n",
       "      <td>17.33</td>\n",
       "      <td>184.60</td>\n",
       "      <td>2019.0</td>\n",
       "      <td>0.1622</td>\n",
       "      <td>0.6656</td>\n",
       "      <td>0.7119</td>\n",
       "      <td>0.2654</td>\n",
       "      <td>0.4601</td>\n",
       "      <td>0.11890</td>\n",
       "    </tr>\n",
       "    <tr>\n",
       "      <th>1</th>\n",
       "      <td>20.57</td>\n",
       "      <td>17.77</td>\n",
       "      <td>132.90</td>\n",
       "      <td>1326.0</td>\n",
       "      <td>0.08474</td>\n",
       "      <td>0.07864</td>\n",
       "      <td>0.0869</td>\n",
       "      <td>0.07017</td>\n",
       "      <td>0.1812</td>\n",
       "      <td>0.05667</td>\n",
       "      <td>...</td>\n",
       "      <td>24.99</td>\n",
       "      <td>23.41</td>\n",
       "      <td>158.80</td>\n",
       "      <td>1956.0</td>\n",
       "      <td>0.1238</td>\n",
       "      <td>0.1866</td>\n",
       "      <td>0.2416</td>\n",
       "      <td>0.1860</td>\n",
       "      <td>0.2750</td>\n",
       "      <td>0.08902</td>\n",
       "    </tr>\n",
       "    <tr>\n",
       "      <th>2</th>\n",
       "      <td>19.69</td>\n",
       "      <td>21.25</td>\n",
       "      <td>130.00</td>\n",
       "      <td>1203.0</td>\n",
       "      <td>0.10960</td>\n",
       "      <td>0.15990</td>\n",
       "      <td>0.1974</td>\n",
       "      <td>0.12790</td>\n",
       "      <td>0.2069</td>\n",
       "      <td>0.05999</td>\n",
       "      <td>...</td>\n",
       "      <td>23.57</td>\n",
       "      <td>25.53</td>\n",
       "      <td>152.50</td>\n",
       "      <td>1709.0</td>\n",
       "      <td>0.1444</td>\n",
       "      <td>0.4245</td>\n",
       "      <td>0.4504</td>\n",
       "      <td>0.2430</td>\n",
       "      <td>0.3613</td>\n",
       "      <td>0.08758</td>\n",
       "    </tr>\n",
       "    <tr>\n",
       "      <th>3</th>\n",
       "      <td>11.42</td>\n",
       "      <td>20.38</td>\n",
       "      <td>77.58</td>\n",
       "      <td>386.1</td>\n",
       "      <td>0.14250</td>\n",
       "      <td>0.28390</td>\n",
       "      <td>0.2414</td>\n",
       "      <td>0.10520</td>\n",
       "      <td>0.2597</td>\n",
       "      <td>0.09744</td>\n",
       "      <td>...</td>\n",
       "      <td>14.91</td>\n",
       "      <td>26.50</td>\n",
       "      <td>98.87</td>\n",
       "      <td>567.7</td>\n",
       "      <td>0.2098</td>\n",
       "      <td>0.8663</td>\n",
       "      <td>0.6869</td>\n",
       "      <td>0.2575</td>\n",
       "      <td>0.6638</td>\n",
       "      <td>0.17300</td>\n",
       "    </tr>\n",
       "    <tr>\n",
       "      <th>4</th>\n",
       "      <td>20.29</td>\n",
       "      <td>14.34</td>\n",
       "      <td>135.10</td>\n",
       "      <td>1297.0</td>\n",
       "      <td>0.10030</td>\n",
       "      <td>0.13280</td>\n",
       "      <td>0.1980</td>\n",
       "      <td>0.10430</td>\n",
       "      <td>0.1809</td>\n",
       "      <td>0.05883</td>\n",
       "      <td>...</td>\n",
       "      <td>22.54</td>\n",
       "      <td>16.67</td>\n",
       "      <td>152.20</td>\n",
       "      <td>1575.0</td>\n",
       "      <td>0.1374</td>\n",
       "      <td>0.2050</td>\n",
       "      <td>0.4000</td>\n",
       "      <td>0.1625</td>\n",
       "      <td>0.2364</td>\n",
       "      <td>0.07678</td>\n",
       "    </tr>\n",
       "  </tbody>\n",
       "</table>\n",
       "<p>5 rows × 30 columns</p>\n",
       "</div>"
      ],
      "text/plain": [
       "   mean radius  mean texture  mean perimeter  mean area  mean smoothness  \\\n",
       "0        17.99         10.38          122.80     1001.0          0.11840   \n",
       "1        20.57         17.77          132.90     1326.0          0.08474   \n",
       "2        19.69         21.25          130.00     1203.0          0.10960   \n",
       "3        11.42         20.38           77.58      386.1          0.14250   \n",
       "4        20.29         14.34          135.10     1297.0          0.10030   \n",
       "\n",
       "   mean compactness  mean concavity  mean concave points  mean symmetry  \\\n",
       "0           0.27760          0.3001              0.14710         0.2419   \n",
       "1           0.07864          0.0869              0.07017         0.1812   \n",
       "2           0.15990          0.1974              0.12790         0.2069   \n",
       "3           0.28390          0.2414              0.10520         0.2597   \n",
       "4           0.13280          0.1980              0.10430         0.1809   \n",
       "\n",
       "   mean fractal dimension  ...  worst radius  worst texture  worst perimeter  \\\n",
       "0                 0.07871  ...         25.38          17.33           184.60   \n",
       "1                 0.05667  ...         24.99          23.41           158.80   \n",
       "2                 0.05999  ...         23.57          25.53           152.50   \n",
       "3                 0.09744  ...         14.91          26.50            98.87   \n",
       "4                 0.05883  ...         22.54          16.67           152.20   \n",
       "\n",
       "   worst area  worst smoothness  worst compactness  worst concavity  \\\n",
       "0      2019.0            0.1622             0.6656           0.7119   \n",
       "1      1956.0            0.1238             0.1866           0.2416   \n",
       "2      1709.0            0.1444             0.4245           0.4504   \n",
       "3       567.7            0.2098             0.8663           0.6869   \n",
       "4      1575.0            0.1374             0.2050           0.4000   \n",
       "\n",
       "   worst concave points  worst symmetry  worst fractal dimension  \n",
       "0                0.2654          0.4601                  0.11890  \n",
       "1                0.1860          0.2750                  0.08902  \n",
       "2                0.2430          0.3613                  0.08758  \n",
       "3                0.2575          0.6638                  0.17300  \n",
       "4                0.1625          0.2364                  0.07678  \n",
       "\n",
       "[5 rows x 30 columns]"
      ]
     },
     "execution_count": 7,
     "metadata": {},
     "output_type": "execute_result"
    }
   ],
   "source": [
    "dataset.columns=df.feature_names\n",
    "dataset.head()"
   ]
  },
  {
   "cell_type": "code",
   "execution_count": 8,
   "metadata": {},
   "outputs": [
    {
     "data": {
      "text/html": [
       "<div>\n",
       "<style scoped>\n",
       "    .dataframe tbody tr th:only-of-type {\n",
       "        vertical-align: middle;\n",
       "    }\n",
       "\n",
       "    .dataframe tbody tr th {\n",
       "        vertical-align: top;\n",
       "    }\n",
       "\n",
       "    .dataframe thead th {\n",
       "        text-align: right;\n",
       "    }\n",
       "</style>\n",
       "<table border=\"1\" class=\"dataframe\">\n",
       "  <thead>\n",
       "    <tr style=\"text-align: right;\">\n",
       "      <th></th>\n",
       "      <th>mean radius</th>\n",
       "      <th>mean texture</th>\n",
       "      <th>mean perimeter</th>\n",
       "      <th>mean area</th>\n",
       "      <th>mean smoothness</th>\n",
       "      <th>mean compactness</th>\n",
       "      <th>mean concavity</th>\n",
       "      <th>mean concave points</th>\n",
       "      <th>mean symmetry</th>\n",
       "      <th>mean fractal dimension</th>\n",
       "      <th>...</th>\n",
       "      <th>worst radius</th>\n",
       "      <th>worst texture</th>\n",
       "      <th>worst perimeter</th>\n",
       "      <th>worst area</th>\n",
       "      <th>worst smoothness</th>\n",
       "      <th>worst compactness</th>\n",
       "      <th>worst concavity</th>\n",
       "      <th>worst concave points</th>\n",
       "      <th>worst symmetry</th>\n",
       "      <th>worst fractal dimension</th>\n",
       "    </tr>\n",
       "  </thead>\n",
       "  <tbody>\n",
       "    <tr>\n",
       "      <th>count</th>\n",
       "      <td>569.000000</td>\n",
       "      <td>569.000000</td>\n",
       "      <td>569.000000</td>\n",
       "      <td>569.000000</td>\n",
       "      <td>569.000000</td>\n",
       "      <td>569.000000</td>\n",
       "      <td>569.000000</td>\n",
       "      <td>569.000000</td>\n",
       "      <td>569.000000</td>\n",
       "      <td>569.000000</td>\n",
       "      <td>...</td>\n",
       "      <td>569.000000</td>\n",
       "      <td>569.000000</td>\n",
       "      <td>569.000000</td>\n",
       "      <td>569.000000</td>\n",
       "      <td>569.000000</td>\n",
       "      <td>569.000000</td>\n",
       "      <td>569.000000</td>\n",
       "      <td>569.000000</td>\n",
       "      <td>569.000000</td>\n",
       "      <td>569.000000</td>\n",
       "    </tr>\n",
       "    <tr>\n",
       "      <th>mean</th>\n",
       "      <td>14.127292</td>\n",
       "      <td>19.289649</td>\n",
       "      <td>91.969033</td>\n",
       "      <td>654.889104</td>\n",
       "      <td>0.096360</td>\n",
       "      <td>0.104341</td>\n",
       "      <td>0.088799</td>\n",
       "      <td>0.048919</td>\n",
       "      <td>0.181162</td>\n",
       "      <td>0.062798</td>\n",
       "      <td>...</td>\n",
       "      <td>16.269190</td>\n",
       "      <td>25.677223</td>\n",
       "      <td>107.261213</td>\n",
       "      <td>880.583128</td>\n",
       "      <td>0.132369</td>\n",
       "      <td>0.254265</td>\n",
       "      <td>0.272188</td>\n",
       "      <td>0.114606</td>\n",
       "      <td>0.290076</td>\n",
       "      <td>0.083946</td>\n",
       "    </tr>\n",
       "    <tr>\n",
       "      <th>std</th>\n",
       "      <td>3.524049</td>\n",
       "      <td>4.301036</td>\n",
       "      <td>24.298981</td>\n",
       "      <td>351.914129</td>\n",
       "      <td>0.014064</td>\n",
       "      <td>0.052813</td>\n",
       "      <td>0.079720</td>\n",
       "      <td>0.038803</td>\n",
       "      <td>0.027414</td>\n",
       "      <td>0.007060</td>\n",
       "      <td>...</td>\n",
       "      <td>4.833242</td>\n",
       "      <td>6.146258</td>\n",
       "      <td>33.602542</td>\n",
       "      <td>569.356993</td>\n",
       "      <td>0.022832</td>\n",
       "      <td>0.157336</td>\n",
       "      <td>0.208624</td>\n",
       "      <td>0.065732</td>\n",
       "      <td>0.061867</td>\n",
       "      <td>0.018061</td>\n",
       "    </tr>\n",
       "    <tr>\n",
       "      <th>min</th>\n",
       "      <td>6.981000</td>\n",
       "      <td>9.710000</td>\n",
       "      <td>43.790000</td>\n",
       "      <td>143.500000</td>\n",
       "      <td>0.052630</td>\n",
       "      <td>0.019380</td>\n",
       "      <td>0.000000</td>\n",
       "      <td>0.000000</td>\n",
       "      <td>0.106000</td>\n",
       "      <td>0.049960</td>\n",
       "      <td>...</td>\n",
       "      <td>7.930000</td>\n",
       "      <td>12.020000</td>\n",
       "      <td>50.410000</td>\n",
       "      <td>185.200000</td>\n",
       "      <td>0.071170</td>\n",
       "      <td>0.027290</td>\n",
       "      <td>0.000000</td>\n",
       "      <td>0.000000</td>\n",
       "      <td>0.156500</td>\n",
       "      <td>0.055040</td>\n",
       "    </tr>\n",
       "    <tr>\n",
       "      <th>25%</th>\n",
       "      <td>11.700000</td>\n",
       "      <td>16.170000</td>\n",
       "      <td>75.170000</td>\n",
       "      <td>420.300000</td>\n",
       "      <td>0.086370</td>\n",
       "      <td>0.064920</td>\n",
       "      <td>0.029560</td>\n",
       "      <td>0.020310</td>\n",
       "      <td>0.161900</td>\n",
       "      <td>0.057700</td>\n",
       "      <td>...</td>\n",
       "      <td>13.010000</td>\n",
       "      <td>21.080000</td>\n",
       "      <td>84.110000</td>\n",
       "      <td>515.300000</td>\n",
       "      <td>0.116600</td>\n",
       "      <td>0.147200</td>\n",
       "      <td>0.114500</td>\n",
       "      <td>0.064930</td>\n",
       "      <td>0.250400</td>\n",
       "      <td>0.071460</td>\n",
       "    </tr>\n",
       "    <tr>\n",
       "      <th>50%</th>\n",
       "      <td>13.370000</td>\n",
       "      <td>18.840000</td>\n",
       "      <td>86.240000</td>\n",
       "      <td>551.100000</td>\n",
       "      <td>0.095870</td>\n",
       "      <td>0.092630</td>\n",
       "      <td>0.061540</td>\n",
       "      <td>0.033500</td>\n",
       "      <td>0.179200</td>\n",
       "      <td>0.061540</td>\n",
       "      <td>...</td>\n",
       "      <td>14.970000</td>\n",
       "      <td>25.410000</td>\n",
       "      <td>97.660000</td>\n",
       "      <td>686.500000</td>\n",
       "      <td>0.131300</td>\n",
       "      <td>0.211900</td>\n",
       "      <td>0.226700</td>\n",
       "      <td>0.099930</td>\n",
       "      <td>0.282200</td>\n",
       "      <td>0.080040</td>\n",
       "    </tr>\n",
       "    <tr>\n",
       "      <th>75%</th>\n",
       "      <td>15.780000</td>\n",
       "      <td>21.800000</td>\n",
       "      <td>104.100000</td>\n",
       "      <td>782.700000</td>\n",
       "      <td>0.105300</td>\n",
       "      <td>0.130400</td>\n",
       "      <td>0.130700</td>\n",
       "      <td>0.074000</td>\n",
       "      <td>0.195700</td>\n",
       "      <td>0.066120</td>\n",
       "      <td>...</td>\n",
       "      <td>18.790000</td>\n",
       "      <td>29.720000</td>\n",
       "      <td>125.400000</td>\n",
       "      <td>1084.000000</td>\n",
       "      <td>0.146000</td>\n",
       "      <td>0.339100</td>\n",
       "      <td>0.382900</td>\n",
       "      <td>0.161400</td>\n",
       "      <td>0.317900</td>\n",
       "      <td>0.092080</td>\n",
       "    </tr>\n",
       "    <tr>\n",
       "      <th>max</th>\n",
       "      <td>28.110000</td>\n",
       "      <td>39.280000</td>\n",
       "      <td>188.500000</td>\n",
       "      <td>2501.000000</td>\n",
       "      <td>0.163400</td>\n",
       "      <td>0.345400</td>\n",
       "      <td>0.426800</td>\n",
       "      <td>0.201200</td>\n",
       "      <td>0.304000</td>\n",
       "      <td>0.097440</td>\n",
       "      <td>...</td>\n",
       "      <td>36.040000</td>\n",
       "      <td>49.540000</td>\n",
       "      <td>251.200000</td>\n",
       "      <td>4254.000000</td>\n",
       "      <td>0.222600</td>\n",
       "      <td>1.058000</td>\n",
       "      <td>1.252000</td>\n",
       "      <td>0.291000</td>\n",
       "      <td>0.663800</td>\n",
       "      <td>0.207500</td>\n",
       "    </tr>\n",
       "  </tbody>\n",
       "</table>\n",
       "<p>8 rows × 30 columns</p>\n",
       "</div>"
      ],
      "text/plain": [
       "       mean radius  mean texture  mean perimeter    mean area  \\\n",
       "count   569.000000    569.000000      569.000000   569.000000   \n",
       "mean     14.127292     19.289649       91.969033   654.889104   \n",
       "std       3.524049      4.301036       24.298981   351.914129   \n",
       "min       6.981000      9.710000       43.790000   143.500000   \n",
       "25%      11.700000     16.170000       75.170000   420.300000   \n",
       "50%      13.370000     18.840000       86.240000   551.100000   \n",
       "75%      15.780000     21.800000      104.100000   782.700000   \n",
       "max      28.110000     39.280000      188.500000  2501.000000   \n",
       "\n",
       "       mean smoothness  mean compactness  mean concavity  mean concave points  \\\n",
       "count       569.000000        569.000000      569.000000           569.000000   \n",
       "mean          0.096360          0.104341        0.088799             0.048919   \n",
       "std           0.014064          0.052813        0.079720             0.038803   \n",
       "min           0.052630          0.019380        0.000000             0.000000   \n",
       "25%           0.086370          0.064920        0.029560             0.020310   \n",
       "50%           0.095870          0.092630        0.061540             0.033500   \n",
       "75%           0.105300          0.130400        0.130700             0.074000   \n",
       "max           0.163400          0.345400        0.426800             0.201200   \n",
       "\n",
       "       mean symmetry  mean fractal dimension  ...  worst radius  \\\n",
       "count     569.000000              569.000000  ...    569.000000   \n",
       "mean        0.181162                0.062798  ...     16.269190   \n",
       "std         0.027414                0.007060  ...      4.833242   \n",
       "min         0.106000                0.049960  ...      7.930000   \n",
       "25%         0.161900                0.057700  ...     13.010000   \n",
       "50%         0.179200                0.061540  ...     14.970000   \n",
       "75%         0.195700                0.066120  ...     18.790000   \n",
       "max         0.304000                0.097440  ...     36.040000   \n",
       "\n",
       "       worst texture  worst perimeter   worst area  worst smoothness  \\\n",
       "count     569.000000       569.000000   569.000000        569.000000   \n",
       "mean       25.677223       107.261213   880.583128          0.132369   \n",
       "std         6.146258        33.602542   569.356993          0.022832   \n",
       "min        12.020000        50.410000   185.200000          0.071170   \n",
       "25%        21.080000        84.110000   515.300000          0.116600   \n",
       "50%        25.410000        97.660000   686.500000          0.131300   \n",
       "75%        29.720000       125.400000  1084.000000          0.146000   \n",
       "max        49.540000       251.200000  4254.000000          0.222600   \n",
       "\n",
       "       worst compactness  worst concavity  worst concave points  \\\n",
       "count         569.000000       569.000000            569.000000   \n",
       "mean            0.254265         0.272188              0.114606   \n",
       "std             0.157336         0.208624              0.065732   \n",
       "min             0.027290         0.000000              0.000000   \n",
       "25%             0.147200         0.114500              0.064930   \n",
       "50%             0.211900         0.226700              0.099930   \n",
       "75%             0.339100         0.382900              0.161400   \n",
       "max             1.058000         1.252000              0.291000   \n",
       "\n",
       "       worst symmetry  worst fractal dimension  \n",
       "count      569.000000               569.000000  \n",
       "mean         0.290076                 0.083946  \n",
       "std          0.061867                 0.018061  \n",
       "min          0.156500                 0.055040  \n",
       "25%          0.250400                 0.071460  \n",
       "50%          0.282200                 0.080040  \n",
       "75%          0.317900                 0.092080  \n",
       "max          0.663800                 0.207500  \n",
       "\n",
       "[8 rows x 30 columns]"
      ]
     },
     "execution_count": 8,
     "metadata": {},
     "output_type": "execute_result"
    }
   ],
   "source": [
    "dataset.describe()"
   ]
  },
  {
   "cell_type": "code",
   "execution_count": 9,
   "metadata": {
    "scrolled": true
   },
   "outputs": [
    {
     "name": "stdout",
     "output_type": "stream",
     "text": [
      "<class 'pandas.core.frame.DataFrame'>\n",
      "RangeIndex: 569 entries, 0 to 568\n",
      "Data columns (total 30 columns):\n",
      " #   Column                   Non-Null Count  Dtype  \n",
      "---  ------                   --------------  -----  \n",
      " 0   mean radius              569 non-null    float64\n",
      " 1   mean texture             569 non-null    float64\n",
      " 2   mean perimeter           569 non-null    float64\n",
      " 3   mean area                569 non-null    float64\n",
      " 4   mean smoothness          569 non-null    float64\n",
      " 5   mean compactness         569 non-null    float64\n",
      " 6   mean concavity           569 non-null    float64\n",
      " 7   mean concave points      569 non-null    float64\n",
      " 8   mean symmetry            569 non-null    float64\n",
      " 9   mean fractal dimension   569 non-null    float64\n",
      " 10  radius error             569 non-null    float64\n",
      " 11  texture error            569 non-null    float64\n",
      " 12  perimeter error          569 non-null    float64\n",
      " 13  area error               569 non-null    float64\n",
      " 14  smoothness error         569 non-null    float64\n",
      " 15  compactness error        569 non-null    float64\n",
      " 16  concavity error          569 non-null    float64\n",
      " 17  concave points error     569 non-null    float64\n",
      " 18  symmetry error           569 non-null    float64\n",
      " 19  fractal dimension error  569 non-null    float64\n",
      " 20  worst radius             569 non-null    float64\n",
      " 21  worst texture            569 non-null    float64\n",
      " 22  worst perimeter          569 non-null    float64\n",
      " 23  worst area               569 non-null    float64\n",
      " 24  worst smoothness         569 non-null    float64\n",
      " 25  worst compactness        569 non-null    float64\n",
      " 26  worst concavity          569 non-null    float64\n",
      " 27  worst concave points     569 non-null    float64\n",
      " 28  worst symmetry           569 non-null    float64\n",
      " 29  worst fractal dimension  569 non-null    float64\n",
      "dtypes: float64(30)\n",
      "memory usage: 133.5 KB\n"
     ]
    }
   ],
   "source": [
    "dataset.info()"
   ]
  },
  {
   "cell_type": "code",
   "execution_count": 10,
   "metadata": {
    "scrolled": true
   },
   "outputs": [
    {
     "data": {
      "text/plain": [
       "mean radius                0.942380\n",
       "mean texture               0.650450\n",
       "mean perimeter             0.990650\n",
       "mean area                  1.645732\n",
       "mean smoothness            0.456324\n",
       "mean compactness           1.190123\n",
       "mean concavity             1.401180\n",
       "mean concave points        1.171180\n",
       "mean symmetry              0.725609\n",
       "mean fractal dimension     1.304489\n",
       "radius error               3.088612\n",
       "texture error              1.646444\n",
       "perimeter error            3.443615\n",
       "area error                 5.447186\n",
       "smoothness error           2.314450\n",
       "compactness error          1.902221\n",
       "concavity error            5.110463\n",
       "concave points error       1.444678\n",
       "symmetry error             2.195133\n",
       "fractal dimension error    3.923969\n",
       "worst radius               1.103115\n",
       "worst texture              0.498321\n",
       "worst perimeter            1.128164\n",
       "worst area                 1.859373\n",
       "worst smoothness           0.415426\n",
       "worst compactness          1.473555\n",
       "worst concavity            1.150237\n",
       "worst concave points       0.492616\n",
       "worst symmetry             1.433928\n",
       "worst fractal dimension    1.662579\n",
       "dtype: float64"
      ]
     },
     "execution_count": 10,
     "metadata": {},
     "output_type": "execute_result"
    }
   ],
   "source": [
    "dataset.skew()"
   ]
  },
  {
   "cell_type": "code",
   "execution_count": 11,
   "metadata": {},
   "outputs": [
    {
     "data": {
      "text/plain": [
       "array(['malignant', 'benign'], dtype='<U9')"
      ]
     },
     "execution_count": 11,
     "metadata": {},
     "output_type": "execute_result"
    }
   ],
   "source": [
    "df.target_names"
   ]
  },
  {
   "cell_type": "code",
   "execution_count": 12,
   "metadata": {},
   "outputs": [],
   "source": [
    "dataset['Cancer_type']=df.target"
   ]
  },
  {
   "cell_type": "code",
   "execution_count": 13,
   "metadata": {},
   "outputs": [
    {
     "data": {
      "text/html": [
       "<div>\n",
       "<style scoped>\n",
       "    .dataframe tbody tr th:only-of-type {\n",
       "        vertical-align: middle;\n",
       "    }\n",
       "\n",
       "    .dataframe tbody tr th {\n",
       "        vertical-align: top;\n",
       "    }\n",
       "\n",
       "    .dataframe thead th {\n",
       "        text-align: right;\n",
       "    }\n",
       "</style>\n",
       "<table border=\"1\" class=\"dataframe\">\n",
       "  <thead>\n",
       "    <tr style=\"text-align: right;\">\n",
       "      <th></th>\n",
       "      <th>mean radius</th>\n",
       "      <th>mean texture</th>\n",
       "      <th>mean perimeter</th>\n",
       "      <th>mean area</th>\n",
       "      <th>mean smoothness</th>\n",
       "      <th>mean compactness</th>\n",
       "      <th>mean concavity</th>\n",
       "      <th>mean concave points</th>\n",
       "      <th>mean symmetry</th>\n",
       "      <th>mean fractal dimension</th>\n",
       "      <th>...</th>\n",
       "      <th>worst texture</th>\n",
       "      <th>worst perimeter</th>\n",
       "      <th>worst area</th>\n",
       "      <th>worst smoothness</th>\n",
       "      <th>worst compactness</th>\n",
       "      <th>worst concavity</th>\n",
       "      <th>worst concave points</th>\n",
       "      <th>worst symmetry</th>\n",
       "      <th>worst fractal dimension</th>\n",
       "      <th>Cancer_type</th>\n",
       "    </tr>\n",
       "  </thead>\n",
       "  <tbody>\n",
       "    <tr>\n",
       "      <th>0</th>\n",
       "      <td>17.99</td>\n",
       "      <td>10.38</td>\n",
       "      <td>122.80</td>\n",
       "      <td>1001.0</td>\n",
       "      <td>0.11840</td>\n",
       "      <td>0.27760</td>\n",
       "      <td>0.3001</td>\n",
       "      <td>0.14710</td>\n",
       "      <td>0.2419</td>\n",
       "      <td>0.07871</td>\n",
       "      <td>...</td>\n",
       "      <td>17.33</td>\n",
       "      <td>184.60</td>\n",
       "      <td>2019.0</td>\n",
       "      <td>0.1622</td>\n",
       "      <td>0.6656</td>\n",
       "      <td>0.7119</td>\n",
       "      <td>0.2654</td>\n",
       "      <td>0.4601</td>\n",
       "      <td>0.11890</td>\n",
       "      <td>0</td>\n",
       "    </tr>\n",
       "    <tr>\n",
       "      <th>1</th>\n",
       "      <td>20.57</td>\n",
       "      <td>17.77</td>\n",
       "      <td>132.90</td>\n",
       "      <td>1326.0</td>\n",
       "      <td>0.08474</td>\n",
       "      <td>0.07864</td>\n",
       "      <td>0.0869</td>\n",
       "      <td>0.07017</td>\n",
       "      <td>0.1812</td>\n",
       "      <td>0.05667</td>\n",
       "      <td>...</td>\n",
       "      <td>23.41</td>\n",
       "      <td>158.80</td>\n",
       "      <td>1956.0</td>\n",
       "      <td>0.1238</td>\n",
       "      <td>0.1866</td>\n",
       "      <td>0.2416</td>\n",
       "      <td>0.1860</td>\n",
       "      <td>0.2750</td>\n",
       "      <td>0.08902</td>\n",
       "      <td>0</td>\n",
       "    </tr>\n",
       "    <tr>\n",
       "      <th>2</th>\n",
       "      <td>19.69</td>\n",
       "      <td>21.25</td>\n",
       "      <td>130.00</td>\n",
       "      <td>1203.0</td>\n",
       "      <td>0.10960</td>\n",
       "      <td>0.15990</td>\n",
       "      <td>0.1974</td>\n",
       "      <td>0.12790</td>\n",
       "      <td>0.2069</td>\n",
       "      <td>0.05999</td>\n",
       "      <td>...</td>\n",
       "      <td>25.53</td>\n",
       "      <td>152.50</td>\n",
       "      <td>1709.0</td>\n",
       "      <td>0.1444</td>\n",
       "      <td>0.4245</td>\n",
       "      <td>0.4504</td>\n",
       "      <td>0.2430</td>\n",
       "      <td>0.3613</td>\n",
       "      <td>0.08758</td>\n",
       "      <td>0</td>\n",
       "    </tr>\n",
       "    <tr>\n",
       "      <th>3</th>\n",
       "      <td>11.42</td>\n",
       "      <td>20.38</td>\n",
       "      <td>77.58</td>\n",
       "      <td>386.1</td>\n",
       "      <td>0.14250</td>\n",
       "      <td>0.28390</td>\n",
       "      <td>0.2414</td>\n",
       "      <td>0.10520</td>\n",
       "      <td>0.2597</td>\n",
       "      <td>0.09744</td>\n",
       "      <td>...</td>\n",
       "      <td>26.50</td>\n",
       "      <td>98.87</td>\n",
       "      <td>567.7</td>\n",
       "      <td>0.2098</td>\n",
       "      <td>0.8663</td>\n",
       "      <td>0.6869</td>\n",
       "      <td>0.2575</td>\n",
       "      <td>0.6638</td>\n",
       "      <td>0.17300</td>\n",
       "      <td>0</td>\n",
       "    </tr>\n",
       "    <tr>\n",
       "      <th>4</th>\n",
       "      <td>20.29</td>\n",
       "      <td>14.34</td>\n",
       "      <td>135.10</td>\n",
       "      <td>1297.0</td>\n",
       "      <td>0.10030</td>\n",
       "      <td>0.13280</td>\n",
       "      <td>0.1980</td>\n",
       "      <td>0.10430</td>\n",
       "      <td>0.1809</td>\n",
       "      <td>0.05883</td>\n",
       "      <td>...</td>\n",
       "      <td>16.67</td>\n",
       "      <td>152.20</td>\n",
       "      <td>1575.0</td>\n",
       "      <td>0.1374</td>\n",
       "      <td>0.2050</td>\n",
       "      <td>0.4000</td>\n",
       "      <td>0.1625</td>\n",
       "      <td>0.2364</td>\n",
       "      <td>0.07678</td>\n",
       "      <td>0</td>\n",
       "    </tr>\n",
       "  </tbody>\n",
       "</table>\n",
       "<p>5 rows × 31 columns</p>\n",
       "</div>"
      ],
      "text/plain": [
       "   mean radius  mean texture  mean perimeter  mean area  mean smoothness  \\\n",
       "0        17.99         10.38          122.80     1001.0          0.11840   \n",
       "1        20.57         17.77          132.90     1326.0          0.08474   \n",
       "2        19.69         21.25          130.00     1203.0          0.10960   \n",
       "3        11.42         20.38           77.58      386.1          0.14250   \n",
       "4        20.29         14.34          135.10     1297.0          0.10030   \n",
       "\n",
       "   mean compactness  mean concavity  mean concave points  mean symmetry  \\\n",
       "0           0.27760          0.3001              0.14710         0.2419   \n",
       "1           0.07864          0.0869              0.07017         0.1812   \n",
       "2           0.15990          0.1974              0.12790         0.2069   \n",
       "3           0.28390          0.2414              0.10520         0.2597   \n",
       "4           0.13280          0.1980              0.10430         0.1809   \n",
       "\n",
       "   mean fractal dimension  ...  worst texture  worst perimeter  worst area  \\\n",
       "0                 0.07871  ...          17.33           184.60      2019.0   \n",
       "1                 0.05667  ...          23.41           158.80      1956.0   \n",
       "2                 0.05999  ...          25.53           152.50      1709.0   \n",
       "3                 0.09744  ...          26.50            98.87       567.7   \n",
       "4                 0.05883  ...          16.67           152.20      1575.0   \n",
       "\n",
       "   worst smoothness  worst compactness  worst concavity  worst concave points  \\\n",
       "0            0.1622             0.6656           0.7119                0.2654   \n",
       "1            0.1238             0.1866           0.2416                0.1860   \n",
       "2            0.1444             0.4245           0.4504                0.2430   \n",
       "3            0.2098             0.8663           0.6869                0.2575   \n",
       "4            0.1374             0.2050           0.4000                0.1625   \n",
       "\n",
       "   worst symmetry  worst fractal dimension  Cancer_type  \n",
       "0          0.4601                  0.11890            0  \n",
       "1          0.2750                  0.08902            0  \n",
       "2          0.3613                  0.08758            0  \n",
       "3          0.6638                  0.17300            0  \n",
       "4          0.2364                  0.07678            0  \n",
       "\n",
       "[5 rows x 31 columns]"
      ]
     },
     "execution_count": 13,
     "metadata": {},
     "output_type": "execute_result"
    }
   ],
   "source": [
    "dataset.head()"
   ]
  },
  {
   "cell_type": "code",
   "execution_count": 14,
   "metadata": {},
   "outputs": [
    {
     "data": {
      "text/plain": [
       "2"
      ]
     },
     "execution_count": 14,
     "metadata": {},
     "output_type": "execute_result"
    }
   ],
   "source": [
    "dataset['Cancer_type'].nunique()"
   ]
  },
  {
   "cell_type": "code",
   "execution_count": 15,
   "metadata": {
    "scrolled": true
   },
   "outputs": [
    {
     "data": {
      "text/plain": [
       "<matplotlib.axes._subplots.AxesSubplot at 0x23be1db3d88>"
      ]
     },
     "execution_count": 15,
     "metadata": {},
     "output_type": "execute_result"
    },
    {
     "data": {
      "image/png": "[encoded data removed]",
      "text/plain": [
       "<Figure size 432x288 with 1 Axes>"
      ]
     },
     "metadata": {},
     "output_type": "display_data"
    }
   ],
   "source": [
    "sns.countplot(dataset['Cancer_type'])"
   ]
  },
  {
   "cell_type": "code",
   "execution_count": 16,
   "metadata": {},
   "outputs": [],
   "source": [
    "dataset_class_0=dataset[dataset['Cancer_type']==0]\n",
    "dataset_class_1=dataset[dataset['Cancer_type']==1]"
   ]
  },
  {
   "cell_type": "code",
   "execution_count": 17,
   "metadata": {},
   "outputs": [
    {
     "data": {
      "text/plain": [
       "212"
      ]
     },
     "execution_count": 17,
     "metadata": {},
     "output_type": "execute_result"
    }
   ],
   "source": [
    "len(dataset_class_0)"
   ]
  },
  {
   "cell_type": "code",
   "execution_count": 18,
   "metadata": {
    "scrolled": true
   },
   "outputs": [
    {
     "data": {
      "text/plain": [
       "worst concave points      -0.793566\n",
       "worst perimeter           -0.782914\n",
       "mean concave points       -0.776614\n",
       "worst radius              -0.776454\n",
       "mean perimeter            -0.742636\n",
       "worst area                -0.733825\n",
       "mean radius               -0.730029\n",
       "mean area                 -0.708984\n",
       "mean concavity            -0.696360\n",
       "worst concavity           -0.659610\n",
       "mean compactness          -0.596534\n",
       "worst compactness         -0.590998\n",
       "radius error              -0.567134\n",
       "perimeter error           -0.556141\n",
       "area error                -0.548236\n",
       "worst texture             -0.456903\n",
       "worst smoothness          -0.421465\n",
       "worst symmetry            -0.416294\n",
       "mean texture              -0.415185\n",
       "concave points error      -0.408042\n",
       "mean smoothness           -0.358560\n",
       "mean symmetry             -0.330499\n",
       "worst fractal dimension   -0.323872\n",
       "compactness error         -0.292999\n",
       "concavity error           -0.253730\n",
       "fractal dimension error   -0.077972\n",
       "symmetry error             0.006522\n",
       "texture error              0.008303\n",
       "mean fractal dimension     0.012838\n",
       "smoothness error           0.067016\n",
       "Cancer_type                1.000000\n",
       "Name: Cancer_type, dtype: float64"
      ]
     },
     "execution_count": 18,
     "metadata": {},
     "output_type": "execute_result"
    }
   ],
   "source": [
    "dataset.corr()['Cancer_type'].sort_values()"
   ]
  },
  {
   "cell_type": "code",
   "execution_count": 19,
   "metadata": {},
   "outputs": [
    {
     "data": {
      "text/plain": [
       "<matplotlib.axes._subplots.AxesSubplot at 0x23be33ff2c8>"
      ]
     },
     "execution_count": 19,
     "metadata": {},
     "output_type": "execute_result"
    },
    {
     "data": {
      "image/png": "[encoded data removed]",
      "text/plain": [
       "<Figure size 432x288 with 1 Axes>"
      ]
     },
     "metadata": {},
     "output_type": "display_data"
    }
   ],
   "source": [
    "dataset.corr()['Cancer_type'][:-1].sort_values().plot(kind='bar')"
   ]
  },
  {
   "cell_type": "code",
   "execution_count": 20,
   "metadata": {},
   "outputs": [
    {
     "data": {
      "text/plain": [
       "(212, 31)"
      ]
     },
     "execution_count": 20,
     "metadata": {},
     "output_type": "execute_result"
    }
   ],
   "source": [
    "dataset_class_0.shape"
   ]
  },
  {
   "cell_type": "code",
   "execution_count": 21,
   "metadata": {},
   "outputs": [
    {
     "data": {
      "text/plain": [
       "(357, 31)"
      ]
     },
     "execution_count": 21,
     "metadata": {},
     "output_type": "execute_result"
    }
   ],
   "source": [
    "dataset_class_1.shape"
   ]
  },
  {
   "cell_type": "code",
   "execution_count": 22,
   "metadata": {},
   "outputs": [],
   "source": [
    "x=dataset.drop('Cancer_type',axis=1).values\n",
    "y=dataset['Cancer_type'].values"
   ]
  },
  {
   "cell_type": "code",
   "execution_count": 23,
   "metadata": {},
   "outputs": [],
   "source": [
    "from imblearn.over_sampling import SMOTE"
   ]
  },
  {
   "cell_type": "code",
   "execution_count": 24,
   "metadata": {
    "scrolled": true
   },
   "outputs": [],
   "source": [
    "smote=SMOTE(sampling_strategy='minority')\n",
    "x_sm,y_sm=smote.fit_sample(x,y)\n"
   ]
  },
  {
   "cell_type": "code",
   "execution_count": 25,
   "metadata": {},
   "outputs": [
    {
     "data": {
      "text/plain": [
       "(714, 30)"
      ]
     },
     "execution_count": 25,
     "metadata": {},
     "output_type": "execute_result"
    }
   ],
   "source": [
    "x_sm.shape"
   ]
  },
  {
   "cell_type": "code",
   "execution_count": 26,
   "metadata": {},
   "outputs": [],
   "source": [
    "from sklearn.model_selection import train_test_split\n",
    "x_train,x_test,y_train,y_test=train_test_split(x_sm,y_sm,test_size=0.2,random_state=15,stratify=y_sm)"
   ]
  },
  {
   "cell_type": "code",
   "execution_count": 27,
   "metadata": {
    "scrolled": true
   },
   "outputs": [
    {
     "data": {
      "text/plain": [
       "(571,)"
      ]
     },
     "execution_count": 27,
     "metadata": {},
     "output_type": "execute_result"
    }
   ],
   "source": [
    "y_train.shape"
   ]
  },
  {
   "cell_type": "code",
   "execution_count": 28,
   "metadata": {},
   "outputs": [
    {
     "data": {
      "text/plain": [
       "(143,)"
      ]
     },
     "execution_count": 28,
     "metadata": {},
     "output_type": "execute_result"
    }
   ],
   "source": [
    "y_test.shape"
   ]
  },
  {
   "cell_type": "code",
   "execution_count": 29,
   "metadata": {},
   "outputs": [],
   "source": [
    "from sklearn.preprocessing import MinMaxScaler\n",
    "scaler=MinMaxScaler()"
   ]
  },
  {
   "cell_type": "code",
   "execution_count": 30,
   "metadata": {},
   "outputs": [],
   "source": [
    "x_train=scaler.fit_transform(x_train)\n",
    "x_test=scaler.transform(x_test)"
   ]
  },
  {
   "cell_type": "code",
   "execution_count": 31,
   "metadata": {},
   "outputs": [
    {
     "data": {
      "text/plain": [
       "array([[0.21984426, 0.27494082, 0.21247688, ..., 0.20213058, 0.13049478,\n",
       "        0.1227863 ],\n",
       "       [0.25314658, 0.28035171, 0.25088917, ..., 0.27237113, 0.23930613,\n",
       "        0.15833661],\n",
       "       [0.08394143, 0.40547853, 0.08308436, ..., 0.12955326, 0.25763848,\n",
       "        0.18365473],\n",
       "       ...,\n",
       "       [0.43889523, 0.38672162, 0.44724742, ..., 0.51909156, 0.15705622,\n",
       "        0.2487499 ],\n",
       "       [0.23306724, 0.20257017, 0.24647887, ..., 0.59828179, 0.47703528,\n",
       "        0.454939  ],\n",
       "       [0.32588972, 0.40251004, 0.32698114, ..., 0.46562684, 0.35271098,\n",
       "        0.21451757]])"
      ]
     },
     "execution_count": 31,
     "metadata": {},
     "output_type": "execute_result"
    }
   ],
   "source": [
    "x_train"
   ]
  },
  {
   "cell_type": "code",
   "execution_count": 32,
   "metadata": {},
   "outputs": [],
   "source": [
    "from tensorflow.keras.models import Sequential\n",
    "from tensorflow.keras.layers import Dense"
   ]
  },
  {
   "cell_type": "code",
   "execution_count": 33,
   "metadata": {},
   "outputs": [
    {
     "data": {
      "text/plain": [
       "(571, 30)"
      ]
     },
     "execution_count": 33,
     "metadata": {},
     "output_type": "execute_result"
    }
   ],
   "source": [
    "x_train.shape"
   ]
  },
  {
   "cell_type": "code",
   "execution_count": 34,
   "metadata": {},
   "outputs": [
    {
     "data": {
      "text/plain": [
       "(571,)"
      ]
     },
     "execution_count": 34,
     "metadata": {},
     "output_type": "execute_result"
    }
   ],
   "source": [
    "y_train.shape"
   ]
  },
  {
   "cell_type": "code",
   "execution_count": 35,
   "metadata": {},
   "outputs": [
    {
     "data": {
      "text/plain": [
       "(143, 30)"
      ]
     },
     "execution_count": 35,
     "metadata": {},
     "output_type": "execute_result"
    }
   ],
   "source": [
    "x_test.shape"
   ]
  },
  {
   "cell_type": "code",
   "execution_count": 37,
   "metadata": {},
   "outputs": [],
   "source": [
    "model=Sequential()\n",
    "model.add(Dense(30,activation='relu'))\n",
    "model.add(Dense(15,activation='relu'))\n",
    "model.add(Dense(1,activation='sigmoid'))\n",
    "\n",
    "model.compile(loss='binary_crossentropy',optimizer='adam',metrics=['accuracy'])"
   ]
  },
  {
   "cell_type": "code",
   "execution_count": 38,
   "metadata": {},
   "outputs": [
    {
     "name": "stdout",
     "output_type": "stream",
     "text": [
      "Train on 571 samples, validate on 143 samples\n",
      "Epoch 1/100\n",
      "571/571 [==============================] - 1s 988us/sample - loss: 0.6734 - accuracy: 0.5832 - val_loss: 0.6568 - val_accuracy: 0.6084\n",
      "Epoch 2/100\n",
      "571/571 [==============================] - 0s 51us/sample - loss: 0.6439 - accuracy: 0.7110 - val_loss: 0.6267 - val_accuracy: 0.7413\n",
      "Epoch 3/100\n",
      "571/571 [==============================] - 0s 51us/sample - loss: 0.6111 - accuracy: 0.8091 - val_loss: 0.5851 - val_accuracy: 0.8811\n",
      "Epoch 4/100\n",
      "571/571 [==============================] - 0s 53us/sample - loss: 0.5652 - accuracy: 0.8581 - val_loss: 0.5297 - val_accuracy: 0.9091\n",
      "Epoch 5/100\n",
      "571/571 [==============================] - 0s 51us/sample - loss: 0.5083 - accuracy: 0.8862 - val_loss: 0.4608 - val_accuracy: 0.9231\n",
      "Epoch 6/100\n",
      "571/571 [==============================] - 0s 49us/sample - loss: 0.4423 - accuracy: 0.8967 - val_loss: 0.3925 - val_accuracy: 0.9371\n",
      "Epoch 7/100\n",
      "571/571 [==============================] - 0s 47us/sample - loss: 0.3814 - accuracy: 0.9019 - val_loss: 0.3258 - val_accuracy: 0.9371\n",
      "Epoch 8/100\n",
      "571/571 [==============================] - 0s 47us/sample - loss: 0.3237 - accuracy: 0.9089 - val_loss: 0.2728 - val_accuracy: 0.9371\n",
      "Epoch 9/100\n",
      "571/571 [==============================] - 0s 48us/sample - loss: 0.2840 - accuracy: 0.9142 - val_loss: 0.2359 - val_accuracy: 0.9510\n",
      "Epoch 10/100\n",
      "571/571 [==============================] - 0s 49us/sample - loss: 0.2543 - accuracy: 0.9159 - val_loss: 0.2054 - val_accuracy: 0.9580\n",
      "Epoch 11/100\n",
      "571/571 [==============================] - 0s 47us/sample - loss: 0.2314 - accuracy: 0.9194 - val_loss: 0.1833 - val_accuracy: 0.9441\n",
      "Epoch 12/100\n",
      "571/571 [==============================] - 0s 49us/sample - loss: 0.2119 - accuracy: 0.9264 - val_loss: 0.1661 - val_accuracy: 0.9510\n",
      "Epoch 13/100\n",
      "571/571 [==============================] - 0s 51us/sample - loss: 0.1975 - accuracy: 0.9247 - val_loss: 0.1516 - val_accuracy: 0.9580\n",
      "Epoch 14/100\n",
      "571/571 [==============================] - 0s 49us/sample - loss: 0.1843 - accuracy: 0.9387 - val_loss: 0.1404 - val_accuracy: 0.9510\n",
      "Epoch 15/100\n",
      "571/571 [==============================] - 0s 49us/sample - loss: 0.1730 - accuracy: 0.9370 - val_loss: 0.1283 - val_accuracy: 0.9720\n",
      "Epoch 16/100\n",
      "571/571 [==============================] - 0s 50us/sample - loss: 0.1631 - accuracy: 0.9370 - val_loss: 0.1191 - val_accuracy: 0.9720\n",
      "Epoch 17/100\n",
      "571/571 [==============================] - 0s 47us/sample - loss: 0.1536 - accuracy: 0.9422 - val_loss: 0.1114 - val_accuracy: 0.9720\n",
      "Epoch 18/100\n",
      "571/571 [==============================] - 0s 46us/sample - loss: 0.1475 - accuracy: 0.9440 - val_loss: 0.1078 - val_accuracy: 0.9720\n",
      "Epoch 19/100\n",
      "571/571 [==============================] - 0s 53us/sample - loss: 0.1382 - accuracy: 0.9457 - val_loss: 0.0996 - val_accuracy: 0.9930\n",
      "Epoch 20/100\n",
      "571/571 [==============================] - 0s 49us/sample - loss: 0.1346 - accuracy: 0.9475 - val_loss: 0.0959 - val_accuracy: 0.9720\n",
      "Epoch 21/100\n",
      "571/571 [==============================] - 0s 47us/sample - loss: 0.1281 - accuracy: 0.9545 - val_loss: 0.0888 - val_accuracy: 0.9930\n",
      "Epoch 22/100\n",
      "571/571 [==============================] - 0s 46us/sample - loss: 0.1246 - accuracy: 0.9527 - val_loss: 0.0913 - val_accuracy: 0.9650\n",
      "Epoch 23/100\n",
      "571/571 [==============================] - 0s 46us/sample - loss: 0.1192 - accuracy: 0.9545 - val_loss: 0.0805 - val_accuracy: 0.9930\n",
      "Epoch 24/100\n",
      "571/571 [==============================] - 0s 49us/sample - loss: 0.1154 - accuracy: 0.9615 - val_loss: 0.0788 - val_accuracy: 0.9860\n",
      "Epoch 25/100\n",
      "571/571 [==============================] - 0s 46us/sample - loss: 0.1091 - accuracy: 0.9615 - val_loss: 0.0732 - val_accuracy: 1.0000\n",
      "Epoch 26/100\n",
      "571/571 [==============================] - 0s 47us/sample - loss: 0.1076 - accuracy: 0.9597 - val_loss: 0.0713 - val_accuracy: 0.9930\n",
      "Epoch 27/100\n",
      "571/571 [==============================] - 0s 47us/sample - loss: 0.1033 - accuracy: 0.9685 - val_loss: 0.0701 - val_accuracy: 0.9930\n",
      "Epoch 28/100\n",
      "571/571 [==============================] - 0s 44us/sample - loss: 0.1028 - accuracy: 0.9615 - val_loss: 0.0656 - val_accuracy: 0.9930\n",
      "Epoch 29/100\n",
      "571/571 [==============================] - 0s 51us/sample - loss: 0.0990 - accuracy: 0.9702 - val_loss: 0.0702 - val_accuracy: 0.9860\n",
      "Epoch 30/100\n",
      "571/571 [==============================] - 0s 49us/sample - loss: 0.0981 - accuracy: 0.9615 - val_loss: 0.0603 - val_accuracy: 0.9930\n",
      "Epoch 31/100\n",
      "571/571 [==============================] - 0s 46us/sample - loss: 0.0998 - accuracy: 0.9615 - val_loss: 0.0586 - val_accuracy: 1.0000\n",
      "Epoch 32/100\n",
      "571/571 [==============================] - 0s 46us/sample - loss: 0.0924 - accuracy: 0.9702 - val_loss: 0.0639 - val_accuracy: 0.9860\n",
      "Epoch 33/100\n",
      "571/571 [==============================] - 0s 49us/sample - loss: 0.0884 - accuracy: 0.9737 - val_loss: 0.0546 - val_accuracy: 1.0000\n",
      "Epoch 34/100\n",
      "571/571 [==============================] - 0s 46us/sample - loss: 0.0863 - accuracy: 0.9772 - val_loss: 0.0585 - val_accuracy: 0.9860\n",
      "Epoch 35/100\n",
      "571/571 [==============================] - 0s 47us/sample - loss: 0.0851 - accuracy: 0.9720 - val_loss: 0.0527 - val_accuracy: 0.9930\n",
      "Epoch 36/100\n",
      "571/571 [==============================] - 0s 48us/sample - loss: 0.0863 - accuracy: 0.9720 - val_loss: 0.0502 - val_accuracy: 1.0000\n",
      "Epoch 37/100\n",
      "571/571 [==============================] - 0s 55us/sample - loss: 0.0893 - accuracy: 0.9737 - val_loss: 0.0692 - val_accuracy: 0.9650\n",
      "Epoch 38/100\n",
      "571/571 [==============================] - 0s 49us/sample - loss: 0.0837 - accuracy: 0.9772 - val_loss: 0.0513 - val_accuracy: 0.9930\n",
      "Epoch 39/100\n",
      "571/571 [==============================] - 0s 46us/sample - loss: 0.0787 - accuracy: 0.9755 - val_loss: 0.0505 - val_accuracy: 0.9930\n",
      "Epoch 40/100\n",
      "571/571 [==============================] - 0s 43us/sample - loss: 0.0780 - accuracy: 0.9755 - val_loss: 0.0490 - val_accuracy: 0.9930\n",
      "Epoch 41/100\n",
      "571/571 [==============================] - 0s 44us/sample - loss: 0.0764 - accuracy: 0.9755 - val_loss: 0.0470 - val_accuracy: 0.9930\n",
      "Epoch 42/100\n",
      "571/571 [==============================] - 0s 46us/sample - loss: 0.0764 - accuracy: 0.9772 - val_loss: 0.0456 - val_accuracy: 0.9930\n",
      "Epoch 43/100\n",
      "571/571 [==============================] - 0s 44us/sample - loss: 0.0751 - accuracy: 0.9790 - val_loss: 0.0453 - val_accuracy: 0.9930\n",
      "Epoch 44/100\n",
      "571/571 [==============================] - 0s 45us/sample - loss: 0.0730 - accuracy: 0.9772 - val_loss: 0.0490 - val_accuracy: 0.9930\n",
      "Epoch 45/100\n",
      "571/571 [==============================] - 0s 46us/sample - loss: 0.0723 - accuracy: 0.9772 - val_loss: 0.0463 - val_accuracy: 0.9930\n",
      "Epoch 46/100\n",
      "571/571 [==============================] - 0s 49us/sample - loss: 0.0708 - accuracy: 0.9772 - val_loss: 0.0433 - val_accuracy: 0.9930\n",
      "Epoch 47/100\n",
      "571/571 [==============================] - 0s 45us/sample - loss: 0.0709 - accuracy: 0.9755 - val_loss: 0.0518 - val_accuracy: 0.9720\n",
      "Epoch 48/100\n",
      "571/571 [==============================] - 0s 47us/sample - loss: 0.0746 - accuracy: 0.9755 - val_loss: 0.0560 - val_accuracy: 0.9720\n",
      "Epoch 49/100\n",
      "571/571 [==============================] - 0s 46us/sample - loss: 0.0702 - accuracy: 0.9755 - val_loss: 0.0448 - val_accuracy: 0.9930\n",
      "Epoch 50/100\n",
      "571/571 [==============================] - 0s 46us/sample - loss: 0.0703 - accuracy: 0.9737 - val_loss: 0.0389 - val_accuracy: 1.0000\n",
      "Epoch 51/100\n",
      "571/571 [==============================] - 0s 44us/sample - loss: 0.0692 - accuracy: 0.9772 - val_loss: 0.0428 - val_accuracy: 0.9930\n",
      "Epoch 52/100\n",
      "571/571 [==============================] - 0s 48us/sample - loss: 0.0683 - accuracy: 0.9755 - val_loss: 0.0502 - val_accuracy: 0.9720\n",
      "Epoch 53/100\n",
      "571/571 [==============================] - 0s 44us/sample - loss: 0.0670 - accuracy: 0.9755 - val_loss: 0.0366 - val_accuracy: 1.0000\n",
      "Epoch 54/100\n",
      "571/571 [==============================] - 0s 44us/sample - loss: 0.0692 - accuracy: 0.9755 - val_loss: 0.0397 - val_accuracy: 0.9930\n",
      "Epoch 55/100\n",
      "571/571 [==============================] - 0s 46us/sample - loss: 0.0657 - accuracy: 0.9790 - val_loss: 0.0378 - val_accuracy: 0.9930\n",
      "Epoch 56/100\n"
     ]
    },
    {
     "name": "stdout",
     "output_type": "stream",
     "text": [
      "571/571 [==============================] - 0s 42us/sample - loss: 0.0676 - accuracy: 0.9790 - val_loss: 0.0381 - val_accuracy: 0.9930\n",
      "Epoch 57/100\n",
      "571/571 [==============================] - 0s 46us/sample - loss: 0.0662 - accuracy: 0.9737 - val_loss: 0.0585 - val_accuracy: 0.9720\n",
      "Epoch 58/100\n",
      "571/571 [==============================] - 0s 44us/sample - loss: 0.0665 - accuracy: 0.9737 - val_loss: 0.0388 - val_accuracy: 0.9930\n",
      "Epoch 59/100\n",
      "571/571 [==============================] - 0s 44us/sample - loss: 0.0646 - accuracy: 0.9807 - val_loss: 0.0463 - val_accuracy: 0.9790\n",
      "Epoch 60/100\n",
      "571/571 [==============================] - 0s 47us/sample - loss: 0.0665 - accuracy: 0.9772 - val_loss: 0.0550 - val_accuracy: 0.9720\n",
      "Epoch 61/100\n",
      "571/571 [==============================] - 0s 44us/sample - loss: 0.0683 - accuracy: 0.9755 - val_loss: 0.0349 - val_accuracy: 0.9930\n",
      "Epoch 62/100\n",
      "571/571 [==============================] - 0s 45us/sample - loss: 0.0635 - accuracy: 0.9807 - val_loss: 0.0365 - val_accuracy: 0.9930\n",
      "Epoch 63/100\n",
      "571/571 [==============================] - 0s 43us/sample - loss: 0.0619 - accuracy: 0.9825 - val_loss: 0.0444 - val_accuracy: 0.9860\n",
      "Epoch 64/100\n",
      "571/571 [==============================] - 0s 44us/sample - loss: 0.0604 - accuracy: 0.9807 - val_loss: 0.0336 - val_accuracy: 1.0000\n",
      "Epoch 65/100\n",
      "571/571 [==============================] - 0s 46us/sample - loss: 0.0622 - accuracy: 0.9807 - val_loss: 0.0583 - val_accuracy: 0.9720\n",
      "Epoch 66/100\n",
      "571/571 [==============================] - 0s 45us/sample - loss: 0.0654 - accuracy: 0.9737 - val_loss: 0.0398 - val_accuracy: 0.9860\n",
      "Epoch 67/100\n",
      "571/571 [==============================] - 0s 46us/sample - loss: 0.0588 - accuracy: 0.9807 - val_loss: 0.0335 - val_accuracy: 0.9930\n",
      "Epoch 68/100\n",
      "571/571 [==============================] - 0s 47us/sample - loss: 0.0598 - accuracy: 0.9825 - val_loss: 0.0440 - val_accuracy: 0.9790\n",
      "Epoch 69/100\n",
      "571/571 [==============================] - 0s 44us/sample - loss: 0.0568 - accuracy: 0.9825 - val_loss: 0.0333 - val_accuracy: 0.9930\n",
      "Epoch 70/100\n",
      "571/571 [==============================] - 0s 42us/sample - loss: 0.0603 - accuracy: 0.9825 - val_loss: 0.0470 - val_accuracy: 0.9790\n",
      "Epoch 71/100\n",
      "571/571 [==============================] - 0s 44us/sample - loss: 0.0577 - accuracy: 0.9825 - val_loss: 0.0381 - val_accuracy: 0.9930\n",
      "Epoch 72/100\n",
      "571/571 [==============================] - 0s 47us/sample - loss: 0.0565 - accuracy: 0.9825 - val_loss: 0.0428 - val_accuracy: 0.9860\n",
      "Epoch 73/100\n",
      "571/571 [==============================] - 0s 49us/sample - loss: 0.0576 - accuracy: 0.9790 - val_loss: 0.0315 - val_accuracy: 0.9930\n",
      "Epoch 74/100\n",
      "571/571 [==============================] - 0s 46us/sample - loss: 0.0559 - accuracy: 0.9842 - val_loss: 0.0394 - val_accuracy: 0.9930\n",
      "Epoch 75/100\n",
      "571/571 [==============================] - 0s 44us/sample - loss: 0.0565 - accuracy: 0.9807 - val_loss: 0.0308 - val_accuracy: 1.0000\n",
      "Epoch 76/100\n",
      "571/571 [==============================] - 0s 44us/sample - loss: 0.0584 - accuracy: 0.9807 - val_loss: 0.0426 - val_accuracy: 0.9790\n",
      "Epoch 77/100\n",
      "571/571 [==============================] - 0s 45us/sample - loss: 0.0594 - accuracy: 0.9807 - val_loss: 0.0444 - val_accuracy: 0.9790\n",
      "Epoch 78/100\n",
      "571/571 [==============================] - 0s 45us/sample - loss: 0.0577 - accuracy: 0.9825 - val_loss: 0.0295 - val_accuracy: 1.0000\n",
      "Epoch 79/100\n",
      "571/571 [==============================] - 0s 49us/sample - loss: 0.0556 - accuracy: 0.9825 - val_loss: 0.0393 - val_accuracy: 0.9930\n",
      "Epoch 80/100\n",
      "571/571 [==============================] - 0s 46us/sample - loss: 0.0544 - accuracy: 0.9807 - val_loss: 0.0374 - val_accuracy: 0.9930\n",
      "Epoch 81/100\n",
      "571/571 [==============================] - 0s 46us/sample - loss: 0.0539 - accuracy: 0.9825 - val_loss: 0.0361 - val_accuracy: 0.9930\n",
      "Epoch 82/100\n",
      "571/571 [==============================] - 0s 46us/sample - loss: 0.0535 - accuracy: 0.9807 - val_loss: 0.0429 - val_accuracy: 0.9790\n",
      "Epoch 83/100\n",
      "571/571 [==============================] - 0s 46us/sample - loss: 0.0524 - accuracy: 0.9842 - val_loss: 0.0349 - val_accuracy: 0.9930\n",
      "Epoch 84/100\n",
      "571/571 [==============================] - 0s 49us/sample - loss: 0.0531 - accuracy: 0.9825 - val_loss: 0.0396 - val_accuracy: 0.9930\n",
      "Epoch 85/100\n",
      "571/571 [==============================] - 0s 47us/sample - loss: 0.0598 - accuracy: 0.9772 - val_loss: 0.0507 - val_accuracy: 0.9720\n",
      "Epoch 86/100\n",
      "571/571 [==============================] - 0s 44us/sample - loss: 0.0543 - accuracy: 0.9790 - val_loss: 0.0303 - val_accuracy: 0.9930\n",
      "Epoch 87/100\n",
      "571/571 [==============================] - 0s 47us/sample - loss: 0.0517 - accuracy: 0.9842 - val_loss: 0.0398 - val_accuracy: 0.9790\n",
      "Epoch 88/100\n",
      "571/571 [==============================] - 0s 51us/sample - loss: 0.0530 - accuracy: 0.9825 - val_loss: 0.0435 - val_accuracy: 0.9790\n",
      "Epoch 89/100\n",
      "571/571 [==============================] - 0s 45us/sample - loss: 0.0545 - accuracy: 0.9842 - val_loss: 0.0380 - val_accuracy: 0.9930\n",
      "Epoch 90/100\n",
      "571/571 [==============================] - 0s 49us/sample - loss: 0.0533 - accuracy: 0.9790 - val_loss: 0.0296 - val_accuracy: 0.9930\n",
      "Epoch 91/100\n",
      "571/571 [==============================] - 0s 46us/sample - loss: 0.0519 - accuracy: 0.9807 - val_loss: 0.0377 - val_accuracy: 0.9930\n",
      "Epoch 92/100\n",
      "571/571 [==============================] - 0s 44us/sample - loss: 0.0508 - accuracy: 0.9825 - val_loss: 0.0390 - val_accuracy: 0.9860\n",
      "Epoch 93/100\n",
      "571/571 [==============================] - 0s 47us/sample - loss: 0.0492 - accuracy: 0.9842 - val_loss: 0.0300 - val_accuracy: 0.9930\n",
      "Epoch 94/100\n",
      "571/571 [==============================] - 0s 46us/sample - loss: 0.0503 - accuracy: 0.9807 - val_loss: 0.0387 - val_accuracy: 0.9930\n",
      "Epoch 95/100\n",
      "571/571 [==============================] - 0s 47us/sample - loss: 0.0526 - accuracy: 0.9807 - val_loss: 0.0331 - val_accuracy: 0.9930\n",
      "Epoch 96/100\n",
      "571/571 [==============================] - 0s 51us/sample - loss: 0.0499 - accuracy: 0.9825 - val_loss: 0.0492 - val_accuracy: 0.9790\n",
      "Epoch 97/100\n",
      "571/571 [==============================] - 0s 47us/sample - loss: 0.0514 - accuracy: 0.9842 - val_loss: 0.0371 - val_accuracy: 0.9930\n",
      "Epoch 98/100\n",
      "571/571 [==============================] - 0s 44us/sample - loss: 0.0490 - accuracy: 0.9807 - val_loss: 0.0304 - val_accuracy: 0.9930\n",
      "Epoch 99/100\n",
      "571/571 [==============================] - 0s 46us/sample - loss: 0.0497 - accuracy: 0.9825 - val_loss: 0.0285 - val_accuracy: 0.9930\n",
      "Epoch 100/100\n",
      "571/571 [==============================] - 0s 43us/sample - loss: 0.0515 - accuracy: 0.9807 - val_loss: 0.0276 - val_accuracy: 0.9930\n"
     ]
    },
    {
     "data": {
      "text/plain": [
       "<tensorflow.python.keras.callbacks.History at 0x23be9a1ca88>"
      ]
     },
     "execution_count": 38,
     "metadata": {},
     "output_type": "execute_result"
    }
   ],
   "source": [
    "model.fit(x_train,y_train,epochs=100,validation_data=(x_test,y_test))"
   ]
  },
  {
   "cell_type": "code",
   "execution_count": 39,
   "metadata": {},
   "outputs": [],
   "source": [
    "metrics=pd.DataFrame(model.history.history)"
   ]
  },
  {
   "cell_type": "code",
   "execution_count": 40,
   "metadata": {},
   "outputs": [
    {
     "data": {
      "text/plain": [
       "<matplotlib.axes._subplots.AxesSubplot at 0x23beb320048>"
      ]
     },
     "execution_count": 40,
     "metadata": {},
     "output_type": "execute_result"
    },
    {
     "data": {
      "image/png": "[encoded data removed]",
      "text/plain": [
       "<Figure size 432x288 with 1 Axes>"
      ]
     },
     "metadata": {},
     "output_type": "display_data"
    }
   ],
   "source": [
    "metrics.plot()"
   ]
  },
  {
   "cell_type": "code",
   "execution_count": 44,
   "metadata": {},
   "outputs": [],
   "source": [
    "model=Sequential()\n",
    "model.add(Dense(30,activation='relu'))\n",
    "model.add(Dense(15,activation='relu'))\n",
    "model.add(Dense(1,activation='sigmoid'))\n",
    "\n",
    "model.compile(loss='binary_crossentropy',optimizer='adam',metrics=['accuracy'])"
   ]
  },
  {
   "cell_type": "code",
   "execution_count": 45,
   "metadata": {},
   "outputs": [],
   "source": [
    "from tensorflow.keras.callbacks import EarlyStopping"
   ]
  },
  {
   "cell_type": "code",
   "execution_count": 46,
   "metadata": {},
   "outputs": [],
   "source": [
    "earlystop=EarlyStopping(monitor='val_loss',mode='min',verbose=1,patience=25)"
   ]
  },
  {
   "cell_type": "code",
   "execution_count": 47,
   "metadata": {},
   "outputs": [
    {
     "name": "stdout",
     "output_type": "stream",
     "text": [
      "Train on 571 samples, validate on 143 samples\n",
      "Epoch 1/300\n",
      "571/571 [==============================] - 0s 704us/sample - loss: 0.6532 - accuracy: 0.5727 - val_loss: 0.6272 - val_accuracy: 0.5874\n",
      "Epoch 2/300\n",
      "571/571 [==============================] - 0s 59us/sample - loss: 0.6080 - accuracy: 0.6357 - val_loss: 0.5766 - val_accuracy: 0.6783\n",
      "Epoch 3/300\n",
      "571/571 [==============================] - 0s 49us/sample - loss: 0.5559 - accuracy: 0.7601 - val_loss: 0.5123 - val_accuracy: 0.8322\n",
      "Epoch 4/300\n",
      "571/571 [==============================] - 0s 51us/sample - loss: 0.4874 - accuracy: 0.8634 - val_loss: 0.4325 - val_accuracy: 0.9231\n",
      "Epoch 5/300\n",
      "571/571 [==============================] - 0s 51us/sample - loss: 0.4159 - accuracy: 0.8967 - val_loss: 0.3651 - val_accuracy: 0.9301\n",
      "Epoch 6/300\n",
      "571/571 [==============================] - 0s 50us/sample - loss: 0.3551 - accuracy: 0.8984 - val_loss: 0.3093 - val_accuracy: 0.9301\n",
      "Epoch 7/300\n",
      "571/571 [==============================] - 0s 51us/sample - loss: 0.3078 - accuracy: 0.9037 - val_loss: 0.2625 - val_accuracy: 0.9371\n",
      "Epoch 8/300\n",
      "571/571 [==============================] - 0s 46us/sample - loss: 0.2725 - accuracy: 0.9159 - val_loss: 0.2304 - val_accuracy: 0.9441\n",
      "Epoch 9/300\n",
      "571/571 [==============================] - 0s 51us/sample - loss: 0.2450 - accuracy: 0.9194 - val_loss: 0.2025 - val_accuracy: 0.9580\n",
      "Epoch 10/300\n",
      "571/571 [==============================] - 0s 51us/sample - loss: 0.2232 - accuracy: 0.9229 - val_loss: 0.1832 - val_accuracy: 0.9371\n",
      "Epoch 11/300\n",
      "571/571 [==============================] - 0s 53us/sample - loss: 0.2079 - accuracy: 0.9282 - val_loss: 0.1786 - val_accuracy: 0.9371\n",
      "Epoch 12/300\n",
      "571/571 [==============================] - 0s 46us/sample - loss: 0.1958 - accuracy: 0.9335 - val_loss: 0.1559 - val_accuracy: 0.9371\n",
      "Epoch 13/300\n",
      "571/571 [==============================] - 0s 49us/sample - loss: 0.1838 - accuracy: 0.9352 - val_loss: 0.1413 - val_accuracy: 0.9650\n",
      "Epoch 14/300\n",
      "571/571 [==============================] - 0s 47us/sample - loss: 0.1674 - accuracy: 0.9387 - val_loss: 0.1311 - val_accuracy: 0.9650\n",
      "Epoch 15/300\n",
      "571/571 [==============================] - 0s 49us/sample - loss: 0.1598 - accuracy: 0.9405 - val_loss: 0.1251 - val_accuracy: 0.9720\n",
      "Epoch 16/300\n",
      "571/571 [==============================] - 0s 44us/sample - loss: 0.1511 - accuracy: 0.9440 - val_loss: 0.1156 - val_accuracy: 0.9580\n",
      "Epoch 17/300\n",
      "571/571 [==============================] - 0s 49us/sample - loss: 0.1428 - accuracy: 0.9405 - val_loss: 0.1107 - val_accuracy: 0.9650\n",
      "Epoch 18/300\n",
      "571/571 [==============================] - 0s 51us/sample - loss: 0.1327 - accuracy: 0.9492 - val_loss: 0.1022 - val_accuracy: 0.9720\n",
      "Epoch 19/300\n",
      "571/571 [==============================] - 0s 48us/sample - loss: 0.1284 - accuracy: 0.9475 - val_loss: 0.0975 - val_accuracy: 0.9720\n",
      "Epoch 20/300\n",
      "571/571 [==============================] - 0s 47us/sample - loss: 0.1205 - accuracy: 0.9545 - val_loss: 0.0933 - val_accuracy: 0.9790\n",
      "Epoch 21/300\n",
      "571/571 [==============================] - 0s 46us/sample - loss: 0.1158 - accuracy: 0.9580 - val_loss: 0.0882 - val_accuracy: 0.9790\n",
      "Epoch 22/300\n",
      "571/571 [==============================] - 0s 46us/sample - loss: 0.1115 - accuracy: 0.9562 - val_loss: 0.0849 - val_accuracy: 0.9860\n",
      "Epoch 23/300\n",
      "571/571 [==============================] - 0s 49us/sample - loss: 0.1075 - accuracy: 0.9667 - val_loss: 0.0804 - val_accuracy: 0.9860\n",
      "Epoch 24/300\n",
      "571/571 [==============================] - 0s 60us/sample - loss: 0.1027 - accuracy: 0.9755 - val_loss: 0.0790 - val_accuracy: 0.9860\n",
      "Epoch 25/300\n",
      "571/571 [==============================] - 0s 56us/sample - loss: 0.0987 - accuracy: 0.9755 - val_loss: 0.0756 - val_accuracy: 0.9860\n",
      "Epoch 26/300\n",
      "571/571 [==============================] - 0s 52us/sample - loss: 0.0954 - accuracy: 0.9737 - val_loss: 0.0762 - val_accuracy: 0.9860\n",
      "Epoch 27/300\n",
      "571/571 [==============================] - 0s 58us/sample - loss: 0.0927 - accuracy: 0.9702 - val_loss: 0.0689 - val_accuracy: 0.9860\n",
      "Epoch 28/300\n",
      "571/571 [==============================] - 0s 51us/sample - loss: 0.0901 - accuracy: 0.9737 - val_loss: 0.0729 - val_accuracy: 0.9860\n",
      "Epoch 29/300\n",
      "571/571 [==============================] - 0s 54us/sample - loss: 0.0873 - accuracy: 0.9755 - val_loss: 0.0637 - val_accuracy: 0.9930\n",
      "Epoch 30/300\n",
      "571/571 [==============================] - 0s 58us/sample - loss: 0.0847 - accuracy: 0.9755 - val_loss: 0.0679 - val_accuracy: 0.9860\n",
      "Epoch 31/300\n",
      "571/571 [==============================] - 0s 53us/sample - loss: 0.0840 - accuracy: 0.9737 - val_loss: 0.0626 - val_accuracy: 0.9860\n",
      "Epoch 32/300\n",
      "571/571 [==============================] - 0s 55us/sample - loss: 0.0835 - accuracy: 0.9702 - val_loss: 0.0576 - val_accuracy: 0.9930\n",
      "Epoch 33/300\n",
      "571/571 [==============================] - 0s 56us/sample - loss: 0.0798 - accuracy: 0.9755 - val_loss: 0.0607 - val_accuracy: 0.9860\n",
      "Epoch 34/300\n",
      "571/571 [==============================] - 0s 54us/sample - loss: 0.0776 - accuracy: 0.9755 - val_loss: 0.0609 - val_accuracy: 0.9790\n",
      "Epoch 35/300\n",
      "571/571 [==============================] - 0s 55us/sample - loss: 0.0760 - accuracy: 0.9737 - val_loss: 0.0573 - val_accuracy: 0.9930\n",
      "Epoch 36/300\n",
      "571/571 [==============================] - 0s 53us/sample - loss: 0.0735 - accuracy: 0.9772 - val_loss: 0.0581 - val_accuracy: 0.9790\n",
      "Epoch 37/300\n",
      "571/571 [==============================] - 0s 54us/sample - loss: 0.0737 - accuracy: 0.9755 - val_loss: 0.0510 - val_accuracy: 0.9930\n",
      "Epoch 38/300\n",
      "571/571 [==============================] - 0s 52us/sample - loss: 0.0764 - accuracy: 0.9737 - val_loss: 0.0600 - val_accuracy: 0.9790\n",
      "Epoch 39/300\n",
      "571/571 [==============================] - 0s 52us/sample - loss: 0.0762 - accuracy: 0.9737 - val_loss: 0.0655 - val_accuracy: 0.9720\n",
      "Epoch 40/300\n",
      "571/571 [==============================] - 0s 56us/sample - loss: 0.0694 - accuracy: 0.9807 - val_loss: 0.0523 - val_accuracy: 0.9930\n",
      "Epoch 41/300\n",
      "571/571 [==============================] - 0s 52us/sample - loss: 0.0682 - accuracy: 0.9790 - val_loss: 0.0558 - val_accuracy: 0.9790\n",
      "Epoch 42/300\n",
      "571/571 [==============================] - 0s 47us/sample - loss: 0.0679 - accuracy: 0.9790 - val_loss: 0.0517 - val_accuracy: 0.9860\n",
      "Epoch 43/300\n",
      "571/571 [==============================] - 0s 60us/sample - loss: 0.0657 - accuracy: 0.9790 - val_loss: 0.0524 - val_accuracy: 0.9860\n",
      "Epoch 44/300\n",
      "571/571 [==============================] - 0s 54us/sample - loss: 0.0661 - accuracy: 0.9755 - val_loss: 0.0470 - val_accuracy: 0.9930\n",
      "Epoch 45/300\n",
      "571/571 [==============================] - 0s 52us/sample - loss: 0.0650 - accuracy: 0.9790 - val_loss: 0.0464 - val_accuracy: 0.9930\n",
      "Epoch 46/300\n",
      "571/571 [==============================] - 0s 53us/sample - loss: 0.0631 - accuracy: 0.9825 - val_loss: 0.0550 - val_accuracy: 0.9790\n",
      "Epoch 47/300\n",
      "571/571 [==============================] - 0s 58us/sample - loss: 0.0645 - accuracy: 0.9790 - val_loss: 0.0529 - val_accuracy: 0.9860\n",
      "Epoch 48/300\n",
      "571/571 [==============================] - 0s 54us/sample - loss: 0.0669 - accuracy: 0.9737 - val_loss: 0.0460 - val_accuracy: 0.9860\n",
      "Epoch 49/300\n",
      "571/571 [==============================] - 0s 54us/sample - loss: 0.0614 - accuracy: 0.9825 - val_loss: 0.0455 - val_accuracy: 0.9860\n",
      "Epoch 50/300\n",
      "571/571 [==============================] - 0s 56us/sample - loss: 0.0639 - accuracy: 0.9790 - val_loss: 0.0764 - val_accuracy: 0.9720\n",
      "Epoch 51/300\n",
      "571/571 [==============================] - 0s 61us/sample - loss: 0.0628 - accuracy: 0.9790 - val_loss: 0.0400 - val_accuracy: 0.9930\n",
      "Epoch 52/300\n",
      "571/571 [==============================] - 0s 54us/sample - loss: 0.0595 - accuracy: 0.9807 - val_loss: 0.0557 - val_accuracy: 0.9790\n",
      "Epoch 53/300\n",
      "571/571 [==============================] - 0s 51us/sample - loss: 0.0594 - accuracy: 0.9825 - val_loss: 0.0437 - val_accuracy: 0.9860\n",
      "Epoch 54/300\n",
      "571/571 [==============================] - 0s 54us/sample - loss: 0.0631 - accuracy: 0.9790 - val_loss: 0.0741 - val_accuracy: 0.9720\n",
      "Epoch 55/300\n",
      "571/571 [==============================] - 0s 54us/sample - loss: 0.0595 - accuracy: 0.9772 - val_loss: 0.0406 - val_accuracy: 0.9930\n",
      "Epoch 56/300\n"
     ]
    },
    {
     "name": "stdout",
     "output_type": "stream",
     "text": [
      "571/571 [==============================] - 0s 49us/sample - loss: 0.0600 - accuracy: 0.9807 - val_loss: 0.0397 - val_accuracy: 0.9930\n",
      "Epoch 57/300\n",
      "571/571 [==============================] - 0s 56us/sample - loss: 0.0590 - accuracy: 0.9825 - val_loss: 0.0403 - val_accuracy: 0.9930\n",
      "Epoch 58/300\n",
      "571/571 [==============================] - 0s 46us/sample - loss: 0.0572 - accuracy: 0.9842 - val_loss: 0.0433 - val_accuracy: 0.9860\n",
      "Epoch 59/300\n",
      "571/571 [==============================] - 0s 54us/sample - loss: 0.0566 - accuracy: 0.9825 - val_loss: 0.0404 - val_accuracy: 0.9860\n",
      "Epoch 60/300\n",
      "571/571 [==============================] - 0s 51us/sample - loss: 0.0565 - accuracy: 0.9825 - val_loss: 0.0422 - val_accuracy: 0.9860\n",
      "Epoch 61/300\n",
      "571/571 [==============================] - 0s 54us/sample - loss: 0.0559 - accuracy: 0.9825 - val_loss: 0.0432 - val_accuracy: 0.9860\n",
      "Epoch 62/300\n",
      "571/571 [==============================] - 0s 53us/sample - loss: 0.0559 - accuracy: 0.9842 - val_loss: 0.0463 - val_accuracy: 0.9860\n",
      "Epoch 63/300\n",
      "571/571 [==============================] - 0s 47us/sample - loss: 0.0545 - accuracy: 0.9825 - val_loss: 0.0394 - val_accuracy: 0.9860\n",
      "Epoch 64/300\n",
      "571/571 [==============================] - 0s 54us/sample - loss: 0.0541 - accuracy: 0.9842 - val_loss: 0.0393 - val_accuracy: 0.9860\n",
      "Epoch 65/300\n",
      "571/571 [==============================] - 0s 53us/sample - loss: 0.0550 - accuracy: 0.9842 - val_loss: 0.0392 - val_accuracy: 0.9860\n",
      "Epoch 66/300\n",
      "571/571 [==============================] - 0s 49us/sample - loss: 0.0538 - accuracy: 0.9825 - val_loss: 0.0613 - val_accuracy: 0.9720\n",
      "Epoch 67/300\n",
      "571/571 [==============================] - 0s 47us/sample - loss: 0.0556 - accuracy: 0.9772 - val_loss: 0.0510 - val_accuracy: 0.9860\n",
      "Epoch 68/300\n",
      "571/571 [==============================] - 0s 49us/sample - loss: 0.0570 - accuracy: 0.9790 - val_loss: 0.0381 - val_accuracy: 0.9860\n",
      "Epoch 69/300\n",
      "571/571 [==============================] - 0s 51us/sample - loss: 0.0529 - accuracy: 0.9842 - val_loss: 0.0416 - val_accuracy: 0.9860\n",
      "Epoch 70/300\n",
      "571/571 [==============================] - 0s 55us/sample - loss: 0.0512 - accuracy: 0.9807 - val_loss: 0.0566 - val_accuracy: 0.9790\n",
      "Epoch 71/300\n",
      "571/571 [==============================] - 0s 52us/sample - loss: 0.0532 - accuracy: 0.9825 - val_loss: 0.0400 - val_accuracy: 0.9860\n",
      "Epoch 72/300\n",
      "571/571 [==============================] - 0s 51us/sample - loss: 0.0520 - accuracy: 0.9842 - val_loss: 0.0374 - val_accuracy: 0.9860\n",
      "Epoch 73/300\n",
      "571/571 [==============================] - 0s 52us/sample - loss: 0.0490 - accuracy: 0.9825 - val_loss: 0.0569 - val_accuracy: 0.9790\n",
      "Epoch 74/300\n",
      "571/571 [==============================] - 0s 51us/sample - loss: 0.0511 - accuracy: 0.9842 - val_loss: 0.0381 - val_accuracy: 0.9860\n",
      "Epoch 75/300\n",
      "571/571 [==============================] - 0s 54us/sample - loss: 0.0495 - accuracy: 0.9842 - val_loss: 0.0446 - val_accuracy: 0.9860\n",
      "Epoch 76/300\n",
      "571/571 [==============================] - 0s 51us/sample - loss: 0.0498 - accuracy: 0.9842 - val_loss: 0.0406 - val_accuracy: 0.9860\n",
      "Epoch 77/300\n",
      "571/571 [==============================] - 0s 54us/sample - loss: 0.0514 - accuracy: 0.9825 - val_loss: 0.0374 - val_accuracy: 0.9860\n",
      "Epoch 78/300\n",
      "571/571 [==============================] - 0s 56us/sample - loss: 0.0506 - accuracy: 0.9825 - val_loss: 0.0527 - val_accuracy: 0.9790\n",
      "Epoch 79/300\n",
      "571/571 [==============================] - 0s 49us/sample - loss: 0.0477 - accuracy: 0.9842 - val_loss: 0.0333 - val_accuracy: 0.9930\n",
      "Epoch 80/300\n",
      "571/571 [==============================] - 0s 51us/sample - loss: 0.0500 - accuracy: 0.9842 - val_loss: 0.0412 - val_accuracy: 0.9860\n",
      "Epoch 81/300\n",
      "571/571 [==============================] - 0s 54us/sample - loss: 0.0475 - accuracy: 0.9825 - val_loss: 0.0452 - val_accuracy: 0.9860\n",
      "Epoch 82/300\n",
      "571/571 [==============================] - 0s 60us/sample - loss: 0.0507 - accuracy: 0.9842 - val_loss: 0.0536 - val_accuracy: 0.9790\n",
      "Epoch 83/300\n",
      "571/571 [==============================] - 0s 52us/sample - loss: 0.0483 - accuracy: 0.9825 - val_loss: 0.0430 - val_accuracy: 0.9860\n",
      "Epoch 84/300\n",
      "571/571 [==============================] - 0s 57us/sample - loss: 0.0477 - accuracy: 0.9842 - val_loss: 0.0464 - val_accuracy: 0.9860\n",
      "Epoch 85/300\n",
      "571/571 [==============================] - 0s 51us/sample - loss: 0.0555 - accuracy: 0.9737 - val_loss: 0.0615 - val_accuracy: 0.9790\n",
      "Epoch 86/300\n",
      "571/571 [==============================] - 0s 57us/sample - loss: 0.0487 - accuracy: 0.9860 - val_loss: 0.0399 - val_accuracy: 0.9860\n",
      "Epoch 87/300\n",
      "571/571 [==============================] - 0s 51us/sample - loss: 0.0471 - accuracy: 0.9842 - val_loss: 0.0358 - val_accuracy: 0.9860\n",
      "Epoch 88/300\n",
      "571/571 [==============================] - 0s 54us/sample - loss: 0.0493 - accuracy: 0.9842 - val_loss: 0.0371 - val_accuracy: 0.9860\n",
      "Epoch 89/300\n",
      "571/571 [==============================] - 0s 57us/sample - loss: 0.0462 - accuracy: 0.9842 - val_loss: 0.0337 - val_accuracy: 0.9860\n",
      "Epoch 90/300\n",
      "571/571 [==============================] - 0s 58us/sample - loss: 0.0497 - accuracy: 0.9825 - val_loss: 0.0427 - val_accuracy: 0.9860\n",
      "Epoch 91/300\n",
      "571/571 [==============================] - 0s 58us/sample - loss: 0.0471 - accuracy: 0.9860 - val_loss: 0.0564 - val_accuracy: 0.9790\n",
      "Epoch 92/300\n",
      "571/571 [==============================] - 0s 60us/sample - loss: 0.0489 - accuracy: 0.9825 - val_loss: 0.0410 - val_accuracy: 0.9860\n",
      "Epoch 93/300\n",
      "571/571 [==============================] - 0s 57us/sample - loss: 0.0470 - accuracy: 0.9842 - val_loss: 0.0347 - val_accuracy: 0.9860\n",
      "Epoch 94/300\n",
      "571/571 [==============================] - 0s 54us/sample - loss: 0.0461 - accuracy: 0.9807 - val_loss: 0.0439 - val_accuracy: 0.9860\n",
      "Epoch 95/300\n",
      "571/571 [==============================] - 0s 54us/sample - loss: 0.0443 - accuracy: 0.9842 - val_loss: 0.0378 - val_accuracy: 0.9860\n",
      "Epoch 96/300\n",
      "571/571 [==============================] - 0s 52us/sample - loss: 0.0437 - accuracy: 0.9825 - val_loss: 0.0414 - val_accuracy: 0.9860\n",
      "Epoch 97/300\n",
      "571/571 [==============================] - 0s 54us/sample - loss: 0.0467 - accuracy: 0.9825 - val_loss: 0.0531 - val_accuracy: 0.9860\n",
      "Epoch 98/300\n",
      "571/571 [==============================] - 0s 51us/sample - loss: 0.0435 - accuracy: 0.9842 - val_loss: 0.0325 - val_accuracy: 0.9860\n",
      "Epoch 99/300\n",
      "571/571 [==============================] - 0s 52us/sample - loss: 0.0444 - accuracy: 0.9825 - val_loss: 0.0430 - val_accuracy: 0.9860\n",
      "Epoch 100/300\n",
      "571/571 [==============================] - 0s 51us/sample - loss: 0.0437 - accuracy: 0.9842 - val_loss: 0.0460 - val_accuracy: 0.9860\n",
      "Epoch 101/300\n",
      "571/571 [==============================] - 0s 51us/sample - loss: 0.0449 - accuracy: 0.9825 - val_loss: 0.0411 - val_accuracy: 0.9860\n",
      "Epoch 102/300\n",
      "571/571 [==============================] - 0s 53us/sample - loss: 0.0421 - accuracy: 0.9842 - val_loss: 0.0348 - val_accuracy: 0.9860\n",
      "Epoch 103/300\n",
      "571/571 [==============================] - 0s 54us/sample - loss: 0.0459 - accuracy: 0.9807 - val_loss: 0.0321 - val_accuracy: 0.9860\n",
      "Epoch 104/300\n",
      "571/571 [==============================] - 0s 47us/sample - loss: 0.0445 - accuracy: 0.9825 - val_loss: 0.0427 - val_accuracy: 0.9860\n",
      "Epoch 105/300\n",
      "571/571 [==============================] - 0s 50us/sample - loss: 0.0420 - accuracy: 0.9842 - val_loss: 0.0359 - val_accuracy: 0.9860\n",
      "Epoch 106/300\n",
      "571/571 [==============================] - 0s 51us/sample - loss: 0.0418 - accuracy: 0.9842 - val_loss: 0.0510 - val_accuracy: 0.9860\n",
      "Epoch 107/300\n",
      "571/571 [==============================] - 0s 54us/sample - loss: 0.0487 - accuracy: 0.9860 - val_loss: 0.0333 - val_accuracy: 0.9860\n",
      "Epoch 108/300\n",
      "571/571 [==============================] - 0s 51us/sample - loss: 0.0412 - accuracy: 0.9842 - val_loss: 0.0503 - val_accuracy: 0.9860\n",
      "Epoch 109/300\n",
      "571/571 [==============================] - 0s 48us/sample - loss: 0.0417 - accuracy: 0.9842 - val_loss: 0.0351 - val_accuracy: 0.9860\n",
      "Epoch 110/300\n",
      "571/571 [==============================] - 0s 51us/sample - loss: 0.0410 - accuracy: 0.9842 - val_loss: 0.0459 - val_accuracy: 0.9860\n",
      "Epoch 111/300\n",
      "571/571 [==============================] - 0s 53us/sample - loss: 0.0429 - accuracy: 0.9825 - val_loss: 0.0343 - val_accuracy: 0.9860\n"
     ]
    },
    {
     "name": "stdout",
     "output_type": "stream",
     "text": [
      "Epoch 112/300\n",
      "571/571 [==============================] - 0s 47us/sample - loss: 0.0413 - accuracy: 0.9825 - val_loss: 0.0366 - val_accuracy: 0.9860\n",
      "Epoch 113/300\n",
      "571/571 [==============================] - 0s 53us/sample - loss: 0.0395 - accuracy: 0.9842 - val_loss: 0.0482 - val_accuracy: 0.9860\n",
      "Epoch 114/300\n",
      "571/571 [==============================] - 0s 53us/sample - loss: 0.0407 - accuracy: 0.9860 - val_loss: 0.0364 - val_accuracy: 0.9860\n",
      "Epoch 115/300\n",
      "571/571 [==============================] - 0s 52us/sample - loss: 0.0438 - accuracy: 0.9825 - val_loss: 0.0295 - val_accuracy: 0.9930\n",
      "Epoch 116/300\n",
      "571/571 [==============================] - 0s 49us/sample - loss: 0.0419 - accuracy: 0.9842 - val_loss: 0.0390 - val_accuracy: 0.9860\n",
      "Epoch 117/300\n",
      "571/571 [==============================] - 0s 49us/sample - loss: 0.0515 - accuracy: 0.9790 - val_loss: 0.0950 - val_accuracy: 0.9510\n",
      "Epoch 118/300\n",
      "571/571 [==============================] - 0s 59us/sample - loss: 0.0491 - accuracy: 0.9807 - val_loss: 0.0304 - val_accuracy: 0.9930\n",
      "Epoch 119/300\n",
      "571/571 [==============================] - 0s 51us/sample - loss: 0.0386 - accuracy: 0.9842 - val_loss: 0.0416 - val_accuracy: 0.9860\n",
      "Epoch 120/300\n",
      "571/571 [==============================] - 0s 54us/sample - loss: 0.0433 - accuracy: 0.9825 - val_loss: 0.0367 - val_accuracy: 0.9860\n",
      "Epoch 121/300\n",
      "571/571 [==============================] - 0s 55us/sample - loss: 0.0395 - accuracy: 0.9842 - val_loss: 0.0447 - val_accuracy: 0.9860\n",
      "Epoch 122/300\n",
      "571/571 [==============================] - 0s 50us/sample - loss: 0.0385 - accuracy: 0.9842 - val_loss: 0.0394 - val_accuracy: 0.9860\n",
      "Epoch 123/300\n",
      "571/571 [==============================] - 0s 51us/sample - loss: 0.0385 - accuracy: 0.9825 - val_loss: 0.0483 - val_accuracy: 0.9860\n",
      "Epoch 124/300\n",
      "571/571 [==============================] - 0s 51us/sample - loss: 0.0394 - accuracy: 0.9860 - val_loss: 0.0340 - val_accuracy: 0.9860\n",
      "Epoch 125/300\n",
      "571/571 [==============================] - 0s 49us/sample - loss: 0.0422 - accuracy: 0.9860 - val_loss: 0.0532 - val_accuracy: 0.9790\n",
      "Epoch 126/300\n",
      "571/571 [==============================] - 0s 51us/sample - loss: 0.0434 - accuracy: 0.9825 - val_loss: 0.0617 - val_accuracy: 0.9720\n",
      "Epoch 127/300\n",
      "571/571 [==============================] - 0s 51us/sample - loss: 0.0385 - accuracy: 0.9842 - val_loss: 0.0342 - val_accuracy: 0.9860\n",
      "Epoch 128/300\n",
      "571/571 [==============================] - 0s 48us/sample - loss: 0.0376 - accuracy: 0.9860 - val_loss: 0.0441 - val_accuracy: 0.9860\n",
      "Epoch 129/300\n",
      "571/571 [==============================] - 0s 54us/sample - loss: 0.0382 - accuracy: 0.9842 - val_loss: 0.0400 - val_accuracy: 0.9860\n",
      "Epoch 130/300\n",
      "571/571 [==============================] - 0s 56us/sample - loss: 0.0377 - accuracy: 0.9860 - val_loss: 0.0292 - val_accuracy: 0.9860\n",
      "Epoch 131/300\n",
      "571/571 [==============================] - 0s 53us/sample - loss: 0.0385 - accuracy: 0.9860 - val_loss: 0.0450 - val_accuracy: 0.9860\n",
      "Epoch 132/300\n",
      "571/571 [==============================] - 0s 49us/sample - loss: 0.0369 - accuracy: 0.9860 - val_loss: 0.0425 - val_accuracy: 0.9860\n",
      "Epoch 133/300\n",
      "571/571 [==============================] - 0s 54us/sample - loss: 0.0376 - accuracy: 0.9842 - val_loss: 0.0486 - val_accuracy: 0.9860\n",
      "Epoch 134/300\n",
      "571/571 [==============================] - 0s 54us/sample - loss: 0.0349 - accuracy: 0.9842 - val_loss: 0.0277 - val_accuracy: 0.9860\n",
      "Epoch 135/300\n",
      "571/571 [==============================] - 0s 49us/sample - loss: 0.0397 - accuracy: 0.9842 - val_loss: 0.0440 - val_accuracy: 0.9860\n",
      "Epoch 136/300\n",
      "571/571 [==============================] - 0s 54us/sample - loss: 0.0360 - accuracy: 0.9842 - val_loss: 0.0271 - val_accuracy: 0.9930\n",
      "Epoch 137/300\n",
      "571/571 [==============================] - 0s 53us/sample - loss: 0.0478 - accuracy: 0.9807 - val_loss: 0.0771 - val_accuracy: 0.9650\n",
      "Epoch 138/300\n",
      "571/571 [==============================] - 0s 55us/sample - loss: 0.0375 - accuracy: 0.9877 - val_loss: 0.0329 - val_accuracy: 0.9860\n",
      "Epoch 139/300\n",
      "571/571 [==============================] - 0s 53us/sample - loss: 0.0348 - accuracy: 0.9860 - val_loss: 0.0413 - val_accuracy: 0.9860\n",
      "Epoch 140/300\n",
      "571/571 [==============================] - 0s 49us/sample - loss: 0.0364 - accuracy: 0.9842 - val_loss: 0.0344 - val_accuracy: 0.9860\n",
      "Epoch 141/300\n",
      "571/571 [==============================] - 0s 61us/sample - loss: 0.0363 - accuracy: 0.9860 - val_loss: 0.0339 - val_accuracy: 0.9860\n",
      "Epoch 142/300\n",
      "571/571 [==============================] - 0s 53us/sample - loss: 0.0363 - accuracy: 0.9842 - val_loss: 0.0294 - val_accuracy: 0.9860\n",
      "Epoch 143/300\n",
      "571/571 [==============================] - 0s 51us/sample - loss: 0.0388 - accuracy: 0.9860 - val_loss: 0.0603 - val_accuracy: 0.9720\n",
      "Epoch 144/300\n",
      "571/571 [==============================] - 0s 51us/sample - loss: 0.0371 - accuracy: 0.9860 - val_loss: 0.0416 - val_accuracy: 0.9860\n",
      "Epoch 145/300\n",
      "571/571 [==============================] - 0s 53us/sample - loss: 0.0354 - accuracy: 0.9860 - val_loss: 0.0329 - val_accuracy: 0.9860\n",
      "Epoch 146/300\n",
      "571/571 [==============================] - 0s 53us/sample - loss: 0.0364 - accuracy: 0.9842 - val_loss: 0.0598 - val_accuracy: 0.9720\n",
      "Epoch 147/300\n",
      "571/571 [==============================] - 0s 53us/sample - loss: 0.0362 - accuracy: 0.9877 - val_loss: 0.0299 - val_accuracy: 0.9860\n",
      "Epoch 148/300\n",
      "571/571 [==============================] - 0s 51us/sample - loss: 0.0358 - accuracy: 0.9860 - val_loss: 0.0341 - val_accuracy: 0.9860\n",
      "Epoch 149/300\n",
      "571/571 [==============================] - 0s 56us/sample - loss: 0.0342 - accuracy: 0.9860 - val_loss: 0.0350 - val_accuracy: 0.9860\n",
      "Epoch 150/300\n",
      "571/571 [==============================] - 0s 47us/sample - loss: 0.0331 - accuracy: 0.9895 - val_loss: 0.0450 - val_accuracy: 0.9860\n",
      "Epoch 151/300\n",
      "571/571 [==============================] - 0s 54us/sample - loss: 0.0355 - accuracy: 0.9860 - val_loss: 0.0601 - val_accuracy: 0.9720\n",
      "Epoch 152/300\n",
      "571/571 [==============================] - 0s 53us/sample - loss: 0.0355 - accuracy: 0.9860 - val_loss: 0.0345 - val_accuracy: 0.9860\n",
      "Epoch 153/300\n",
      "571/571 [==============================] - 0s 51us/sample - loss: 0.0356 - accuracy: 0.9860 - val_loss: 0.0317 - val_accuracy: 0.9860\n",
      "Epoch 154/300\n",
      "571/571 [==============================] - 0s 49us/sample - loss: 0.0367 - accuracy: 0.9825 - val_loss: 0.0313 - val_accuracy: 0.9860\n",
      "Epoch 155/300\n",
      "571/571 [==============================] - 0s 54us/sample - loss: 0.0376 - accuracy: 0.9790 - val_loss: 0.0845 - val_accuracy: 0.9580\n",
      "Epoch 156/300\n",
      "571/571 [==============================] - 0s 56us/sample - loss: 0.0347 - accuracy: 0.9842 - val_loss: 0.0264 - val_accuracy: 0.9860\n",
      "Epoch 157/300\n",
      "571/571 [==============================] - 0s 53us/sample - loss: 0.0357 - accuracy: 0.9842 - val_loss: 0.0627 - val_accuracy: 0.9720\n",
      "Epoch 158/300\n",
      "571/571 [==============================] - 0s 47us/sample - loss: 0.0315 - accuracy: 0.9860 - val_loss: 0.0274 - val_accuracy: 0.9930\n",
      "Epoch 159/300\n",
      "571/571 [==============================] - 0s 49us/sample - loss: 0.0315 - accuracy: 0.9877 - val_loss: 0.0474 - val_accuracy: 0.9790\n",
      "Epoch 160/300\n",
      "571/571 [==============================] - 0s 55us/sample - loss: 0.0318 - accuracy: 0.9877 - val_loss: 0.0301 - val_accuracy: 0.9860\n",
      "Epoch 161/300\n",
      "571/571 [==============================] - 0s 52us/sample - loss: 0.0328 - accuracy: 0.9877 - val_loss: 0.0391 - val_accuracy: 0.9860\n",
      "Epoch 162/300\n",
      "571/571 [==============================] - 0s 53us/sample - loss: 0.0315 - accuracy: 0.9842 - val_loss: 0.0446 - val_accuracy: 0.9790\n",
      "Epoch 163/300\n",
      "571/571 [==============================] - 0s 53us/sample - loss: 0.0306 - accuracy: 0.9860 - val_loss: 0.0312 - val_accuracy: 0.9860\n",
      "Epoch 164/300\n",
      "571/571 [==============================] - 0s 54us/sample - loss: 0.0306 - accuracy: 0.9895 - val_loss: 0.0536 - val_accuracy: 0.9790\n",
      "Epoch 165/300\n",
      "571/571 [==============================] - 0s 54us/sample - loss: 0.0335 - accuracy: 0.9877 - val_loss: 0.0437 - val_accuracy: 0.9790\n",
      "Epoch 166/300\n",
      "571/571 [==============================] - 0s 51us/sample - loss: 0.0307 - accuracy: 0.9860 - val_loss: 0.0357 - val_accuracy: 0.9860\n",
      "Epoch 167/300\n"
     ]
    },
    {
     "name": "stdout",
     "output_type": "stream",
     "text": [
      "571/571 [==============================] - 0s 53us/sample - loss: 0.0298 - accuracy: 0.9860 - val_loss: 0.0514 - val_accuracy: 0.9790\n",
      "Epoch 168/300\n",
      "571/571 [==============================] - 0s 51us/sample - loss: 0.0323 - accuracy: 0.9877 - val_loss: 0.0263 - val_accuracy: 0.9930\n",
      "Epoch 169/300\n",
      "571/571 [==============================] - 0s 53us/sample - loss: 0.0308 - accuracy: 0.9895 - val_loss: 0.0612 - val_accuracy: 0.9720\n",
      "Epoch 170/300\n",
      "571/571 [==============================] - 0s 48us/sample - loss: 0.0297 - accuracy: 0.9877 - val_loss: 0.0295 - val_accuracy: 0.9860\n",
      "Epoch 171/300\n",
      "571/571 [==============================] - 0s 47us/sample - loss: 0.0314 - accuracy: 0.9877 - val_loss: 0.0274 - val_accuracy: 0.9930\n",
      "Epoch 172/300\n",
      "571/571 [==============================] - 0s 53us/sample - loss: 0.0299 - accuracy: 0.9877 - val_loss: 0.0545 - val_accuracy: 0.9790\n",
      "Epoch 173/300\n",
      "571/571 [==============================] - 0s 49us/sample - loss: 0.0295 - accuracy: 0.9930 - val_loss: 0.0234 - val_accuracy: 1.0000\n",
      "Epoch 174/300\n",
      "571/571 [==============================] - 0s 51us/sample - loss: 0.0358 - accuracy: 0.9825 - val_loss: 0.0408 - val_accuracy: 0.9860\n",
      "Epoch 175/300\n",
      "571/571 [==============================] - 0s 49us/sample - loss: 0.0309 - accuracy: 0.9877 - val_loss: 0.0400 - val_accuracy: 0.9790\n",
      "Epoch 176/300\n",
      "571/571 [==============================] - 0s 54us/sample - loss: 0.0288 - accuracy: 0.9877 - val_loss: 0.0502 - val_accuracy: 0.9790\n",
      "Epoch 177/300\n",
      "571/571 [==============================] - 0s 54us/sample - loss: 0.0322 - accuracy: 0.9842 - val_loss: 0.0301 - val_accuracy: 0.9860\n",
      "Epoch 178/300\n",
      "571/571 [==============================] - 0s 53us/sample - loss: 0.0275 - accuracy: 0.9912 - val_loss: 0.0333 - val_accuracy: 0.9860\n",
      "Epoch 179/300\n",
      "571/571 [==============================] - 0s 51us/sample - loss: 0.0297 - accuracy: 0.9895 - val_loss: 0.0498 - val_accuracy: 0.9790\n",
      "Epoch 180/300\n",
      "571/571 [==============================] - 0s 53us/sample - loss: 0.0291 - accuracy: 0.9877 - val_loss: 0.0402 - val_accuracy: 0.9790\n",
      "Epoch 181/300\n",
      "571/571 [==============================] - 0s 49us/sample - loss: 0.0275 - accuracy: 0.9895 - val_loss: 0.0346 - val_accuracy: 0.9860\n",
      "Epoch 182/300\n",
      "571/571 [==============================] - 0s 54us/sample - loss: 0.0288 - accuracy: 0.9877 - val_loss: 0.0436 - val_accuracy: 0.9790\n",
      "Epoch 183/300\n",
      "571/571 [==============================] - 0s 52us/sample - loss: 0.0281 - accuracy: 0.9877 - val_loss: 0.0263 - val_accuracy: 0.9930\n",
      "Epoch 184/300\n",
      "571/571 [==============================] - 0s 50us/sample - loss: 0.0343 - accuracy: 0.9860 - val_loss: 0.0293 - val_accuracy: 0.9860\n",
      "Epoch 185/300\n",
      "571/571 [==============================] - 0s 53us/sample - loss: 0.0329 - accuracy: 0.9860 - val_loss: 0.0375 - val_accuracy: 0.9860\n",
      "Epoch 186/300\n",
      "571/571 [==============================] - 0s 51us/sample - loss: 0.0285 - accuracy: 0.9877 - val_loss: 0.0323 - val_accuracy: 0.9860\n",
      "Epoch 187/300\n",
      "571/571 [==============================] - 0s 49us/sample - loss: 0.0269 - accuracy: 0.9895 - val_loss: 0.0393 - val_accuracy: 0.9790\n",
      "Epoch 188/300\n",
      "571/571 [==============================] - 0s 51us/sample - loss: 0.0261 - accuracy: 0.9912 - val_loss: 0.0459 - val_accuracy: 0.9790\n",
      "Epoch 189/300\n",
      "571/571 [==============================] - 0s 58us/sample - loss: 0.0263 - accuracy: 0.9895 - val_loss: 0.0272 - val_accuracy: 0.9930\n",
      "Epoch 190/300\n",
      "571/571 [==============================] - 0s 53us/sample - loss: 0.0270 - accuracy: 0.9877 - val_loss: 0.0560 - val_accuracy: 0.9720\n",
      "Epoch 191/300\n",
      "571/571 [==============================] - 0s 51us/sample - loss: 0.0253 - accuracy: 0.9895 - val_loss: 0.0305 - val_accuracy: 0.9860\n",
      "Epoch 192/300\n",
      "571/571 [==============================] - 0s 54us/sample - loss: 0.0320 - accuracy: 0.9877 - val_loss: 0.0440 - val_accuracy: 0.9790\n",
      "Epoch 193/300\n",
      "571/571 [==============================] - 0s 52us/sample - loss: 0.0274 - accuracy: 0.9895 - val_loss: 0.0444 - val_accuracy: 0.9790\n",
      "Epoch 194/300\n",
      "571/571 [==============================] - 0s 52us/sample - loss: 0.0339 - accuracy: 0.9860 - val_loss: 0.0414 - val_accuracy: 0.9790\n",
      "Epoch 195/300\n",
      "571/571 [==============================] - 0s 49us/sample - loss: 0.0292 - accuracy: 0.9877 - val_loss: 0.0305 - val_accuracy: 0.9860\n",
      "Epoch 196/300\n",
      "571/571 [==============================] - 0s 54us/sample - loss: 0.0268 - accuracy: 0.9877 - val_loss: 0.0386 - val_accuracy: 0.9790\n",
      "Epoch 197/300\n",
      "571/571 [==============================] - 0s 50us/sample - loss: 0.0258 - accuracy: 0.9877 - val_loss: 0.0419 - val_accuracy: 0.9790\n",
      "Epoch 198/300\n",
      "571/571 [==============================] - 0s 54us/sample - loss: 0.0252 - accuracy: 0.9895 - val_loss: 0.0420 - val_accuracy: 0.9790\n",
      "Epoch 00198: early stopping\n"
     ]
    },
    {
     "data": {
      "text/plain": [
       "<tensorflow.python.keras.callbacks.History at 0x23beb49f888>"
      ]
     },
     "execution_count": 47,
     "metadata": {},
     "output_type": "execute_result"
    }
   ],
   "source": [
    "model.fit(x_train,y_train,epochs=300,validation_data=(x_test,y_test),callbacks=[earlystop])"
   ]
  },
  {
   "cell_type": "code",
   "execution_count": 53,
   "metadata": {},
   "outputs": [
    {
     "name": "stdout",
     "output_type": "stream",
     "text": [
      "571/571 [==============================] - 0s 25us/sample - loss: 0.0239 - accuracy: 0.9895\n"
     ]
    },
    {
     "data": {
      "text/plain": [
       "[0.02386934497909891, 0.9894921]"
      ]
     },
     "execution_count": 53,
     "metadata": {},
     "output_type": "execute_result"
    }
   ],
   "source": [
    "model.evaluate(x_train,y_train)"
   ]
  },
  {
   "cell_type": "code",
   "execution_count": 54,
   "metadata": {},
   "outputs": [
    {
     "name": "stdout",
     "output_type": "stream",
     "text": [
      "143/143 [==============================] - 0s 49us/sample - loss: 0.0420 - accuracy: 0.9790\n"
     ]
    },
    {
     "data": {
      "text/plain": [
       "[0.04199674920955595, 0.97902095]"
      ]
     },
     "execution_count": 54,
     "metadata": {},
     "output_type": "execute_result"
    }
   ],
   "source": [
    "model.evaluate(x_test,y_test)"
   ]
  },
  {
   "cell_type": "code",
   "execution_count": 55,
   "metadata": {},
   "outputs": [],
   "source": [
    "metrics=pd.DataFrame(model.history.history)"
   ]
  },
  {
   "cell_type": "code",
   "execution_count": 56,
   "metadata": {},
   "outputs": [
    {
     "data": {
      "text/plain": [
       "<matplotlib.axes._subplots.AxesSubplot at 0x23bec9da408>"
      ]
     },
     "execution_count": 56,
     "metadata": {},
     "output_type": "execute_result"
    },
    {
     "data": {
      "image/png": "[encoded data removed]",
      "text/plain": [
       "<Figure size 432x288 with 1 Axes>"
      ]
     },
     "metadata": {},
     "output_type": "display_data"
    }
   ],
   "source": [
    "metrics.plot()"
   ]
  },
  {
   "cell_type": "code",
   "execution_count": 57,
   "metadata": {},
   "outputs": [],
   "source": [
    "predictions=model.predict_classes(x_test)"
   ]
  },
  {
   "cell_type": "code",
   "execution_count": 58,
   "metadata": {},
   "outputs": [],
   "source": [
    "from sklearn.metrics import classification_report,confusion_matrix"
   ]
  },
  {
   "cell_type": "code",
   "execution_count": 59,
   "metadata": {},
   "outputs": [
    {
     "name": "stdout",
     "output_type": "stream",
     "text": [
      "              precision    recall  f1-score   support\n",
      "\n",
      "           0       0.96      1.00      0.98        72\n",
      "           1       1.00      0.96      0.98        71\n",
      "\n",
      "    accuracy                           0.98       143\n",
      "   macro avg       0.98      0.98      0.98       143\n",
      "weighted avg       0.98      0.98      0.98       143\n",
      "\n"
     ]
    }
   ],
   "source": [
    "print(classification_report(y_test,predictions))"
   ]
  },
  {
   "cell_type": "code",
   "execution_count": 60,
   "metadata": {},
   "outputs": [
    {
     "name": "stdout",
     "output_type": "stream",
     "text": [
      "[[72  0]\n",
      " [ 3 68]]\n"
     ]
    }
   ],
   "source": [
    "print(confusion_matrix(y_test,predictions))"
   ]
  },
  {
   "cell_type": "code",
   "execution_count": null,
   "metadata": {},
   "outputs": [],
   "source": []
  }
 ],
 "metadata": {
  "kernelspec": {
   "display_name": "Python 3",
   "language": "python",
   "name": "python3"
  },
  "language_info": {
   "codemirror_mode": {
    "name": "ipython",
    "version": 3
   },
   "file_extension": ".py",
   "mimetype": "text/x-python",
   "name": "python",
   "nbconvert_exporter": "python",
   "pygments_lexer": "ipython3",
   "version": "3.7.6"
  }
 },
 "nbformat": 4,
 "nbformat_minor": 4
}
