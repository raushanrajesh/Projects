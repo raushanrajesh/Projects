{
 "cells": [
  {
   "cell_type": "code",
   "execution_count": 1,
   "metadata": {},
   "outputs": [],
   "source": [
    "import pandas as pd\n",
    "import numpy as np\n",
    "import seaborn as sns\n",
    "import matplotlib.pyplot as plt\n",
    "%matplotlib inline\n",
    "sns.set()"
   ]
  },
  {
   "cell_type": "code",
   "execution_count": 2,
   "metadata": {},
   "outputs": [],
   "source": [
    "from sklearn.datasets import load_iris"
   ]
  },
  {
   "cell_type": "code",
   "execution_count": 3,
   "metadata": {},
   "outputs": [
    {
     "data": {
      "text/html": [
       "<div>\n",
       "<style scoped>\n",
       "    .dataframe tbody tr th:only-of-type {\n",
       "        vertical-align: middle;\n",
       "    }\n",
       "\n",
       "    .dataframe tbody tr th {\n",
       "        vertical-align: top;\n",
       "    }\n",
       "\n",
       "    .dataframe thead th {\n",
       "        text-align: right;\n",
       "    }\n",
       "</style>\n",
       "<table border=\"1\" class=\"dataframe\">\n",
       "  <thead>\n",
       "    <tr style=\"text-align: right;\">\n",
       "      <th></th>\n",
       "      <th>0</th>\n",
       "      <th>1</th>\n",
       "      <th>2</th>\n",
       "      <th>3</th>\n",
       "    </tr>\n",
       "  </thead>\n",
       "  <tbody>\n",
       "    <tr>\n",
       "      <th>0</th>\n",
       "      <td>5.1</td>\n",
       "      <td>3.5</td>\n",
       "      <td>1.4</td>\n",
       "      <td>0.2</td>\n",
       "    </tr>\n",
       "    <tr>\n",
       "      <th>1</th>\n",
       "      <td>4.9</td>\n",
       "      <td>3.0</td>\n",
       "      <td>1.4</td>\n",
       "      <td>0.2</td>\n",
       "    </tr>\n",
       "    <tr>\n",
       "      <th>2</th>\n",
       "      <td>4.7</td>\n",
       "      <td>3.2</td>\n",
       "      <td>1.3</td>\n",
       "      <td>0.2</td>\n",
       "    </tr>\n",
       "    <tr>\n",
       "      <th>3</th>\n",
       "      <td>4.6</td>\n",
       "      <td>3.1</td>\n",
       "      <td>1.5</td>\n",
       "      <td>0.2</td>\n",
       "    </tr>\n",
       "    <tr>\n",
       "      <th>4</th>\n",
       "      <td>5.0</td>\n",
       "      <td>3.6</td>\n",
       "      <td>1.4</td>\n",
       "      <td>0.2</td>\n",
       "    </tr>\n",
       "  </tbody>\n",
       "</table>\n",
       "</div>"
      ],
      "text/plain": [
       "     0    1    2    3\n",
       "0  5.1  3.5  1.4  0.2\n",
       "1  4.9  3.0  1.4  0.2\n",
       "2  4.7  3.2  1.3  0.2\n",
       "3  4.6  3.1  1.5  0.2\n",
       "4  5.0  3.6  1.4  0.2"
      ]
     },
     "execution_count": 3,
     "metadata": {},
     "output_type": "execute_result"
    }
   ],
   "source": [
    "df=load_iris()\n",
    "dataset=pd.DataFrame(df.data)\n",
    "dataset.head()"
   ]
  },
  {
   "cell_type": "code",
   "execution_count": 4,
   "metadata": {},
   "outputs": [
    {
     "data": {
      "text/plain": [
       "150"
      ]
     },
     "execution_count": 4,
     "metadata": {},
     "output_type": "execute_result"
    }
   ],
   "source": [
    "len(dataset)"
   ]
  },
  {
   "cell_type": "code",
   "execution_count": 5,
   "metadata": {},
   "outputs": [
    {
     "data": {
      "text/html": [
       "<div>\n",
       "<style scoped>\n",
       "    .dataframe tbody tr th:only-of-type {\n",
       "        vertical-align: middle;\n",
       "    }\n",
       "\n",
       "    .dataframe tbody tr th {\n",
       "        vertical-align: top;\n",
       "    }\n",
       "\n",
       "    .dataframe thead th {\n",
       "        text-align: right;\n",
       "    }\n",
       "</style>\n",
       "<table border=\"1\" class=\"dataframe\">\n",
       "  <thead>\n",
       "    <tr style=\"text-align: right;\">\n",
       "      <th></th>\n",
       "      <th>0</th>\n",
       "      <th>1</th>\n",
       "      <th>2</th>\n",
       "      <th>3</th>\n",
       "    </tr>\n",
       "  </thead>\n",
       "  <tbody>\n",
       "    <tr>\n",
       "      <th>count</th>\n",
       "      <td>150.000000</td>\n",
       "      <td>150.000000</td>\n",
       "      <td>150.000000</td>\n",
       "      <td>150.000000</td>\n",
       "    </tr>\n",
       "    <tr>\n",
       "      <th>mean</th>\n",
       "      <td>5.843333</td>\n",
       "      <td>3.057333</td>\n",
       "      <td>3.758000</td>\n",
       "      <td>1.199333</td>\n",
       "    </tr>\n",
       "    <tr>\n",
       "      <th>std</th>\n",
       "      <td>0.828066</td>\n",
       "      <td>0.435866</td>\n",
       "      <td>1.765298</td>\n",
       "      <td>0.762238</td>\n",
       "    </tr>\n",
       "    <tr>\n",
       "      <th>min</th>\n",
       "      <td>4.300000</td>\n",
       "      <td>2.000000</td>\n",
       "      <td>1.000000</td>\n",
       "      <td>0.100000</td>\n",
       "    </tr>\n",
       "    <tr>\n",
       "      <th>25%</th>\n",
       "      <td>5.100000</td>\n",
       "      <td>2.800000</td>\n",
       "      <td>1.600000</td>\n",
       "      <td>0.300000</td>\n",
       "    </tr>\n",
       "    <tr>\n",
       "      <th>50%</th>\n",
       "      <td>5.800000</td>\n",
       "      <td>3.000000</td>\n",
       "      <td>4.350000</td>\n",
       "      <td>1.300000</td>\n",
       "    </tr>\n",
       "    <tr>\n",
       "      <th>75%</th>\n",
       "      <td>6.400000</td>\n",
       "      <td>3.300000</td>\n",
       "      <td>5.100000</td>\n",
       "      <td>1.800000</td>\n",
       "    </tr>\n",
       "    <tr>\n",
       "      <th>max</th>\n",
       "      <td>7.900000</td>\n",
       "      <td>4.400000</td>\n",
       "      <td>6.900000</td>\n",
       "      <td>2.500000</td>\n",
       "    </tr>\n",
       "  </tbody>\n",
       "</table>\n",
       "</div>"
      ],
      "text/plain": [
       "                0           1           2           3\n",
       "count  150.000000  150.000000  150.000000  150.000000\n",
       "mean     5.843333    3.057333    3.758000    1.199333\n",
       "std      0.828066    0.435866    1.765298    0.762238\n",
       "min      4.300000    2.000000    1.000000    0.100000\n",
       "25%      5.100000    2.800000    1.600000    0.300000\n",
       "50%      5.800000    3.000000    4.350000    1.300000\n",
       "75%      6.400000    3.300000    5.100000    1.800000\n",
       "max      7.900000    4.400000    6.900000    2.500000"
      ]
     },
     "execution_count": 5,
     "metadata": {},
     "output_type": "execute_result"
    }
   ],
   "source": [
    "dataset.describe()"
   ]
  },
  {
   "cell_type": "code",
   "execution_count": 6,
   "metadata": {},
   "outputs": [
    {
     "name": "stdout",
     "output_type": "stream",
     "text": [
      "<class 'pandas.core.frame.DataFrame'>\n",
      "RangeIndex: 150 entries, 0 to 149\n",
      "Data columns (total 4 columns):\n",
      " #   Column  Non-Null Count  Dtype  \n",
      "---  ------  --------------  -----  \n",
      " 0   0       150 non-null    float64\n",
      " 1   1       150 non-null    float64\n",
      " 2   2       150 non-null    float64\n",
      " 3   3       150 non-null    float64\n",
      "dtypes: float64(4)\n",
      "memory usage: 4.8 KB\n"
     ]
    }
   ],
   "source": [
    "dataset.info()"
   ]
  },
  {
   "cell_type": "code",
   "execution_count": 7,
   "metadata": {},
   "outputs": [
    {
     "data": {
      "text/plain": [
       "0    0.314911\n",
       "1    0.318966\n",
       "2   -0.274884\n",
       "3   -0.102967\n",
       "dtype: float64"
      ]
     },
     "execution_count": 7,
     "metadata": {},
     "output_type": "execute_result"
    }
   ],
   "source": [
    "dataset.skew()"
   ]
  },
  {
   "cell_type": "code",
   "execution_count": 8,
   "metadata": {},
   "outputs": [
    {
     "data": {
      "text/html": [
       "<div>\n",
       "<style scoped>\n",
       "    .dataframe tbody tr th:only-of-type {\n",
       "        vertical-align: middle;\n",
       "    }\n",
       "\n",
       "    .dataframe tbody tr th {\n",
       "        vertical-align: top;\n",
       "    }\n",
       "\n",
       "    .dataframe thead th {\n",
       "        text-align: right;\n",
       "    }\n",
       "</style>\n",
       "<table border=\"1\" class=\"dataframe\">\n",
       "  <thead>\n",
       "    <tr style=\"text-align: right;\">\n",
       "      <th></th>\n",
       "      <th>sepal length (cm)</th>\n",
       "      <th>sepal width (cm)</th>\n",
       "      <th>petal length (cm)</th>\n",
       "      <th>petal width (cm)</th>\n",
       "    </tr>\n",
       "  </thead>\n",
       "  <tbody>\n",
       "    <tr>\n",
       "      <th>0</th>\n",
       "      <td>5.1</td>\n",
       "      <td>3.5</td>\n",
       "      <td>1.4</td>\n",
       "      <td>0.2</td>\n",
       "    </tr>\n",
       "    <tr>\n",
       "      <th>1</th>\n",
       "      <td>4.9</td>\n",
       "      <td>3.0</td>\n",
       "      <td>1.4</td>\n",
       "      <td>0.2</td>\n",
       "    </tr>\n",
       "    <tr>\n",
       "      <th>2</th>\n",
       "      <td>4.7</td>\n",
       "      <td>3.2</td>\n",
       "      <td>1.3</td>\n",
       "      <td>0.2</td>\n",
       "    </tr>\n",
       "    <tr>\n",
       "      <th>3</th>\n",
       "      <td>4.6</td>\n",
       "      <td>3.1</td>\n",
       "      <td>1.5</td>\n",
       "      <td>0.2</td>\n",
       "    </tr>\n",
       "    <tr>\n",
       "      <th>4</th>\n",
       "      <td>5.0</td>\n",
       "      <td>3.6</td>\n",
       "      <td>1.4</td>\n",
       "      <td>0.2</td>\n",
       "    </tr>\n",
       "  </tbody>\n",
       "</table>\n",
       "</div>"
      ],
      "text/plain": [
       "   sepal length (cm)  sepal width (cm)  petal length (cm)  petal width (cm)\n",
       "0                5.1               3.5                1.4               0.2\n",
       "1                4.9               3.0                1.4               0.2\n",
       "2                4.7               3.2                1.3               0.2\n",
       "3                4.6               3.1                1.5               0.2\n",
       "4                5.0               3.6                1.4               0.2"
      ]
     },
     "execution_count": 8,
     "metadata": {},
     "output_type": "execute_result"
    }
   ],
   "source": [
    "dataset.columns=df.feature_names\n",
    "dataset.head()"
   ]
  },
  {
   "cell_type": "code",
   "execution_count": 9,
   "metadata": {},
   "outputs": [
    {
     "data": {
      "text/plain": [
       "array(['setosa', 'versicolor', 'virginica'], dtype='<U10')"
      ]
     },
     "execution_count": 9,
     "metadata": {},
     "output_type": "execute_result"
    }
   ],
   "source": [
    "df.target_names"
   ]
  },
  {
   "cell_type": "code",
   "execution_count": 10,
   "metadata": {},
   "outputs": [],
   "source": [
    "dataset['species']=df.target"
   ]
  },
  {
   "cell_type": "code",
   "execution_count": 11,
   "metadata": {},
   "outputs": [
    {
     "data": {
      "text/html": [
       "<div>\n",
       "<style scoped>\n",
       "    .dataframe tbody tr th:only-of-type {\n",
       "        vertical-align: middle;\n",
       "    }\n",
       "\n",
       "    .dataframe tbody tr th {\n",
       "        vertical-align: top;\n",
       "    }\n",
       "\n",
       "    .dataframe thead th {\n",
       "        text-align: right;\n",
       "    }\n",
       "</style>\n",
       "<table border=\"1\" class=\"dataframe\">\n",
       "  <thead>\n",
       "    <tr style=\"text-align: right;\">\n",
       "      <th></th>\n",
       "      <th>sepal length (cm)</th>\n",
       "      <th>sepal width (cm)</th>\n",
       "      <th>petal length (cm)</th>\n",
       "      <th>petal width (cm)</th>\n",
       "      <th>species</th>\n",
       "    </tr>\n",
       "  </thead>\n",
       "  <tbody>\n",
       "    <tr>\n",
       "      <th>0</th>\n",
       "      <td>5.1</td>\n",
       "      <td>3.5</td>\n",
       "      <td>1.4</td>\n",
       "      <td>0.2</td>\n",
       "      <td>0</td>\n",
       "    </tr>\n",
       "    <tr>\n",
       "      <th>1</th>\n",
       "      <td>4.9</td>\n",
       "      <td>3.0</td>\n",
       "      <td>1.4</td>\n",
       "      <td>0.2</td>\n",
       "      <td>0</td>\n",
       "    </tr>\n",
       "    <tr>\n",
       "      <th>2</th>\n",
       "      <td>4.7</td>\n",
       "      <td>3.2</td>\n",
       "      <td>1.3</td>\n",
       "      <td>0.2</td>\n",
       "      <td>0</td>\n",
       "    </tr>\n",
       "    <tr>\n",
       "      <th>3</th>\n",
       "      <td>4.6</td>\n",
       "      <td>3.1</td>\n",
       "      <td>1.5</td>\n",
       "      <td>0.2</td>\n",
       "      <td>0</td>\n",
       "    </tr>\n",
       "    <tr>\n",
       "      <th>4</th>\n",
       "      <td>5.0</td>\n",
       "      <td>3.6</td>\n",
       "      <td>1.4</td>\n",
       "      <td>0.2</td>\n",
       "      <td>0</td>\n",
       "    </tr>\n",
       "  </tbody>\n",
       "</table>\n",
       "</div>"
      ],
      "text/plain": [
       "   sepal length (cm)  sepal width (cm)  petal length (cm)  petal width (cm)  \\\n",
       "0                5.1               3.5                1.4               0.2   \n",
       "1                4.9               3.0                1.4               0.2   \n",
       "2                4.7               3.2                1.3               0.2   \n",
       "3                4.6               3.1                1.5               0.2   \n",
       "4                5.0               3.6                1.4               0.2   \n",
       "\n",
       "   species  \n",
       "0        0  \n",
       "1        0  \n",
       "2        0  \n",
       "3        0  \n",
       "4        0  "
      ]
     },
     "execution_count": 11,
     "metadata": {},
     "output_type": "execute_result"
    }
   ],
   "source": [
    "dataset.head()"
   ]
  },
  {
   "cell_type": "code",
   "execution_count": 12,
   "metadata": {},
   "outputs": [
    {
     "data": {
      "text/plain": [
       "3"
      ]
     },
     "execution_count": 12,
     "metadata": {},
     "output_type": "execute_result"
    }
   ],
   "source": [
    "dataset['species'].nunique()"
   ]
  },
  {
   "cell_type": "code",
   "execution_count": 13,
   "metadata": {},
   "outputs": [
    {
     "data": {
      "text/plain": [
       "<matplotlib.axes._subplots.AxesSubplot at 0x1f459d50488>"
      ]
     },
     "execution_count": 13,
     "metadata": {},
     "output_type": "execute_result"
    },
    {
     "data": {
      "image/png": "[encoded data removed]",
      "text/plain": [
       "<Figure size 432x288 with 1 Axes>"
      ]
     },
     "metadata": {},
     "output_type": "display_data"
    }
   ],
   "source": [
    "sns.countplot(dataset['species'])"
   ]
  },
  {
   "cell_type": "code",
   "execution_count": 14,
   "metadata": {},
   "outputs": [
    {
     "data": {
      "text/plain": [
       "array(0)"
      ]
     },
     "execution_count": 14,
     "metadata": {},
     "output_type": "execute_result"
    }
   ],
   "source": [
    "np.zeros_like(15)"
   ]
  },
  {
   "cell_type": "code",
   "execution_count": 15,
   "metadata": {
    "scrolled": true
   },
   "outputs": [],
   "source": [
    "dataset_setosa=dataset.loc[dataset['species']==0]\n",
    "dataset_versicolor=dataset.loc[dataset['species']==1]\n",
    "dataset_verginica=dataset.loc[dataset['species']==2]"
   ]
  },
  {
   "cell_type": "code",
   "execution_count": 16,
   "metadata": {},
   "outputs": [
    {
     "data": {
      "text/plain": [
       "Text(0.5, 0, 'Petal Length')"
      ]
     },
     "execution_count": 16,
     "metadata": {},
     "output_type": "execute_result"
    },
    {
     "data": {
      "image/png": "[encoded data removed]",
      "text/plain": [
       "<Figure size 432x288 with 1 Axes>"
      ]
     },
     "metadata": {},
     "output_type": "display_data"
    }
   ],
   "source": [
    "plt.plot(dataset_setosa['sepal length (cm)'],np.zeros_like(dataset_setosa['sepal length (cm)']),'o')\n",
    "plt.plot(dataset_versicolor['sepal length (cm)'],np.zeros_like(dataset_versicolor['sepal length (cm)']),'o')\n",
    "plt.plot(dataset_verginica['sepal length (cm)'],np.zeros_like(dataset_verginica['sepal length (cm)']),'o')\n",
    "plt.xlabel('Petal Length')"
   ]
  },
  {
   "cell_type": "code",
   "execution_count": 17,
   "metadata": {},
   "outputs": [
    {
     "data": {
      "text/plain": [
       "<matplotlib.axes._subplots.AxesSubplot at 0x1f45a38b188>"
      ]
     },
     "execution_count": 17,
     "metadata": {},
     "output_type": "execute_result"
    },
    {
     "data": {
      "image/png": "[encoded data removed]",
      "text/plain": [
       "<Figure size 432x288 with 1 Axes>"
      ]
     },
     "metadata": {},
     "output_type": "display_data"
    }
   ],
   "source": [
    "sns.scatterplot(dataset['petal length (cm)'],dataset['petal width (cm)'],hue=dataset['species'])"
   ]
  },
  {
   "cell_type": "code",
   "execution_count": 18,
   "metadata": {},
   "outputs": [
    {
     "data": {
      "text/plain": [
       "<matplotlib.axes._subplots.AxesSubplot at 0x1f45a3d6748>"
      ]
     },
     "execution_count": 18,
     "metadata": {},
     "output_type": "execute_result"
    },
    {
     "data": {
      "image/png": "[encoded data removed]",
      "text/plain": [
       "<Figure size 432x288 with 1 Axes>"
      ]
     },
     "metadata": {},
     "output_type": "display_data"
    }
   ],
   "source": [
    "sns.scatterplot(dataset['sepal length (cm)'],dataset['sepal width (cm)'],hue=dataset['species'])"
   ]
  },
  {
   "cell_type": "code",
   "execution_count": 19,
   "metadata": {},
   "outputs": [
    {
     "data": {
      "text/plain": [
       "<matplotlib.axes._subplots.AxesSubplot at 0x1f459975ac8>"
      ]
     },
     "execution_count": 19,
     "metadata": {},
     "output_type": "execute_result"
    },
    {
     "data": {
      "image/png": "[encoded data removed]",
      "text/plain": [
       "<Figure size 432x288 with 1 Axes>"
      ]
     },
     "metadata": {},
     "output_type": "display_data"
    }
   ],
   "source": [
    "sns.scatterplot(dataset['sepal length (cm)'],dataset['petal length (cm)'],hue=dataset['species'])"
   ]
  },
  {
   "cell_type": "code",
   "execution_count": 20,
   "metadata": {},
   "outputs": [
    {
     "data": {
      "text/plain": [
       "<matplotlib.axes._subplots.AxesSubplot at 0x1f456202848>"
      ]
     },
     "execution_count": 20,
     "metadata": {},
     "output_type": "execute_result"
    },
    {
     "data": {
      "image/png": "[encoded data removed]",
      "text/plain": [
       "<Figure size 432x288 with 1 Axes>"
      ]
     },
     "metadata": {},
     "output_type": "display_data"
    }
   ],
   "source": [
    "sns.scatterplot(dataset['petal width (cm)'],dataset['sepal width (cm)'],hue=dataset['species'])"
   ]
  },
  {
   "cell_type": "code",
   "execution_count": 21,
   "metadata": {},
   "outputs": [],
   "source": [
    "x=dataset.drop('species',axis=1).values\n",
    "y=dataset['species'].values"
   ]
  },
  {
   "cell_type": "code",
   "execution_count": 22,
   "metadata": {},
   "outputs": [
    {
     "name": "stdout",
     "output_type": "stream",
     "text": [
      "(150, 4)\n",
      "(150,)\n"
     ]
    }
   ],
   "source": [
    "print(x.shape)\n",
    "print(y.shape)"
   ]
  },
  {
   "cell_type": "code",
   "execution_count": 23,
   "metadata": {},
   "outputs": [],
   "source": [
    "from sklearn.model_selection import train_test_split\n",
    "x_train,x_test,y_train,y_test=train_test_split(x,y,test_size=0.2,random_state=42,stratify=y)"
   ]
  },
  {
   "cell_type": "code",
   "execution_count": 24,
   "metadata": {},
   "outputs": [],
   "source": [
    "from sklearn.preprocessing import MinMaxScaler\n",
    "scaler=MinMaxScaler()"
   ]
  },
  {
   "cell_type": "code",
   "execution_count": 25,
   "metadata": {},
   "outputs": [],
   "source": [
    "x_train=scaler.fit_transform(x_train)\n",
    "x_test=scaler.transform(x_test)"
   ]
  },
  {
   "cell_type": "code",
   "execution_count": 26,
   "metadata": {},
   "outputs": [
    {
     "data": {
      "text/plain": [
       "(120, 4)"
      ]
     },
     "execution_count": 26,
     "metadata": {},
     "output_type": "execute_result"
    }
   ],
   "source": [
    "x_train.shape"
   ]
  },
  {
   "cell_type": "code",
   "execution_count": 27,
   "metadata": {},
   "outputs": [
    {
     "data": {
      "text/plain": [
       "(30,)"
      ]
     },
     "execution_count": 27,
     "metadata": {},
     "output_type": "execute_result"
    }
   ],
   "source": [
    "y_test.shape"
   ]
  },
  {
   "cell_type": "code",
   "execution_count": 28,
   "metadata": {},
   "outputs": [],
   "source": [
    "from tensorflow.keras.models import Sequential\n",
    "from tensorflow.keras.layers import Dense"
   ]
  },
  {
   "cell_type": "code",
   "execution_count": 29,
   "metadata": {},
   "outputs": [
    {
     "name": "stdout",
     "output_type": "stream",
     "text": [
      "Train on 120 samples, validate on 30 samples\n",
      "Epoch 1/100\n",
      "120/120 [==============================] - 0s 3ms/sample - loss: 1.0601 - accuracy: 0.6667 - val_loss: 1.0388 - val_accuracy: 0.6667\n",
      "Epoch 2/100\n",
      "120/120 [==============================] - 0s 117us/sample - loss: 1.0246 - accuracy: 0.6667 - val_loss: 1.0068 - val_accuracy: 0.6667\n",
      "Epoch 3/100\n",
      "120/120 [==============================] - 0s 109us/sample - loss: 0.9930 - accuracy: 0.6667 - val_loss: 0.9743 - val_accuracy: 0.6667\n",
      "Epoch 4/100\n",
      "120/120 [==============================] - 0s 96us/sample - loss: 0.9618 - accuracy: 0.6667 - val_loss: 0.9423 - val_accuracy: 0.6667\n",
      "Epoch 5/100\n",
      "120/120 [==============================] - 0s 92us/sample - loss: 0.9303 - accuracy: 0.6667 - val_loss: 0.9111 - val_accuracy: 0.6667\n",
      "Epoch 6/100\n",
      "120/120 [==============================] - 0s 98us/sample - loss: 0.8984 - accuracy: 0.6667 - val_loss: 0.8786 - val_accuracy: 0.6667\n",
      "Epoch 7/100\n",
      "120/120 [==============================] - 0s 100us/sample - loss: 0.8656 - accuracy: 0.6667 - val_loss: 0.8434 - val_accuracy: 0.6667\n",
      "Epoch 8/100\n",
      "120/120 [==============================] - 0s 117us/sample - loss: 0.8300 - accuracy: 0.6667 - val_loss: 0.8065 - val_accuracy: 0.6667\n",
      "Epoch 9/100\n",
      "120/120 [==============================] - 0s 109us/sample - loss: 0.7934 - accuracy: 0.6667 - val_loss: 0.7695 - val_accuracy: 0.6667\n",
      "Epoch 10/100\n",
      "120/120 [==============================] - 0s 109us/sample - loss: 0.7571 - accuracy: 0.6667 - val_loss: 0.7314 - val_accuracy: 0.6667\n",
      "Epoch 11/100\n",
      "120/120 [==============================] - 0s 109us/sample - loss: 0.7192 - accuracy: 0.6667 - val_loss: 0.6926 - val_accuracy: 0.6667\n",
      "Epoch 12/100\n",
      "120/120 [==============================] - 0s 104us/sample - loss: 0.6818 - accuracy: 0.6667 - val_loss: 0.6559 - val_accuracy: 0.6667\n",
      "Epoch 13/100\n",
      "120/120 [==============================] - 0s 109us/sample - loss: 0.6460 - accuracy: 0.6667 - val_loss: 0.6207 - val_accuracy: 0.6667\n",
      "Epoch 14/100\n",
      "120/120 [==============================] - 0s 109us/sample - loss: 0.6126 - accuracy: 0.6667 - val_loss: 0.5872 - val_accuracy: 0.7000\n",
      "Epoch 15/100\n",
      "120/120 [==============================] - 0s 109us/sample - loss: 0.5809 - accuracy: 0.6750 - val_loss: 0.5572 - val_accuracy: 0.7000\n",
      "Epoch 16/100\n",
      "120/120 [==============================] - 0s 100us/sample - loss: 0.5526 - accuracy: 0.6917 - val_loss: 0.5300 - val_accuracy: 0.7333\n",
      "Epoch 17/100\n",
      "120/120 [==============================] - ETA: 0s - loss: 0.4956 - accuracy: 0.78 - 0s 125us/sample - loss: 0.5264 - accuracy: 0.7083 - val_loss: 0.5060 - val_accuracy: 0.7333\n",
      "Epoch 18/100\n",
      "120/120 [==============================] - 0s 109us/sample - loss: 0.5047 - accuracy: 0.7583 - val_loss: 0.4851 - val_accuracy: 0.7667\n",
      "Epoch 19/100\n",
      "120/120 [==============================] - 0s 113us/sample - loss: 0.4841 - accuracy: 0.7583 - val_loss: 0.4670 - val_accuracy: 0.7667\n",
      "Epoch 20/100\n",
      "120/120 [==============================] - 0s 113us/sample - loss: 0.4657 - accuracy: 0.7583 - val_loss: 0.4510 - val_accuracy: 0.7667\n",
      "Epoch 21/100\n",
      "120/120 [==============================] - 0s 117us/sample - loss: 0.4499 - accuracy: 0.8750 - val_loss: 0.4361 - val_accuracy: 0.9667\n",
      "Epoch 22/100\n",
      "120/120 [==============================] - 0s 109us/sample - loss: 0.4348 - accuracy: 0.9000 - val_loss: 0.4225 - val_accuracy: 0.9667\n",
      "Epoch 23/100\n",
      "120/120 [==============================] - 0s 100us/sample - loss: 0.4210 - accuracy: 0.9083 - val_loss: 0.4096 - val_accuracy: 0.9667\n",
      "Epoch 24/100\n",
      "120/120 [==============================] - 0s 100us/sample - loss: 0.4078 - accuracy: 0.9250 - val_loss: 0.3975 - val_accuracy: 0.9667\n",
      "Epoch 25/100\n",
      "120/120 [==============================] - 0s 100us/sample - loss: 0.3953 - accuracy: 0.9250 - val_loss: 0.3857 - val_accuracy: 0.9667\n",
      "Epoch 26/100\n",
      "120/120 [==============================] - 0s 113us/sample - loss: 0.3835 - accuracy: 0.9333 - val_loss: 0.3740 - val_accuracy: 0.9667\n",
      "Epoch 27/100\n",
      "120/120 [==============================] - 0s 110us/sample - loss: 0.3715 - accuracy: 0.9333 - val_loss: 0.3626 - val_accuracy: 0.9667\n",
      "Epoch 28/100\n",
      "120/120 [==============================] - 0s 117us/sample - loss: 0.3618 - accuracy: 0.9417 - val_loss: 0.3520 - val_accuracy: 0.9667\n",
      "Epoch 29/100\n",
      "120/120 [==============================] - 0s 100us/sample - loss: 0.3481 - accuracy: 0.9667 - val_loss: 0.3407 - val_accuracy: 0.9667\n",
      "Epoch 30/100\n",
      "120/120 [==============================] - 0s 109us/sample - loss: 0.3362 - accuracy: 0.9500 - val_loss: 0.3298 - val_accuracy: 0.9667\n",
      "Epoch 31/100\n",
      "120/120 [==============================] - 0s 92us/sample - loss: 0.3268 - accuracy: 0.9333 - val_loss: 0.3190 - val_accuracy: 0.9667\n",
      "Epoch 32/100\n",
      "120/120 [==============================] - 0s 109us/sample - loss: 0.3157 - accuracy: 0.9333 - val_loss: 0.3084 - val_accuracy: 0.9667\n",
      "Epoch 33/100\n",
      "120/120 [==============================] - 0s 104us/sample - loss: 0.3056 - accuracy: 0.9667 - val_loss: 0.2996 - val_accuracy: 0.9667\n",
      "Epoch 34/100\n",
      "120/120 [==============================] - 0s 100us/sample - loss: 0.2939 - accuracy: 0.9583 - val_loss: 0.2885 - val_accuracy: 0.9667\n",
      "Epoch 35/100\n",
      "120/120 [==============================] - 0s 109us/sample - loss: 0.2828 - accuracy: 0.9667 - val_loss: 0.2783 - val_accuracy: 0.9667\n",
      "Epoch 36/100\n",
      "120/120 [==============================] - 0s 109us/sample - loss: 0.2710 - accuracy: 0.9667 - val_loss: 0.2701 - val_accuracy: 0.9667\n",
      "Epoch 37/100\n",
      "120/120 [==============================] - 0s 100us/sample - loss: 0.2693 - accuracy: 0.9667 - val_loss: 0.2644 - val_accuracy: 0.9667\n",
      "Epoch 38/100\n",
      "120/120 [==============================] - 0s 100us/sample - loss: 0.2534 - accuracy: 0.9583 - val_loss: 0.2517 - val_accuracy: 0.9667\n",
      "Epoch 39/100\n",
      "120/120 [==============================] - 0s 109us/sample - loss: 0.2485 - accuracy: 0.9417 - val_loss: 0.2440 - val_accuracy: 0.9667\n",
      "Epoch 40/100\n",
      "120/120 [==============================] - 0s 104us/sample - loss: 0.2330 - accuracy: 0.9667 - val_loss: 0.2366 - val_accuracy: 0.9667\n",
      "Epoch 41/100\n",
      "120/120 [==============================] - 0s 98us/sample - loss: 0.2235 - accuracy: 0.9667 - val_loss: 0.2348 - val_accuracy: 0.9667\n",
      "Epoch 42/100\n",
      "120/120 [==============================] - 0s 100us/sample - loss: 0.2194 - accuracy: 0.9667 - val_loss: 0.2256 - val_accuracy: 0.9333\n",
      "Epoch 43/100\n",
      "120/120 [==============================] - 0s 92us/sample - loss: 0.2084 - accuracy: 0.9667 - val_loss: 0.2148 - val_accuracy: 0.9667\n",
      "Epoch 44/100\n",
      "120/120 [==============================] - 0s 109us/sample - loss: 0.2007 - accuracy: 0.9750 - val_loss: 0.2076 - val_accuracy: 0.9667\n",
      "Epoch 45/100\n",
      "120/120 [==============================] - 0s 109us/sample - loss: 0.1945 - accuracy: 0.9667 - val_loss: 0.2016 - val_accuracy: 0.9667\n",
      "Epoch 46/100\n",
      "120/120 [==============================] - 0s 109us/sample - loss: 0.1866 - accuracy: 0.9667 - val_loss: 0.1956 - val_accuracy: 0.9667\n",
      "Epoch 47/100\n",
      "120/120 [==============================] - 0s 113us/sample - loss: 0.1896 - accuracy: 0.9667 - val_loss: 0.1967 - val_accuracy: 0.9667\n",
      "Epoch 48/100\n",
      "120/120 [==============================] - 0s 109us/sample - loss: 0.1750 - accuracy: 0.9667 - val_loss: 0.1842 - val_accuracy: 0.9667\n",
      "Epoch 49/100\n",
      "120/120 [==============================] - 0s 92us/sample - loss: 0.1705 - accuracy: 0.9750 - val_loss: 0.1797 - val_accuracy: 0.9667\n",
      "Epoch 50/100\n",
      "120/120 [==============================] - 0s 117us/sample - loss: 0.1642 - accuracy: 0.9750 - val_loss: 0.1768 - val_accuracy: 0.9667\n",
      "Epoch 51/100\n",
      "120/120 [==============================] - 0s 109us/sample - loss: 0.1581 - accuracy: 0.9667 - val_loss: 0.1779 - val_accuracy: 0.9667\n",
      "Epoch 52/100\n",
      "120/120 [==============================] - 0s 109us/sample - loss: 0.1571 - accuracy: 0.9667 - val_loss: 0.1721 - val_accuracy: 0.9667\n",
      "Epoch 53/100\n",
      "120/120 [==============================] - 0s 109us/sample - loss: 0.1502 - accuracy: 0.9667 - val_loss: 0.1626 - val_accuracy: 0.9667\n",
      "Epoch 54/100\n",
      "120/120 [==============================] - 0s 92us/sample - loss: 0.1479 - accuracy: 0.9750 - val_loss: 0.1584 - val_accuracy: 0.9667\n",
      "Epoch 55/100\n",
      "120/120 [==============================] - 0s 88us/sample - loss: 0.1392 - accuracy: 0.9667 - val_loss: 0.1616 - val_accuracy: 0.9667\n"
     ]
    },
    {
     "name": "stdout",
     "output_type": "stream",
     "text": [
      "Epoch 56/100\n",
      "120/120 [==============================] - 0s 92us/sample - loss: 0.1378 - accuracy: 0.9667 - val_loss: 0.1610 - val_accuracy: 0.9667\n",
      "Epoch 57/100\n",
      "120/120 [==============================] - 0s 109us/sample - loss: 0.1327 - accuracy: 0.9667 - val_loss: 0.1506 - val_accuracy: 0.9667\n",
      "Epoch 58/100\n",
      "120/120 [==============================] - 0s 109us/sample - loss: 0.1277 - accuracy: 0.9667 - val_loss: 0.1457 - val_accuracy: 0.9667\n",
      "Epoch 59/100\n",
      "120/120 [==============================] - 0s 100us/sample - loss: 0.1264 - accuracy: 0.9667 - val_loss: 0.1433 - val_accuracy: 0.9667\n",
      "Epoch 60/100\n",
      "120/120 [==============================] - 0s 100us/sample - loss: 0.1219 - accuracy: 0.9667 - val_loss: 0.1436 - val_accuracy: 0.9667\n",
      "Epoch 61/100\n",
      "120/120 [==============================] - 0s 100us/sample - loss: 0.1190 - accuracy: 0.9667 - val_loss: 0.1429 - val_accuracy: 0.9667\n",
      "Epoch 62/100\n",
      "120/120 [==============================] - 0s 100us/sample - loss: 0.1181 - accuracy: 0.9667 - val_loss: 0.1398 - val_accuracy: 0.9667\n",
      "Epoch 63/100\n",
      "120/120 [==============================] - 0s 92us/sample - loss: 0.1123 - accuracy: 0.9667 - val_loss: 0.1335 - val_accuracy: 0.9667\n",
      "Epoch 64/100\n",
      "120/120 [==============================] - 0s 84us/sample - loss: 0.1118 - accuracy: 0.9667 - val_loss: 0.1309 - val_accuracy: 0.9667\n",
      "Epoch 65/100\n",
      "120/120 [==============================] - 0s 100us/sample - loss: 0.1089 - accuracy: 0.9667 - val_loss: 0.1312 - val_accuracy: 0.9667\n",
      "Epoch 66/100\n",
      "120/120 [==============================] - 0s 100us/sample - loss: 0.1052 - accuracy: 0.9667 - val_loss: 0.1351 - val_accuracy: 0.9667\n",
      "Epoch 67/100\n",
      "120/120 [==============================] - 0s 92us/sample - loss: 0.1053 - accuracy: 0.9750 - val_loss: 0.1318 - val_accuracy: 1.0000\n",
      "Epoch 68/100\n",
      "120/120 [==============================] - 0s 100us/sample - loss: 0.1021 - accuracy: 0.9667 - val_loss: 0.1249 - val_accuracy: 0.9667\n",
      "Epoch 69/100\n",
      "120/120 [==============================] - 0s 100us/sample - loss: 0.1026 - accuracy: 0.9667 - val_loss: 0.1218 - val_accuracy: 0.9667\n",
      "Epoch 70/100\n",
      "120/120 [==============================] - 0s 100us/sample - loss: 0.0974 - accuracy: 0.9667 - val_loss: 0.1260 - val_accuracy: 0.9667\n",
      "Epoch 71/100\n",
      "120/120 [==============================] - 0s 104us/sample - loss: 0.0977 - accuracy: 0.9750 - val_loss: 0.1279 - val_accuracy: 0.9667\n",
      "Epoch 72/100\n",
      "120/120 [==============================] - 0s 116us/sample - loss: 0.0944 - accuracy: 0.9667 - val_loss: 0.1192 - val_accuracy: 0.9667\n",
      "Epoch 73/100\n",
      "120/120 [==============================] - 0s 109us/sample - loss: 0.0946 - accuracy: 0.9667 - val_loss: 0.1153 - val_accuracy: 0.9667\n",
      "Epoch 74/100\n",
      "120/120 [==============================] - 0s 92us/sample - loss: 0.0921 - accuracy: 0.9667 - val_loss: 0.1160 - val_accuracy: 0.9667\n",
      "Epoch 75/100\n",
      "120/120 [==============================] - 0s 109us/sample - loss: 0.0919 - accuracy: 0.9750 - val_loss: 0.1247 - val_accuracy: 0.9667\n",
      "Epoch 76/100\n",
      "120/120 [==============================] - 0s 109us/sample - loss: 0.0892 - accuracy: 0.9750 - val_loss: 0.1167 - val_accuracy: 0.9667\n",
      "Epoch 77/100\n",
      "120/120 [==============================] - 0s 100us/sample - loss: 0.0887 - accuracy: 0.9667 - val_loss: 0.1103 - val_accuracy: 0.9667\n",
      "Epoch 78/100\n",
      "120/120 [==============================] - 0s 104us/sample - loss: 0.0880 - accuracy: 0.9667 - val_loss: 0.1117 - val_accuracy: 0.9667\n",
      "Epoch 79/100\n",
      "120/120 [==============================] - 0s 88us/sample - loss: 0.0848 - accuracy: 0.9750 - val_loss: 0.1148 - val_accuracy: 0.9667\n",
      "Epoch 80/100\n",
      "120/120 [==============================] - 0s 92us/sample - loss: 0.0841 - accuracy: 0.9667 - val_loss: 0.1089 - val_accuracy: 0.9667\n",
      "Epoch 81/100\n",
      "120/120 [==============================] - 0s 109us/sample - loss: 0.0819 - accuracy: 0.9667 - val_loss: 0.1081 - val_accuracy: 0.9667\n",
      "Epoch 82/100\n",
      "120/120 [==============================] - 0s 109us/sample - loss: 0.0814 - accuracy: 0.9667 - val_loss: 0.1088 - val_accuracy: 0.9667\n",
      "Epoch 83/100\n",
      "120/120 [==============================] - 0s 92us/sample - loss: 0.0802 - accuracy: 0.9750 - val_loss: 0.1122 - val_accuracy: 0.9667\n",
      "Epoch 84/100\n",
      "120/120 [==============================] - 0s 100us/sample - loss: 0.0792 - accuracy: 0.9750 - val_loss: 0.1095 - val_accuracy: 0.9667\n",
      "Epoch 85/100\n",
      "120/120 [==============================] - 0s 96us/sample - loss: 0.0775 - accuracy: 0.9750 - val_loss: 0.1046 - val_accuracy: 0.9667\n",
      "Epoch 86/100\n",
      "120/120 [==============================] - 0s 92us/sample - loss: 0.0765 - accuracy: 0.9667 - val_loss: 0.1030 - val_accuracy: 0.9667\n",
      "Epoch 87/100\n",
      "120/120 [==============================] - 0s 97us/sample - loss: 0.0774 - accuracy: 0.9667 - val_loss: 0.1015 - val_accuracy: 0.9667\n",
      "Epoch 88/100\n",
      "120/120 [==============================] - 0s 92us/sample - loss: 0.0773 - accuracy: 0.9667 - val_loss: 0.1080 - val_accuracy: 0.9667\n",
      "Epoch 89/100\n",
      "120/120 [==============================] - 0s 100us/sample - loss: 0.0752 - accuracy: 0.9750 - val_loss: 0.1027 - val_accuracy: 0.9667\n",
      "Epoch 90/100\n",
      "120/120 [==============================] - 0s 100us/sample - loss: 0.0792 - accuracy: 0.9583 - val_loss: 0.0985 - val_accuracy: 0.9667\n",
      "Epoch 91/100\n",
      "120/120 [==============================] - 0s 109us/sample - loss: 0.0722 - accuracy: 0.9667 - val_loss: 0.1033 - val_accuracy: 0.9333\n",
      "Epoch 92/100\n",
      "120/120 [==============================] - 0s 100us/sample - loss: 0.0739 - accuracy: 0.9750 - val_loss: 0.1105 - val_accuracy: 0.9667\n",
      "Epoch 93/100\n",
      "120/120 [==============================] - 0s 109us/sample - loss: 0.0734 - accuracy: 0.9833 - val_loss: 0.0988 - val_accuracy: 0.9667\n",
      "Epoch 94/100\n",
      "120/120 [==============================] - 0s 90us/sample - loss: 0.0721 - accuracy: 0.9667 - val_loss: 0.0960 - val_accuracy: 0.9667\n",
      "Epoch 95/100\n",
      "120/120 [==============================] - 0s 109us/sample - loss: 0.0701 - accuracy: 0.9667 - val_loss: 0.0988 - val_accuracy: 0.9667\n",
      "Epoch 96/100\n",
      "120/120 [==============================] - 0s 109us/sample - loss: 0.0688 - accuracy: 0.9750 - val_loss: 0.0992 - val_accuracy: 0.9667\n",
      "Epoch 97/100\n",
      "120/120 [==============================] - 0s 100us/sample - loss: 0.0694 - accuracy: 0.9750 - val_loss: 0.0968 - val_accuracy: 0.9667\n",
      "Epoch 98/100\n",
      "120/120 [==============================] - 0s 92us/sample - loss: 0.0677 - accuracy: 0.9750 - val_loss: 0.0966 - val_accuracy: 0.9667\n",
      "Epoch 99/100\n",
      "120/120 [==============================] - 0s 100us/sample - loss: 0.0671 - accuracy: 0.9750 - val_loss: 0.0959 - val_accuracy: 0.9667\n",
      "Epoch 100/100\n",
      "120/120 [==============================] - 0s 117us/sample - loss: 0.0696 - accuracy: 0.9750 - val_loss: 0.0956 - val_accuracy: 0.9667\n"
     ]
    },
    {
     "data": {
      "text/plain": [
       "<tensorflow.python.keras.callbacks.History at 0x1f4603e2b08>"
      ]
     },
     "execution_count": 29,
     "metadata": {},
     "output_type": "execute_result"
    }
   ],
   "source": [
    "model=Sequential()\n",
    "model.add(Dense(100,input_dim=4,activation='relu'))\n",
    "model.add(Dense(50,activation='relu'))\n",
    "model.add(Dense(3,activation='softmax'))\n",
    "\n",
    "model.compile(loss='sparse_categorical_crossentropy',optimizer='adam',metrics=['accuracy'])\n",
    "model.fit(x_train,y_train,epochs=100,validation_data=(x_test,y_test))"
   ]
  },
  {
   "cell_type": "code",
   "execution_count": 30,
   "metadata": {},
   "outputs": [],
   "source": [
    "losses=pd.DataFrame(model.history.history)"
   ]
  },
  {
   "cell_type": "code",
   "execution_count": 31,
   "metadata": {},
   "outputs": [
    {
     "data": {
      "text/plain": [
       "<matplotlib.axes._subplots.AxesSubplot at 0x1f461ab63c8>"
      ]
     },
     "execution_count": 31,
     "metadata": {},
     "output_type": "execute_result"
    },
    {
     "data": {
      "image/png": "[encoded data removed]",
      "text/plain": [
       "<Figure size 432x288 with 1 Axes>"
      ]
     },
     "metadata": {},
     "output_type": "display_data"
    }
   ],
   "source": [
    "losses.plot()"
   ]
  },
  {
   "cell_type": "code",
   "execution_count": 32,
   "metadata": {},
   "outputs": [],
   "source": [
    "from tensorflow.keras.layers import Dropout"
   ]
  },
  {
   "cell_type": "code",
   "execution_count": 33,
   "metadata": {},
   "outputs": [],
   "source": [
    "model=Sequential()\n",
    "model.add(Dense(100,input_dim=4,activation='relu'))\n",
    "model.add(Dense(50,activation='relu'))\n",
    "model.add(Dropout(0.2))\n",
    "model.add(Dense(3,activation='softmax'))"
   ]
  },
  {
   "cell_type": "code",
   "execution_count": 34,
   "metadata": {},
   "outputs": [],
   "source": [
    "model.compile(loss='sparse_categorical_crossentropy',optimizer='adam',metrics=['accuracy'])"
   ]
  },
  {
   "cell_type": "code",
   "execution_count": 35,
   "metadata": {},
   "outputs": [
    {
     "name": "stdout",
     "output_type": "stream",
     "text": [
      "Train on 120 samples, validate on 30 samples\n",
      "Epoch 1/100\n",
      "120/120 [==============================] - 0s 4ms/sample - loss: 1.0866 - accuracy: 0.3417 - val_loss: 1.0557 - val_accuracy: 0.2333\n",
      "Epoch 2/100\n",
      "120/120 [==============================] - 0s 125us/sample - loss: 1.0373 - accuracy: 0.4417 - val_loss: 1.0117 - val_accuracy: 0.6000\n",
      "Epoch 3/100\n",
      "120/120 [==============================] - 0s 125us/sample - loss: 0.9957 - accuracy: 0.5000 - val_loss: 0.9729 - val_accuracy: 0.6667\n",
      "Epoch 4/100\n",
      "120/120 [==============================] - 0s 109us/sample - loss: 0.9639 - accuracy: 0.6167 - val_loss: 0.9328 - val_accuracy: 0.6667\n",
      "Epoch 5/100\n",
      "120/120 [==============================] - 0s 125us/sample - loss: 0.9085 - accuracy: 0.6583 - val_loss: 0.8921 - val_accuracy: 0.6667\n",
      "Epoch 6/100\n",
      "120/120 [==============================] - 0s 117us/sample - loss: 0.8827 - accuracy: 0.6500 - val_loss: 0.8493 - val_accuracy: 0.6667\n",
      "Epoch 7/100\n",
      "120/120 [==============================] - 0s 109us/sample - loss: 0.8407 - accuracy: 0.6667 - val_loss: 0.8060 - val_accuracy: 0.6667\n",
      "Epoch 8/100\n",
      "120/120 [==============================] - 0s 134us/sample - loss: 0.7840 - accuracy: 0.6833 - val_loss: 0.7596 - val_accuracy: 0.6667\n",
      "Epoch 9/100\n",
      "120/120 [==============================] - 0s 134us/sample - loss: 0.7461 - accuracy: 0.6583 - val_loss: 0.7139 - val_accuracy: 0.6667\n",
      "Epoch 10/100\n",
      "120/120 [==============================] - 0s 117us/sample - loss: 0.7111 - accuracy: 0.6583 - val_loss: 0.6706 - val_accuracy: 0.6667\n",
      "Epoch 11/100\n",
      "120/120 [==============================] - 0s 125us/sample - loss: 0.6690 - accuracy: 0.6917 - val_loss: 0.6302 - val_accuracy: 0.6667\n",
      "Epoch 12/100\n",
      "120/120 [==============================] - 0s 125us/sample - loss: 0.6194 - accuracy: 0.6750 - val_loss: 0.5921 - val_accuracy: 0.6667\n",
      "Epoch 13/100\n",
      "120/120 [==============================] - 0s 117us/sample - loss: 0.6009 - accuracy: 0.7000 - val_loss: 0.5577 - val_accuracy: 0.6667\n",
      "Epoch 14/100\n",
      "120/120 [==============================] - 0s 117us/sample - loss: 0.5810 - accuracy: 0.6667 - val_loss: 0.5277 - val_accuracy: 0.7000\n",
      "Epoch 15/100\n",
      "120/120 [==============================] - 0s 126us/sample - loss: 0.5114 - accuracy: 0.7500 - val_loss: 0.5010 - val_accuracy: 0.7333\n",
      "Epoch 16/100\n",
      "120/120 [==============================] - 0s 117us/sample - loss: 0.5192 - accuracy: 0.7417 - val_loss: 0.4788 - val_accuracy: 0.8667\n",
      "Epoch 17/100\n",
      "120/120 [==============================] - 0s 117us/sample - loss: 0.4788 - accuracy: 0.7667 - val_loss: 0.4591 - val_accuracy: 0.7667\n",
      "Epoch 18/100\n",
      "120/120 [==============================] - 0s 117us/sample - loss: 0.4519 - accuracy: 0.7917 - val_loss: 0.4428 - val_accuracy: 0.7667\n",
      "Epoch 19/100\n",
      "120/120 [==============================] - 0s 125us/sample - loss: 0.4551 - accuracy: 0.7833 - val_loss: 0.4291 - val_accuracy: 0.7333\n",
      "Epoch 20/100\n",
      "120/120 [==============================] - 0s 117us/sample - loss: 0.4273 - accuracy: 0.8083 - val_loss: 0.4146 - val_accuracy: 0.9000\n",
      "Epoch 21/100\n",
      "120/120 [==============================] - 0s 117us/sample - loss: 0.4584 - accuracy: 0.7750 - val_loss: 0.4029 - val_accuracy: 0.9667\n",
      "Epoch 22/100\n",
      "120/120 [==============================] - 0s 117us/sample - loss: 0.4241 - accuracy: 0.8333 - val_loss: 0.3904 - val_accuracy: 0.9667\n",
      "Epoch 23/100\n",
      "120/120 [==============================] - 0s 121us/sample - loss: 0.4086 - accuracy: 0.8667 - val_loss: 0.3790 - val_accuracy: 0.9667\n",
      "Epoch 24/100\n",
      "120/120 [==============================] - 0s 106us/sample - loss: 0.3913 - accuracy: 0.8667 - val_loss: 0.3700 - val_accuracy: 0.9000\n",
      "Epoch 25/100\n",
      "120/120 [==============================] - 0s 117us/sample - loss: 0.3757 - accuracy: 0.8583 - val_loss: 0.3562 - val_accuracy: 0.9667\n",
      "Epoch 26/100\n",
      "120/120 [==============================] - 0s 126us/sample - loss: 0.3650 - accuracy: 0.9250 - val_loss: 0.3458 - val_accuracy: 0.9667\n",
      "Epoch 27/100\n",
      "120/120 [==============================] - 0s 117us/sample - loss: 0.3629 - accuracy: 0.9083 - val_loss: 0.3330 - val_accuracy: 0.9667\n",
      "Epoch 28/100\n",
      "120/120 [==============================] - 0s 117us/sample - loss: 0.3400 - accuracy: 0.9167 - val_loss: 0.3209 - val_accuracy: 0.9667\n",
      "Epoch 29/100\n",
      "120/120 [==============================] - 0s 129us/sample - loss: 0.3381 - accuracy: 0.9167 - val_loss: 0.3115 - val_accuracy: 0.9667\n",
      "Epoch 30/100\n",
      "120/120 [==============================] - 0s 114us/sample - loss: 0.3232 - accuracy: 0.9000 - val_loss: 0.2986 - val_accuracy: 0.9667\n",
      "Epoch 31/100\n",
      "120/120 [==============================] - 0s 109us/sample - loss: 0.3020 - accuracy: 0.9417 - val_loss: 0.2872 - val_accuracy: 0.9667\n",
      "Epoch 32/100\n",
      "120/120 [==============================] - 0s 117us/sample - loss: 0.2961 - accuracy: 0.9250 - val_loss: 0.2769 - val_accuracy: 0.9667\n",
      "Epoch 33/100\n",
      "120/120 [==============================] - 0s 117us/sample - loss: 0.2853 - accuracy: 0.9417 - val_loss: 0.2659 - val_accuracy: 0.9667\n",
      "Epoch 34/100\n",
      "120/120 [==============================] - 0s 109us/sample - loss: 0.2718 - accuracy: 0.9583 - val_loss: 0.2556 - val_accuracy: 0.9667\n",
      "Epoch 35/100\n",
      "120/120 [==============================] - 0s 125us/sample - loss: 0.2523 - accuracy: 0.9583 - val_loss: 0.2448 - val_accuracy: 0.9667\n",
      "Epoch 36/100\n",
      "120/120 [==============================] - 0s 104us/sample - loss: 0.2437 - accuracy: 0.9583 - val_loss: 0.2341 - val_accuracy: 0.9667\n",
      "Epoch 37/100\n",
      "120/120 [==============================] - 0s 101us/sample - loss: 0.2567 - accuracy: 0.9333 - val_loss: 0.2271 - val_accuracy: 0.9667\n",
      "Epoch 38/100\n",
      "120/120 [==============================] - 0s 117us/sample - loss: 0.2337 - accuracy: 0.9333 - val_loss: 0.2173 - val_accuracy: 0.9667\n",
      "Epoch 39/100\n",
      "120/120 [==============================] - 0s 109us/sample - loss: 0.2205 - accuracy: 0.9667 - val_loss: 0.2098 - val_accuracy: 0.9667\n",
      "Epoch 40/100\n",
      "120/120 [==============================] - 0s 117us/sample - loss: 0.2158 - accuracy: 0.9500 - val_loss: 0.2019 - val_accuracy: 0.9667\n",
      "Epoch 41/100\n",
      "120/120 [==============================] - 0s 109us/sample - loss: 0.1957 - accuracy: 0.9583 - val_loss: 0.1944 - val_accuracy: 0.9667\n",
      "Epoch 42/100\n",
      "120/120 [==============================] - 0s 109us/sample - loss: 0.1867 - accuracy: 0.9667 - val_loss: 0.1883 - val_accuracy: 0.9667\n",
      "Epoch 43/100\n",
      "120/120 [==============================] - 0s 109us/sample - loss: 0.1701 - accuracy: 0.9667 - val_loss: 0.1813 - val_accuracy: 0.9667\n",
      "Epoch 44/100\n",
      "120/120 [==============================] - 0s 109us/sample - loss: 0.1823 - accuracy: 0.9500 - val_loss: 0.1814 - val_accuracy: 0.9667\n",
      "Epoch 45/100\n",
      "120/120 [==============================] - 0s 109us/sample - loss: 0.1678 - accuracy: 0.9583 - val_loss: 0.1699 - val_accuracy: 0.9667\n",
      "Epoch 46/100\n",
      "120/120 [==============================] - 0s 109us/sample - loss: 0.1814 - accuracy: 0.9333 - val_loss: 0.1654 - val_accuracy: 0.9667\n",
      "Epoch 47/100\n",
      "120/120 [==============================] - 0s 100us/sample - loss: 0.1536 - accuracy: 0.9750 - val_loss: 0.1608 - val_accuracy: 0.9667\n",
      "Epoch 48/100\n",
      "120/120 [==============================] - 0s 109us/sample - loss: 0.1658 - accuracy: 0.9500 - val_loss: 0.1594 - val_accuracy: 0.9667\n",
      "Epoch 49/100\n",
      "120/120 [==============================] - 0s 109us/sample - loss: 0.1656 - accuracy: 0.9500 - val_loss: 0.1550 - val_accuracy: 0.9667\n",
      "Epoch 50/100\n",
      "120/120 [==============================] - 0s 109us/sample - loss: 0.1513 - accuracy: 0.9583 - val_loss: 0.1495 - val_accuracy: 0.9667\n",
      "Epoch 51/100\n",
      "120/120 [==============================] - 0s 109us/sample - loss: 0.1315 - accuracy: 0.9750 - val_loss: 0.1469 - val_accuracy: 0.9667\n",
      "Epoch 52/100\n",
      "120/120 [==============================] - 0s 100us/sample - loss: 0.1314 - accuracy: 0.9833 - val_loss: 0.1415 - val_accuracy: 0.9667\n",
      "Epoch 53/100\n",
      "120/120 [==============================] - 0s 109us/sample - loss: 0.1279 - accuracy: 0.9667 - val_loss: 0.1383 - val_accuracy: 0.9667\n",
      "Epoch 54/100\n",
      "120/120 [==============================] - 0s 109us/sample - loss: 0.1393 - accuracy: 0.9583 - val_loss: 0.1372 - val_accuracy: 0.9667\n",
      "Epoch 55/100\n",
      "120/120 [==============================] - 0s 109us/sample - loss: 0.1199 - accuracy: 0.9750 - val_loss: 0.1355 - val_accuracy: 0.9667\n",
      "Epoch 56/100\n"
     ]
    },
    {
     "name": "stdout",
     "output_type": "stream",
     "text": [
      "120/120 [==============================] - 0s 109us/sample - loss: 0.1195 - accuracy: 0.9750 - val_loss: 0.1380 - val_accuracy: 0.9667\n",
      "Epoch 57/100\n",
      "120/120 [==============================] - 0s 117us/sample - loss: 0.1296 - accuracy: 0.9500 - val_loss: 0.1283 - val_accuracy: 0.9667\n",
      "Epoch 58/100\n",
      "120/120 [==============================] - 0s 109us/sample - loss: 0.1230 - accuracy: 0.9500 - val_loss: 0.1290 - val_accuracy: 0.9667\n",
      "Epoch 59/100\n",
      "120/120 [==============================] - 0s 104us/sample - loss: 0.1266 - accuracy: 0.9417 - val_loss: 0.1228 - val_accuracy: 0.9667\n",
      "Epoch 60/100\n",
      "120/120 [==============================] - 0s 100us/sample - loss: 0.0926 - accuracy: 0.9667 - val_loss: 0.1213 - val_accuracy: 0.9667\n",
      "Epoch 61/100\n",
      "120/120 [==============================] - 0s 100us/sample - loss: 0.1138 - accuracy: 0.9750 - val_loss: 0.1247 - val_accuracy: 0.9667\n",
      "Epoch 62/100\n",
      "120/120 [==============================] - 0s 115us/sample - loss: 0.1052 - accuracy: 0.9667 - val_loss: 0.1300 - val_accuracy: 0.9333\n",
      "Epoch 63/100\n",
      "120/120 [==============================] - 0s 109us/sample - loss: 0.1172 - accuracy: 0.9667 - val_loss: 0.1158 - val_accuracy: 0.9667\n",
      "Epoch 64/100\n",
      "120/120 [==============================] - 0s 109us/sample - loss: 0.0958 - accuracy: 0.9750 - val_loss: 0.1139 - val_accuracy: 0.9667\n",
      "Epoch 65/100\n",
      "120/120 [==============================] - 0s 100us/sample - loss: 0.1009 - accuracy: 0.9667 - val_loss: 0.1168 - val_accuracy: 0.9667\n",
      "Epoch 66/100\n",
      "120/120 [==============================] - 0s 103us/sample - loss: 0.0958 - accuracy: 0.9833 - val_loss: 0.1154 - val_accuracy: 0.9667\n",
      "Epoch 67/100\n",
      "120/120 [==============================] - 0s 117us/sample - loss: 0.0928 - accuracy: 0.9833 - val_loss: 0.1137 - val_accuracy: 0.9667\n",
      "Epoch 68/100\n",
      "120/120 [==============================] - 0s 108us/sample - loss: 0.0970 - accuracy: 0.9583 - val_loss: 0.1087 - val_accuracy: 0.9667\n",
      "Epoch 69/100\n",
      "120/120 [==============================] - 0s 108us/sample - loss: 0.1048 - accuracy: 0.9750 - val_loss: 0.1232 - val_accuracy: 0.9333\n",
      "Epoch 70/100\n",
      "120/120 [==============================] - 0s 108us/sample - loss: 0.1083 - accuracy: 0.9667 - val_loss: 0.1108 - val_accuracy: 0.9667\n",
      "Epoch 71/100\n",
      "120/120 [==============================] - 0s 92us/sample - loss: 0.1010 - accuracy: 0.9750 - val_loss: 0.1040 - val_accuracy: 0.9667\n",
      "Epoch 72/100\n",
      "120/120 [==============================] - 0s 100us/sample - loss: 0.0909 - accuracy: 0.9667 - val_loss: 0.1060 - val_accuracy: 0.9667\n",
      "Epoch 73/100\n",
      "120/120 [==============================] - 0s 117us/sample - loss: 0.0791 - accuracy: 0.9833 - val_loss: 0.1065 - val_accuracy: 0.9667\n",
      "Epoch 74/100\n",
      "120/120 [==============================] - 0s 107us/sample - loss: 0.0896 - accuracy: 0.9667 - val_loss: 0.1098 - val_accuracy: 0.9667\n",
      "Epoch 75/100\n",
      "120/120 [==============================] - 0s 117us/sample - loss: 0.1008 - accuracy: 0.9500 - val_loss: 0.1009 - val_accuracy: 0.9667\n",
      "Epoch 76/100\n",
      "120/120 [==============================] - 0s 108us/sample - loss: 0.0863 - accuracy: 0.9833 - val_loss: 0.1033 - val_accuracy: 0.9667\n",
      "Epoch 77/100\n",
      "120/120 [==============================] - 0s 100us/sample - loss: 0.0807 - accuracy: 0.9583 - val_loss: 0.1069 - val_accuracy: 0.9667\n",
      "Epoch 78/100\n",
      "120/120 [==============================] - 0s 109us/sample - loss: 0.0753 - accuracy: 0.9833 - val_loss: 0.1019 - val_accuracy: 0.9667\n",
      "Epoch 79/100\n",
      "120/120 [==============================] - 0s 117us/sample - loss: 0.0821 - accuracy: 0.9750 - val_loss: 0.0968 - val_accuracy: 0.9667\n",
      "Epoch 80/100\n",
      "120/120 [==============================] - 0s 121us/sample - loss: 0.1030 - accuracy: 0.9500 - val_loss: 0.1036 - val_accuracy: 0.9667\n",
      "Epoch 81/100\n",
      "120/120 [==============================] - 0s 108us/sample - loss: 0.0704 - accuracy: 0.9917 - val_loss: 0.0967 - val_accuracy: 0.9667\n",
      "Epoch 82/100\n",
      "120/120 [==============================] - 0s 117us/sample - loss: 0.0857 - accuracy: 0.9667 - val_loss: 0.0945 - val_accuracy: 0.9667\n",
      "Epoch 83/100\n",
      "120/120 [==============================] - 0s 109us/sample - loss: 0.0715 - accuracy: 0.9750 - val_loss: 0.0974 - val_accuracy: 0.9667\n",
      "Epoch 84/100\n",
      "120/120 [==============================] - 0s 108us/sample - loss: 0.0833 - accuracy: 0.9750 - val_loss: 0.1062 - val_accuracy: 0.9667\n",
      "Epoch 85/100\n",
      "120/120 [==============================] - 0s 100us/sample - loss: 0.0784 - accuracy: 0.9750 - val_loss: 0.0927 - val_accuracy: 0.9667\n",
      "Epoch 86/100\n",
      "120/120 [==============================] - 0s 109us/sample - loss: 0.0950 - accuracy: 0.9667 - val_loss: 0.0937 - val_accuracy: 0.9667\n",
      "Epoch 87/100\n",
      "120/120 [==============================] - 0s 117us/sample - loss: 0.0730 - accuracy: 0.9833 - val_loss: 0.0928 - val_accuracy: 0.9667\n",
      "Epoch 88/100\n",
      "120/120 [==============================] - 0s 110us/sample - loss: 0.0767 - accuracy: 0.9750 - val_loss: 0.0910 - val_accuracy: 0.9667\n",
      "Epoch 89/100\n",
      "120/120 [==============================] - 0s 100us/sample - loss: 0.0799 - accuracy: 0.9750 - val_loss: 0.0942 - val_accuracy: 0.9667\n",
      "Epoch 90/100\n",
      "120/120 [==============================] - 0s 100us/sample - loss: 0.0759 - accuracy: 0.9750 - val_loss: 0.0928 - val_accuracy: 0.9667\n",
      "Epoch 91/100\n",
      "120/120 [==============================] - 0s 109us/sample - loss: 0.0749 - accuracy: 0.9583 - val_loss: 0.0960 - val_accuracy: 0.9667\n",
      "Epoch 92/100\n",
      "120/120 [==============================] - 0s 117us/sample - loss: 0.0683 - accuracy: 0.9750 - val_loss: 0.0924 - val_accuracy: 0.9667\n",
      "Epoch 93/100\n",
      "120/120 [==============================] - 0s 117us/sample - loss: 0.0717 - accuracy: 0.9667 - val_loss: 0.0897 - val_accuracy: 0.9667\n",
      "Epoch 94/100\n",
      "120/120 [==============================] - 0s 109us/sample - loss: 0.0661 - accuracy: 0.9917 - val_loss: 0.0924 - val_accuracy: 0.9333\n",
      "Epoch 95/100\n",
      "120/120 [==============================] - 0s 113us/sample - loss: 0.0802 - accuracy: 0.9667 - val_loss: 0.0917 - val_accuracy: 0.9333\n",
      "Epoch 96/100\n",
      "120/120 [==============================] - 0s 109us/sample - loss: 0.0764 - accuracy: 0.9750 - val_loss: 0.0878 - val_accuracy: 0.9667\n",
      "Epoch 97/100\n",
      "120/120 [==============================] - 0s 100us/sample - loss: 0.0825 - accuracy: 0.9500 - val_loss: 0.0871 - val_accuracy: 0.9667\n",
      "Epoch 98/100\n",
      "120/120 [==============================] - 0s 100us/sample - loss: 0.0627 - accuracy: 0.9833 - val_loss: 0.0857 - val_accuracy: 0.9667\n",
      "Epoch 99/100\n",
      "120/120 [==============================] - 0s 109us/sample - loss: 0.0618 - accuracy: 0.9833 - val_loss: 0.0882 - val_accuracy: 0.9667\n",
      "Epoch 100/100\n",
      "120/120 [==============================] - 0s 108us/sample - loss: 0.0707 - accuracy: 0.9750 - val_loss: 0.0903 - val_accuracy: 0.9667\n"
     ]
    },
    {
     "data": {
      "text/plain": [
       "<tensorflow.python.keras.callbacks.History at 0x1f461c6b188>"
      ]
     },
     "execution_count": 35,
     "metadata": {},
     "output_type": "execute_result"
    }
   ],
   "source": [
    "model.fit(x_train,y_train,epochs=100,validation_data=(x_test,y_test),batch_size=20)"
   ]
  },
  {
   "cell_type": "code",
   "execution_count": 36,
   "metadata": {},
   "outputs": [
    {
     "name": "stdout",
     "output_type": "stream",
     "text": [
      "Model: \"sequential_1\"\n",
      "_________________________________________________________________\n",
      "Layer (type)                 Output Shape              Param #   \n",
      "=================================================================\n",
      "dense_3 (Dense)              (None, 100)               500       \n",
      "_________________________________________________________________\n",
      "dense_4 (Dense)              (None, 50)                5050      \n",
      "_________________________________________________________________\n",
      "dropout (Dropout)            (None, 50)                0         \n",
      "_________________________________________________________________\n",
      "dense_5 (Dense)              (None, 3)                 153       \n",
      "=================================================================\n",
      "Total params: 5,703\n",
      "Trainable params: 5,703\n",
      "Non-trainable params: 0\n",
      "_________________________________________________________________\n"
     ]
    }
   ],
   "source": [
    "model.summary()"
   ]
  },
  {
   "cell_type": "code",
   "execution_count": 37,
   "metadata": {},
   "outputs": [],
   "source": [
    "losses=pd.DataFrame(model.history.history)"
   ]
  },
  {
   "cell_type": "code",
   "execution_count": 38,
   "metadata": {},
   "outputs": [
    {
     "data": {
      "text/plain": [
       "<matplotlib.axes._subplots.AxesSubplot at 0x1f462f26188>"
      ]
     },
     "execution_count": 38,
     "metadata": {},
     "output_type": "execute_result"
    },
    {
     "data": {
      "image/png": "[encoded data removed]",
      "text/plain": [
       "<Figure size 432x288 with 1 Axes>"
      ]
     },
     "metadata": {},
     "output_type": "display_data"
    }
   ],
   "source": [
    "losses.plot()"
   ]
  },
  {
   "cell_type": "code",
   "execution_count": 39,
   "metadata": {},
   "outputs": [],
   "source": [
    "predictions=model.predict_classes(x_test)"
   ]
  },
  {
   "cell_type": "code",
   "execution_count": 40,
   "metadata": {},
   "outputs": [
    {
     "name": "stdout",
     "output_type": "stream",
     "text": [
      "\r",
      "30/30 [==============================] - 0s 66us/sample - loss: 0.0903 - accuracy: 0.9667\n"
     ]
    },
    {
     "data": {
      "text/plain": [
       "[0.0902925506234169, 0.96666664]"
      ]
     },
     "execution_count": 40,
     "metadata": {},
     "output_type": "execute_result"
    }
   ],
   "source": [
    "model.evaluate(x_test,y_test)"
   ]
  },
  {
   "cell_type": "code",
   "execution_count": 41,
   "metadata": {},
   "outputs": [
    {
     "name": "stdout",
     "output_type": "stream",
     "text": [
      "120/120 [==============================] - 0s 50us/sample - loss: 0.0602 - accuracy: 0.9833\n"
     ]
    },
    {
     "data": {
      "text/plain": [
       "[0.06016278726359208, 0.98333335]"
      ]
     },
     "execution_count": 41,
     "metadata": {},
     "output_type": "execute_result"
    }
   ],
   "source": [
    "model.evaluate(x_train,y_train)"
   ]
  },
  {
   "cell_type": "code",
   "execution_count": 42,
   "metadata": {},
   "outputs": [],
   "source": [
    "from sklearn.metrics import classification_report,confusion_matrix"
   ]
  },
  {
   "cell_type": "code",
   "execution_count": 43,
   "metadata": {},
   "outputs": [
    {
     "name": "stdout",
     "output_type": "stream",
     "text": [
      "              precision    recall  f1-score   support\n",
      "\n",
      "           0       1.00      1.00      1.00        10\n",
      "           1       0.91      1.00      0.95        10\n",
      "           2       1.00      0.90      0.95        10\n",
      "\n",
      "    accuracy                           0.97        30\n",
      "   macro avg       0.97      0.97      0.97        30\n",
      "weighted avg       0.97      0.97      0.97        30\n",
      "\n"
     ]
    }
   ],
   "source": [
    "print(classification_report(y_test,predictions))"
   ]
  },
  {
   "cell_type": "code",
   "execution_count": 44,
   "metadata": {},
   "outputs": [
    {
     "name": "stdout",
     "output_type": "stream",
     "text": [
      "[[10  0  0]\n",
      " [ 0 10  0]\n",
      " [ 0  1  9]]\n"
     ]
    }
   ],
   "source": [
    "print(confusion_matrix(y_test,predictions))"
   ]
  }
 ],
 "metadata": {
  "kernelspec": {
   "display_name": "Python 3",
   "language": "python",
   "name": "python3"
  },
  "language_info": {
   "codemirror_mode": {
    "name": "ipython",
    "version": 3
   },
   "file_extension": ".py",
   "mimetype": "text/x-python",
   "name": "python",
   "nbconvert_exporter": "python",
   "pygments_lexer": "ipython3",
   "version": "3.7.6"
  }
 },
 "nbformat": 4,
 "nbformat_minor": 4
}
