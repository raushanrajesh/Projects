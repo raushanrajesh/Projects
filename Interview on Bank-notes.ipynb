{
 "cells": [
  {
   "cell_type": "code",
   "execution_count": 1,
   "metadata": {},
   "outputs": [],
   "source": [
    "import numpy as np\n",
    "import pandas as pd\n",
    "import seaborn as sns\n",
    "import matplotlib.pyplot as plt\n",
    "%matplotlib inline\n",
    "sns.set()"
   ]
  },
  {
   "cell_type": "code",
   "execution_count": 2,
   "metadata": {},
   "outputs": [],
   "source": [
    "data=pd.read_csv('./BankNote_Authentication.csv')"
   ]
  },
  {
   "cell_type": "code",
   "execution_count": 13,
   "metadata": {},
   "outputs": [
    {
     "data": {
      "text/html": [
       "<div>\n",
       "<style scoped>\n",
       "    .dataframe tbody tr th:only-of-type {\n",
       "        vertical-align: middle;\n",
       "    }\n",
       "\n",
       "    .dataframe tbody tr th {\n",
       "        vertical-align: top;\n",
       "    }\n",
       "\n",
       "    .dataframe thead th {\n",
       "        text-align: right;\n",
       "    }\n",
       "</style>\n",
       "<table border=\"1\" class=\"dataframe\">\n",
       "  <thead>\n",
       "    <tr style=\"text-align: right;\">\n",
       "      <th></th>\n",
       "      <th>variance</th>\n",
       "      <th>skewness</th>\n",
       "      <th>curtosis</th>\n",
       "      <th>entropy</th>\n",
       "      <th>class</th>\n",
       "    </tr>\n",
       "  </thead>\n",
       "  <tbody>\n",
       "    <tr>\n",
       "      <th>count</th>\n",
       "      <td>1372.000000</td>\n",
       "      <td>1372.000000</td>\n",
       "      <td>1372.000000</td>\n",
       "      <td>1372.000000</td>\n",
       "      <td>1372.000000</td>\n",
       "    </tr>\n",
       "    <tr>\n",
       "      <th>mean</th>\n",
       "      <td>0.433735</td>\n",
       "      <td>1.922353</td>\n",
       "      <td>1.397627</td>\n",
       "      <td>-1.191657</td>\n",
       "      <td>0.444606</td>\n",
       "    </tr>\n",
       "    <tr>\n",
       "      <th>std</th>\n",
       "      <td>2.842763</td>\n",
       "      <td>5.869047</td>\n",
       "      <td>4.310030</td>\n",
       "      <td>2.101013</td>\n",
       "      <td>0.497103</td>\n",
       "    </tr>\n",
       "    <tr>\n",
       "      <th>min</th>\n",
       "      <td>-7.042100</td>\n",
       "      <td>-13.773100</td>\n",
       "      <td>-5.286100</td>\n",
       "      <td>-8.548200</td>\n",
       "      <td>0.000000</td>\n",
       "    </tr>\n",
       "    <tr>\n",
       "      <th>25%</th>\n",
       "      <td>-1.773000</td>\n",
       "      <td>-1.708200</td>\n",
       "      <td>-1.574975</td>\n",
       "      <td>-2.413450</td>\n",
       "      <td>0.000000</td>\n",
       "    </tr>\n",
       "    <tr>\n",
       "      <th>50%</th>\n",
       "      <td>0.496180</td>\n",
       "      <td>2.319650</td>\n",
       "      <td>0.616630</td>\n",
       "      <td>-0.586650</td>\n",
       "      <td>0.000000</td>\n",
       "    </tr>\n",
       "    <tr>\n",
       "      <th>75%</th>\n",
       "      <td>2.821475</td>\n",
       "      <td>6.814625</td>\n",
       "      <td>3.179250</td>\n",
       "      <td>0.394810</td>\n",
       "      <td>1.000000</td>\n",
       "    </tr>\n",
       "    <tr>\n",
       "      <th>max</th>\n",
       "      <td>6.824800</td>\n",
       "      <td>12.951600</td>\n",
       "      <td>17.927400</td>\n",
       "      <td>2.449500</td>\n",
       "      <td>1.000000</td>\n",
       "    </tr>\n",
       "  </tbody>\n",
       "</table>\n",
       "</div>"
      ],
      "text/plain": [
       "          variance     skewness     curtosis      entropy        class\n",
       "count  1372.000000  1372.000000  1372.000000  1372.000000  1372.000000\n",
       "mean      0.433735     1.922353     1.397627    -1.191657     0.444606\n",
       "std       2.842763     5.869047     4.310030     2.101013     0.497103\n",
       "min      -7.042100   -13.773100    -5.286100    -8.548200     0.000000\n",
       "25%      -1.773000    -1.708200    -1.574975    -2.413450     0.000000\n",
       "50%       0.496180     2.319650     0.616630    -0.586650     0.000000\n",
       "75%       2.821475     6.814625     3.179250     0.394810     1.000000\n",
       "max       6.824800    12.951600    17.927400     2.449500     1.000000"
      ]
     },
     "execution_count": 13,
     "metadata": {},
     "output_type": "execute_result"
    }
   ],
   "source": [
    "data.describe()"
   ]
  },
  {
   "cell_type": "code",
   "execution_count": 14,
   "metadata": {},
   "outputs": [
    {
     "name": "stdout",
     "output_type": "stream",
     "text": [
      "<class 'pandas.core.frame.DataFrame'>\n",
      "RangeIndex: 1372 entries, 0 to 1371\n",
      "Data columns (total 5 columns):\n",
      " #   Column    Non-Null Count  Dtype  \n",
      "---  ------    --------------  -----  \n",
      " 0   variance  1372 non-null   float64\n",
      " 1   skewness  1372 non-null   float64\n",
      " 2   curtosis  1372 non-null   float64\n",
      " 3   entropy   1372 non-null   float64\n",
      " 4   class     1372 non-null   int64  \n",
      "dtypes: float64(4), int64(1)\n",
      "memory usage: 53.7 KB\n"
     ]
    }
   ],
   "source": [
    "data.info()"
   ]
  },
  {
   "cell_type": "code",
   "execution_count": 3,
   "metadata": {
    "scrolled": true
   },
   "outputs": [
    {
     "data": {
      "text/html": [
       "<div>\n",
       "<style scoped>\n",
       "    .dataframe tbody tr th:only-of-type {\n",
       "        vertical-align: middle;\n",
       "    }\n",
       "\n",
       "    .dataframe tbody tr th {\n",
       "        vertical-align: top;\n",
       "    }\n",
       "\n",
       "    .dataframe thead th {\n",
       "        text-align: right;\n",
       "    }\n",
       "</style>\n",
       "<table border=\"1\" class=\"dataframe\">\n",
       "  <thead>\n",
       "    <tr style=\"text-align: right;\">\n",
       "      <th></th>\n",
       "      <th>variance</th>\n",
       "      <th>skewness</th>\n",
       "      <th>curtosis</th>\n",
       "      <th>entropy</th>\n",
       "      <th>class</th>\n",
       "    </tr>\n",
       "  </thead>\n",
       "  <tbody>\n",
       "    <tr>\n",
       "      <th>0</th>\n",
       "      <td>3.62160</td>\n",
       "      <td>8.6661</td>\n",
       "      <td>-2.8073</td>\n",
       "      <td>-0.44699</td>\n",
       "      <td>0</td>\n",
       "    </tr>\n",
       "    <tr>\n",
       "      <th>1</th>\n",
       "      <td>4.54590</td>\n",
       "      <td>8.1674</td>\n",
       "      <td>-2.4586</td>\n",
       "      <td>-1.46210</td>\n",
       "      <td>0</td>\n",
       "    </tr>\n",
       "    <tr>\n",
       "      <th>2</th>\n",
       "      <td>3.86600</td>\n",
       "      <td>-2.6383</td>\n",
       "      <td>1.9242</td>\n",
       "      <td>0.10645</td>\n",
       "      <td>0</td>\n",
       "    </tr>\n",
       "    <tr>\n",
       "      <th>3</th>\n",
       "      <td>3.45660</td>\n",
       "      <td>9.5228</td>\n",
       "      <td>-4.0112</td>\n",
       "      <td>-3.59440</td>\n",
       "      <td>0</td>\n",
       "    </tr>\n",
       "    <tr>\n",
       "      <th>4</th>\n",
       "      <td>0.32924</td>\n",
       "      <td>-4.4552</td>\n",
       "      <td>4.5718</td>\n",
       "      <td>-0.98880</td>\n",
       "      <td>0</td>\n",
       "    </tr>\n",
       "  </tbody>\n",
       "</table>\n",
       "</div>"
      ],
      "text/plain": [
       "   variance  skewness  curtosis  entropy  class\n",
       "0   3.62160    8.6661   -2.8073 -0.44699      0\n",
       "1   4.54590    8.1674   -2.4586 -1.46210      0\n",
       "2   3.86600   -2.6383    1.9242  0.10645      0\n",
       "3   3.45660    9.5228   -4.0112 -3.59440      0\n",
       "4   0.32924   -4.4552    4.5718 -0.98880      0"
      ]
     },
     "execution_count": 3,
     "metadata": {},
     "output_type": "execute_result"
    }
   ],
   "source": [
    "data.head()"
   ]
  },
  {
   "cell_type": "code",
   "execution_count": 4,
   "metadata": {},
   "outputs": [
    {
     "data": {
      "text/plain": [
       "array([0, 1], dtype=int64)"
      ]
     },
     "execution_count": 4,
     "metadata": {},
     "output_type": "execute_result"
    }
   ],
   "source": [
    "data['class'].unique()"
   ]
  },
  {
   "cell_type": "code",
   "execution_count": 24,
   "metadata": {},
   "outputs": [
    {
     "data": {
      "text/plain": [
       "variance   -0.149388\n",
       "skewness   -0.394103\n",
       "curtosis    1.088569\n",
       "entropy    -1.022243\n",
       "class       0.223191\n",
       "dtype: float64"
      ]
     },
     "execution_count": 24,
     "metadata": {},
     "output_type": "execute_result"
    }
   ],
   "source": [
    "data.skew()"
   ]
  },
  {
   "cell_type": "code",
   "execution_count": 5,
   "metadata": {
    "scrolled": true
   },
   "outputs": [
    {
     "data": {
      "text/plain": [
       "<matplotlib.axes._subplots.AxesSubplot at 0x2cb32e75d88>"
      ]
     },
     "execution_count": 5,
     "metadata": {},
     "output_type": "execute_result"
    },
    {
     "data": {
      "image/png": "[encoded data removed]",
      "text/plain": [
       "<Figure size 432x288 with 1 Axes>"
      ]
     },
     "metadata": {},
     "output_type": "display_data"
    }
   ],
   "source": [
    "sns.countplot(data['class'])"
   ]
  },
  {
   "cell_type": "code",
   "execution_count": 7,
   "metadata": {},
   "outputs": [
    {
     "data": {
      "text/plain": [
       "<matplotlib.axes._subplots.AxesSubplot at 0x2cb33554ac8>"
      ]
     },
     "execution_count": 7,
     "metadata": {},
     "output_type": "execute_result"
    },
    {
     "data": {
      "image/png": "[encoded data removed]",
      "text/plain": [
       "<Figure size 432x288 with 1 Axes>"
      ]
     },
     "metadata": {},
     "output_type": "display_data"
    }
   ],
   "source": [
    "data.corr()['class'][:-1].sort_values().plot(kind='bar')"
   ]
  },
  {
   "cell_type": "code",
   "execution_count": 8,
   "metadata": {},
   "outputs": [],
   "source": [
    "data_class_0=data[data['class']==0]\n",
    "data_class_1=data[data['class']==1]"
   ]
  },
  {
   "cell_type": "code",
   "execution_count": 9,
   "metadata": {},
   "outputs": [
    {
     "data": {
      "text/plain": [
       "(762, 5)"
      ]
     },
     "execution_count": 9,
     "metadata": {},
     "output_type": "execute_result"
    }
   ],
   "source": [
    "data_class_0.shape"
   ]
  },
  {
   "cell_type": "code",
   "execution_count": 10,
   "metadata": {},
   "outputs": [
    {
     "data": {
      "text/plain": [
       "(610, 5)"
      ]
     },
     "execution_count": 10,
     "metadata": {},
     "output_type": "execute_result"
    }
   ],
   "source": [
    "data_class_1.shape"
   ]
  },
  {
   "cell_type": "code",
   "execution_count": 11,
   "metadata": {},
   "outputs": [],
   "source": [
    "x=data.drop('class',axis=1).values\n",
    "y=data['class'].values"
   ]
  },
  {
   "cell_type": "code",
   "execution_count": 12,
   "metadata": {},
   "outputs": [
    {
     "data": {
      "text/plain": [
       "(1372, 4)"
      ]
     },
     "execution_count": 12,
     "metadata": {},
     "output_type": "execute_result"
    }
   ],
   "source": [
    "x.shape"
   ]
  },
  {
   "cell_type": "code",
   "execution_count": 19,
   "metadata": {},
   "outputs": [
    {
     "data": {
      "text/plain": [
       "(1372,)"
      ]
     },
     "execution_count": 19,
     "metadata": {},
     "output_type": "execute_result"
    }
   ],
   "source": [
    "y.shape"
   ]
  },
  {
   "cell_type": "code",
   "execution_count": 15,
   "metadata": {},
   "outputs": [],
   "source": [
    "from imblearn.over_sampling import SMOTE"
   ]
  },
  {
   "cell_type": "code",
   "execution_count": 16,
   "metadata": {},
   "outputs": [],
   "source": [
    "smote=SMOTE(sampling_strategy='minority')\n",
    "x_sm,y_sm=smote.fit_sample(x,y)"
   ]
  },
  {
   "cell_type": "code",
   "execution_count": 17,
   "metadata": {},
   "outputs": [
    {
     "data": {
      "text/plain": [
       "(1524, 4)"
      ]
     },
     "execution_count": 17,
     "metadata": {},
     "output_type": "execute_result"
    }
   ],
   "source": [
    "x_sm.shape"
   ]
  },
  {
   "cell_type": "code",
   "execution_count": 18,
   "metadata": {},
   "outputs": [
    {
     "data": {
      "text/plain": [
       "(1524,)"
      ]
     },
     "execution_count": 18,
     "metadata": {},
     "output_type": "execute_result"
    }
   ],
   "source": [
    "y_sm.shape"
   ]
  },
  {
   "cell_type": "code",
   "execution_count": 20,
   "metadata": {},
   "outputs": [],
   "source": [
    "from sklearn.model_selection import train_test_split\n",
    "x_train,x_test,y_train,y_test=train_test_split(x_sm,y_sm,test_size=0.2,random_state=15,stratify=y_sm)"
   ]
  },
  {
   "cell_type": "code",
   "execution_count": 21,
   "metadata": {},
   "outputs": [],
   "source": [
    "from sklearn.preprocessing import MinMaxScaler\n",
    "scaler=MinMaxScaler()"
   ]
  },
  {
   "cell_type": "code",
   "execution_count": 22,
   "metadata": {},
   "outputs": [],
   "source": [
    "x_train=scaler.fit_transform(x_train)\n",
    "x_test=scaler.transform(x_test)"
   ]
  },
  {
   "cell_type": "code",
   "execution_count": 23,
   "metadata": {},
   "outputs": [
    {
     "data": {
      "text/plain": [
       "array([[0.54688503, 0.74107474, 0.30019601, 0.73533375],\n",
       "       [0.52403906, 0.59105821, 0.08445698, 0.71842651],\n",
       "       [0.32694402, 0.50685209, 0.29181726, 0.88701274],\n",
       "       ...,\n",
       "       [0.7633934 , 0.56174999, 0.31374416, 0.9731944 ],\n",
       "       [0.62085975, 0.81200163, 0.22526797, 0.58001218],\n",
       "       [0.32293447, 0.45156728, 0.29244621, 0.80705693]])"
      ]
     },
     "execution_count": 23,
     "metadata": {},
     "output_type": "execute_result"
    }
   ],
   "source": [
    "x_train"
   ]
  },
  {
   "cell_type": "code",
   "execution_count": 25,
   "metadata": {},
   "outputs": [],
   "source": [
    "from tensorflow.keras.models import Sequential\n",
    "from tensorflow.keras.layers import Dense"
   ]
  },
  {
   "cell_type": "code",
   "execution_count": 26,
   "metadata": {},
   "outputs": [
    {
     "data": {
      "text/plain": [
       "(1219, 4)"
      ]
     },
     "execution_count": 26,
     "metadata": {},
     "output_type": "execute_result"
    }
   ],
   "source": [
    "x_train.shape"
   ]
  },
  {
   "cell_type": "code",
   "execution_count": 29,
   "metadata": {},
   "outputs": [],
   "source": [
    "model=Sequential()\n",
    "model.add(Dense(4,activation='relu'))\n",
    "model.add(Dense(2,activation='relu'))\n",
    "model.add(Dense(1,activation='sigmoid'))\n",
    "\n",
    "model.compile(loss='binary_crossentropy',optimizer='adam',metrics=['accuracy'])"
   ]
  },
  {
   "cell_type": "code",
   "execution_count": 30,
   "metadata": {},
   "outputs": [
    {
     "name": "stdout",
     "output_type": "stream",
     "text": [
      "Train on 1219 samples, validate on 305 samples\n",
      "Epoch 1/100\n",
      "1219/1219 [==============================] - 0s 343us/sample - loss: 0.6719 - accuracy: 0.4996 - val_loss: 0.6619 - val_accuracy: 0.5016\n",
      "Epoch 2/100\n",
      "1219/1219 [==============================] - 0s 39us/sample - loss: 0.6563 - accuracy: 0.4996 - val_loss: 0.6496 - val_accuracy: 0.5016\n",
      "Epoch 3/100\n",
      "1219/1219 [==============================] - 0s 37us/sample - loss: 0.6445 - accuracy: 0.4996 - val_loss: 0.6389 - val_accuracy: 0.5016\n",
      "Epoch 4/100\n",
      "1219/1219 [==============================] - 0s 36us/sample - loss: 0.6329 - accuracy: 0.5160 - val_loss: 0.6273 - val_accuracy: 0.5410\n",
      "Epoch 5/100\n",
      "1219/1219 [==============================] - 0s 38us/sample - loss: 0.6206 - accuracy: 0.5989 - val_loss: 0.6154 - val_accuracy: 0.6590\n",
      "Epoch 6/100\n",
      "1219/1219 [==============================] - 0s 37us/sample - loss: 0.6076 - accuracy: 0.7047 - val_loss: 0.6025 - val_accuracy: 0.7016\n",
      "Epoch 7/100\n",
      "1219/1219 [==============================] - 0s 39us/sample - loss: 0.5949 - accuracy: 0.7416 - val_loss: 0.5907 - val_accuracy: 0.7213\n",
      "Epoch 8/100\n",
      "1219/1219 [==============================] - 0s 37us/sample - loss: 0.5830 - accuracy: 0.7728 - val_loss: 0.5790 - val_accuracy: 0.7475\n",
      "Epoch 9/100\n",
      "1219/1219 [==============================] - 0s 37us/sample - loss: 0.5709 - accuracy: 0.7736 - val_loss: 0.5671 - val_accuracy: 0.7475\n",
      "Epoch 10/100\n",
      "1219/1219 [==============================] - 0s 37us/sample - loss: 0.5585 - accuracy: 0.7892 - val_loss: 0.5550 - val_accuracy: 0.7607\n",
      "Epoch 11/100\n",
      "1219/1219 [==============================] - 0s 39us/sample - loss: 0.5460 - accuracy: 0.7982 - val_loss: 0.5428 - val_accuracy: 0.7770\n",
      "Epoch 12/100\n",
      "1219/1219 [==============================] - 0s 38us/sample - loss: 0.5331 - accuracy: 0.8195 - val_loss: 0.5305 - val_accuracy: 0.7770\n",
      "Epoch 13/100\n",
      "1219/1219 [==============================] - 0s 37us/sample - loss: 0.5208 - accuracy: 0.8171 - val_loss: 0.5177 - val_accuracy: 0.8066\n",
      "Epoch 14/100\n",
      "1219/1219 [==============================] - 0s 37us/sample - loss: 0.5080 - accuracy: 0.8376 - val_loss: 0.5054 - val_accuracy: 0.8262\n",
      "Epoch 15/100\n",
      "1219/1219 [==============================] - 0s 36us/sample - loss: 0.4952 - accuracy: 0.8417 - val_loss: 0.4932 - val_accuracy: 0.8262\n",
      "Epoch 16/100\n",
      "1219/1219 [==============================] - 0s 38us/sample - loss: 0.4826 - accuracy: 0.8622 - val_loss: 0.4808 - val_accuracy: 0.8393\n",
      "Epoch 17/100\n",
      "1219/1219 [==============================] - 0s 38us/sample - loss: 0.4701 - accuracy: 0.8745 - val_loss: 0.4681 - val_accuracy: 0.8557\n",
      "Epoch 18/100\n",
      "1219/1219 [==============================] - 0s 37us/sample - loss: 0.4582 - accuracy: 0.8753 - val_loss: 0.4559 - val_accuracy: 0.8623\n",
      "Epoch 19/100\n",
      "1219/1219 [==============================] - 0s 37us/sample - loss: 0.4456 - accuracy: 0.8802 - val_loss: 0.4434 - val_accuracy: 0.8721\n",
      "Epoch 20/100\n",
      "1219/1219 [==============================] - 0s 37us/sample - loss: 0.4337 - accuracy: 0.8852 - val_loss: 0.4311 - val_accuracy: 0.8852\n",
      "Epoch 21/100\n",
      "1219/1219 [==============================] - 0s 38us/sample - loss: 0.4224 - accuracy: 0.8975 - val_loss: 0.4194 - val_accuracy: 0.8918\n",
      "Epoch 22/100\n",
      "1219/1219 [==============================] - 0s 38us/sample - loss: 0.4108 - accuracy: 0.9114 - val_loss: 0.4088 - val_accuracy: 0.8951\n",
      "Epoch 23/100\n",
      "1219/1219 [==============================] - 0s 37us/sample - loss: 0.4008 - accuracy: 0.9057 - val_loss: 0.3971 - val_accuracy: 0.9049\n",
      "Epoch 24/100\n",
      "1219/1219 [==============================] - 0s 38us/sample - loss: 0.3910 - accuracy: 0.9106 - val_loss: 0.3866 - val_accuracy: 0.9082\n",
      "Epoch 25/100\n",
      "1219/1219 [==============================] - 0s 37us/sample - loss: 0.3799 - accuracy: 0.9122 - val_loss: 0.3768 - val_accuracy: 0.9082\n",
      "Epoch 26/100\n",
      "1219/1219 [==============================] - 0s 38us/sample - loss: 0.3698 - accuracy: 0.9237 - val_loss: 0.3679 - val_accuracy: 0.9115\n",
      "Epoch 27/100\n",
      "1219/1219 [==============================] - 0s 37us/sample - loss: 0.3606 - accuracy: 0.9262 - val_loss: 0.3583 - val_accuracy: 0.9115\n",
      "Epoch 28/100\n",
      "1219/1219 [==============================] - 0s 36us/sample - loss: 0.3518 - accuracy: 0.9344 - val_loss: 0.3504 - val_accuracy: 0.9115\n",
      "Epoch 29/100\n",
      "1219/1219 [==============================] - 0s 39us/sample - loss: 0.3436 - accuracy: 0.9385 - val_loss: 0.3412 - val_accuracy: 0.9180\n",
      "Epoch 30/100\n",
      "1219/1219 [==============================] - 0s 38us/sample - loss: 0.3352 - accuracy: 0.9401 - val_loss: 0.3335 - val_accuracy: 0.9180\n",
      "Epoch 31/100\n",
      "1219/1219 [==============================] - 0s 37us/sample - loss: 0.3274 - accuracy: 0.9409 - val_loss: 0.3245 - val_accuracy: 0.9246\n",
      "Epoch 32/100\n",
      "1219/1219 [==============================] - 0s 38us/sample - loss: 0.3192 - accuracy: 0.9434 - val_loss: 0.3168 - val_accuracy: 0.9279\n",
      "Epoch 33/100\n",
      "1219/1219 [==============================] - 0s 38us/sample - loss: 0.3116 - accuracy: 0.9434 - val_loss: 0.3094 - val_accuracy: 0.9279\n",
      "Epoch 34/100\n",
      "1219/1219 [==============================] - 0s 37us/sample - loss: 0.3042 - accuracy: 0.9459 - val_loss: 0.3013 - val_accuracy: 0.9344\n",
      "Epoch 35/100\n",
      "1219/1219 [==============================] - 0s 37us/sample - loss: 0.2968 - accuracy: 0.9491 - val_loss: 0.2936 - val_accuracy: 0.9377\n",
      "Epoch 36/100\n",
      "1219/1219 [==============================] - 0s 38us/sample - loss: 0.2901 - accuracy: 0.9483 - val_loss: 0.2874 - val_accuracy: 0.9377\n",
      "Epoch 37/100\n",
      "1219/1219 [==============================] - 0s 36us/sample - loss: 0.2832 - accuracy: 0.9508 - val_loss: 0.2799 - val_accuracy: 0.9410\n",
      "Epoch 38/100\n",
      "1219/1219 [==============================] - 0s 38us/sample - loss: 0.2770 - accuracy: 0.9508 - val_loss: 0.2732 - val_accuracy: 0.9410\n",
      "Epoch 39/100\n",
      "1219/1219 [==============================] - 0s 39us/sample - loss: 0.2706 - accuracy: 0.9524 - val_loss: 0.2683 - val_accuracy: 0.9443\n",
      "Epoch 40/100\n",
      "1219/1219 [==============================] - 0s 37us/sample - loss: 0.2646 - accuracy: 0.9524 - val_loss: 0.2620 - val_accuracy: 0.9443\n",
      "Epoch 41/100\n",
      "1219/1219 [==============================] - 0s 37us/sample - loss: 0.2586 - accuracy: 0.9557 - val_loss: 0.2541 - val_accuracy: 0.9475\n",
      "Epoch 42/100\n",
      "1219/1219 [==============================] - 0s 36us/sample - loss: 0.2533 - accuracy: 0.9582 - val_loss: 0.2474 - val_accuracy: 0.9443\n",
      "Epoch 43/100\n",
      "1219/1219 [==============================] - 0s 39us/sample - loss: 0.2477 - accuracy: 0.9582 - val_loss: 0.2421 - val_accuracy: 0.9475\n",
      "Epoch 44/100\n",
      "1219/1219 [==============================] - 0s 39us/sample - loss: 0.2421 - accuracy: 0.9565 - val_loss: 0.2377 - val_accuracy: 0.9508\n",
      "Epoch 45/100\n",
      "1219/1219 [==============================] - 0s 39us/sample - loss: 0.2375 - accuracy: 0.9524 - val_loss: 0.2304 - val_accuracy: 0.9508\n",
      "Epoch 46/100\n",
      "1219/1219 [==============================] - 0s 39us/sample - loss: 0.2317 - accuracy: 0.9598 - val_loss: 0.2260 - val_accuracy: 0.9508\n",
      "Epoch 47/100\n",
      "1219/1219 [==============================] - 0s 37us/sample - loss: 0.2268 - accuracy: 0.9573 - val_loss: 0.2203 - val_accuracy: 0.9541\n",
      "Epoch 48/100\n",
      "1219/1219 [==============================] - 0s 37us/sample - loss: 0.2220 - accuracy: 0.9590 - val_loss: 0.2182 - val_accuracy: 0.9508\n",
      "Epoch 49/100\n",
      "1219/1219 [==============================] - 0s 37us/sample - loss: 0.2175 - accuracy: 0.9582 - val_loss: 0.2105 - val_accuracy: 0.9541\n",
      "Epoch 50/100\n",
      "1219/1219 [==============================] - 0s 37us/sample - loss: 0.2128 - accuracy: 0.9598 - val_loss: 0.2094 - val_accuracy: 0.9541\n",
      "Epoch 51/100\n",
      "1219/1219 [==============================] - 0s 37us/sample - loss: 0.2092 - accuracy: 0.9573 - val_loss: 0.2020 - val_accuracy: 0.9574\n",
      "Epoch 52/100\n",
      "1219/1219 [==============================] - 0s 36us/sample - loss: 0.2047 - accuracy: 0.9631 - val_loss: 0.2005 - val_accuracy: 0.9574\n",
      "Epoch 53/100\n",
      "1219/1219 [==============================] - 0s 36us/sample - loss: 0.2010 - accuracy: 0.9598 - val_loss: 0.1942 - val_accuracy: 0.9574\n",
      "Epoch 54/100\n",
      "1219/1219 [==============================] - 0s 37us/sample - loss: 0.1968 - accuracy: 0.9606 - val_loss: 0.1897 - val_accuracy: 0.9574\n",
      "Epoch 55/100\n",
      "1219/1219 [==============================] - 0s 37us/sample - loss: 0.1932 - accuracy: 0.9606 - val_loss: 0.1868 - val_accuracy: 0.9574\n"
     ]
    },
    {
     "name": "stdout",
     "output_type": "stream",
     "text": [
      "Epoch 56/100\n",
      "1219/1219 [==============================] - 0s 38us/sample - loss: 0.1893 - accuracy: 0.9614 - val_loss: 0.1807 - val_accuracy: 0.9574\n",
      "Epoch 57/100\n",
      "1219/1219 [==============================] - 0s 36us/sample - loss: 0.1854 - accuracy: 0.9639 - val_loss: 0.1802 - val_accuracy: 0.9574\n",
      "Epoch 58/100\n",
      "1219/1219 [==============================] - 0s 38us/sample - loss: 0.1820 - accuracy: 0.9614 - val_loss: 0.1722 - val_accuracy: 0.9607\n",
      "Epoch 59/100\n",
      "1219/1219 [==============================] - 0s 37us/sample - loss: 0.1814 - accuracy: 0.9557 - val_loss: 0.1704 - val_accuracy: 0.9574\n",
      "Epoch 60/100\n",
      "1219/1219 [==============================] - 0s 35us/sample - loss: 0.1756 - accuracy: 0.9631 - val_loss: 0.1663 - val_accuracy: 0.9574\n",
      "Epoch 61/100\n",
      "1219/1219 [==============================] - 0s 37us/sample - loss: 0.1724 - accuracy: 0.9631 - val_loss: 0.1623 - val_accuracy: 0.9607\n",
      "Epoch 62/100\n",
      "1219/1219 [==============================] - 0s 38us/sample - loss: 0.1694 - accuracy: 0.9614 - val_loss: 0.1608 - val_accuracy: 0.9574\n",
      "Epoch 63/100\n",
      "1219/1219 [==============================] - 0s 39us/sample - loss: 0.1665 - accuracy: 0.9606 - val_loss: 0.1560 - val_accuracy: 0.9672\n",
      "Epoch 64/100\n",
      "1219/1219 [==============================] - 0s 37us/sample - loss: 0.1634 - accuracy: 0.9639 - val_loss: 0.1525 - val_accuracy: 0.9705\n",
      "Epoch 65/100\n",
      "1219/1219 [==============================] - 0s 37us/sample - loss: 0.1606 - accuracy: 0.9655 - val_loss: 0.1514 - val_accuracy: 0.9607\n",
      "Epoch 66/100\n",
      "1219/1219 [==============================] - 0s 40us/sample - loss: 0.1579 - accuracy: 0.9631 - val_loss: 0.1450 - val_accuracy: 0.9672\n",
      "Epoch 67/100\n",
      "1219/1219 [==============================] - 0s 39us/sample - loss: 0.1558 - accuracy: 0.9623 - val_loss: 0.1452 - val_accuracy: 0.9672\n",
      "Epoch 68/100\n",
      "1219/1219 [==============================] - 0s 37us/sample - loss: 0.1526 - accuracy: 0.9655 - val_loss: 0.1419 - val_accuracy: 0.9705\n",
      "Epoch 69/100\n",
      "1219/1219 [==============================] - 0s 36us/sample - loss: 0.1515 - accuracy: 0.9664 - val_loss: 0.1379 - val_accuracy: 0.9672\n",
      "Epoch 70/100\n",
      "1219/1219 [==============================] - 0s 36us/sample - loss: 0.1478 - accuracy: 0.9705 - val_loss: 0.1351 - val_accuracy: 0.9672\n",
      "Epoch 71/100\n",
      "1219/1219 [==============================] - 0s 37us/sample - loss: 0.1451 - accuracy: 0.9672 - val_loss: 0.1340 - val_accuracy: 0.9705\n",
      "Epoch 72/100\n",
      "1219/1219 [==============================] - 0s 38us/sample - loss: 0.1429 - accuracy: 0.9647 - val_loss: 0.1300 - val_accuracy: 0.9672\n",
      "Epoch 73/100\n",
      "1219/1219 [==============================] - 0s 37us/sample - loss: 0.1404 - accuracy: 0.9696 - val_loss: 0.1274 - val_accuracy: 0.9672\n",
      "Epoch 74/100\n",
      "1219/1219 [==============================] - 0s 37us/sample - loss: 0.1382 - accuracy: 0.9672 - val_loss: 0.1257 - val_accuracy: 0.9705\n",
      "Epoch 75/100\n",
      "1219/1219 [==============================] - 0s 38us/sample - loss: 0.1362 - accuracy: 0.9672 - val_loss: 0.1231 - val_accuracy: 0.9672\n",
      "Epoch 76/100\n",
      "1219/1219 [==============================] - 0s 37us/sample - loss: 0.1339 - accuracy: 0.9721 - val_loss: 0.1209 - val_accuracy: 0.9672\n",
      "Epoch 77/100\n",
      "1219/1219 [==============================] - 0s 37us/sample - loss: 0.1322 - accuracy: 0.9672 - val_loss: 0.1205 - val_accuracy: 0.9705\n",
      "Epoch 78/100\n",
      "1219/1219 [==============================] - 0s 36us/sample - loss: 0.1298 - accuracy: 0.9721 - val_loss: 0.1145 - val_accuracy: 0.9672\n",
      "Epoch 79/100\n",
      "1219/1219 [==============================] - 0s 38us/sample - loss: 0.1279 - accuracy: 0.9688 - val_loss: 0.1143 - val_accuracy: 0.9672\n",
      "Epoch 80/100\n",
      "1219/1219 [==============================] - 0s 37us/sample - loss: 0.1259 - accuracy: 0.9729 - val_loss: 0.1105 - val_accuracy: 0.9705\n",
      "Epoch 81/100\n",
      "1219/1219 [==============================] - 0s 39us/sample - loss: 0.1249 - accuracy: 0.9655 - val_loss: 0.1108 - val_accuracy: 0.9705\n",
      "Epoch 82/100\n",
      "1219/1219 [==============================] - 0s 38us/sample - loss: 0.1219 - accuracy: 0.9713 - val_loss: 0.1064 - val_accuracy: 0.9705\n",
      "Epoch 83/100\n",
      "1219/1219 [==============================] - 0s 39us/sample - loss: 0.1202 - accuracy: 0.9721 - val_loss: 0.1054 - val_accuracy: 0.9705\n",
      "Epoch 84/100\n",
      "1219/1219 [==============================] - 0s 39us/sample - loss: 0.1189 - accuracy: 0.9729 - val_loss: 0.1022 - val_accuracy: 0.9738\n",
      "Epoch 85/100\n",
      "1219/1219 [==============================] - 0s 38us/sample - loss: 0.1169 - accuracy: 0.9729 - val_loss: 0.1030 - val_accuracy: 0.9705\n",
      "Epoch 86/100\n",
      "1219/1219 [==============================] - 0s 37us/sample - loss: 0.1150 - accuracy: 0.9713 - val_loss: 0.1005 - val_accuracy: 0.9705\n",
      "Epoch 87/100\n",
      "1219/1219 [==============================] - 0s 37us/sample - loss: 0.1136 - accuracy: 0.9713 - val_loss: 0.0970 - val_accuracy: 0.9738\n",
      "Epoch 88/100\n",
      "1219/1219 [==============================] - 0s 37us/sample - loss: 0.1131 - accuracy: 0.9688 - val_loss: 0.0961 - val_accuracy: 0.9738\n",
      "Epoch 89/100\n",
      "1219/1219 [==============================] - 0s 38us/sample - loss: 0.1101 - accuracy: 0.9721 - val_loss: 0.0937 - val_accuracy: 0.9770\n",
      "Epoch 90/100\n",
      "1219/1219 [==============================] - 0s 36us/sample - loss: 0.1088 - accuracy: 0.9737 - val_loss: 0.0909 - val_accuracy: 0.9803\n",
      "Epoch 91/100\n",
      "1219/1219 [==============================] - 0s 39us/sample - loss: 0.1072 - accuracy: 0.9729 - val_loss: 0.0912 - val_accuracy: 0.9770\n",
      "Epoch 92/100\n",
      "1219/1219 [==============================] - 0s 38us/sample - loss: 0.1064 - accuracy: 0.9721 - val_loss: 0.0871 - val_accuracy: 0.9836\n",
      "Epoch 93/100\n",
      "1219/1219 [==============================] - 0s 38us/sample - loss: 0.1048 - accuracy: 0.9737 - val_loss: 0.0860 - val_accuracy: 0.9836\n",
      "Epoch 94/100\n",
      "1219/1219 [==============================] - 0s 38us/sample - loss: 0.1030 - accuracy: 0.9737 - val_loss: 0.0854 - val_accuracy: 0.9803\n",
      "Epoch 95/100\n",
      "1219/1219 [==============================] - 0s 37us/sample - loss: 0.1014 - accuracy: 0.9746 - val_loss: 0.0842 - val_accuracy: 0.9803\n",
      "Epoch 96/100\n",
      "1219/1219 [==============================] - 0s 36us/sample - loss: 0.1001 - accuracy: 0.9729 - val_loss: 0.0819 - val_accuracy: 0.9836\n",
      "Epoch 97/100\n",
      "1219/1219 [==============================] - 0s 37us/sample - loss: 0.0986 - accuracy: 0.9721 - val_loss: 0.0819 - val_accuracy: 0.9803\n",
      "Epoch 98/100\n",
      "1219/1219 [==============================] - 0s 37us/sample - loss: 0.0975 - accuracy: 0.9737 - val_loss: 0.0786 - val_accuracy: 0.9869\n",
      "Epoch 99/100\n",
      "1219/1219 [==============================] - 0s 37us/sample - loss: 0.0962 - accuracy: 0.9729 - val_loss: 0.0794 - val_accuracy: 0.9836\n",
      "Epoch 100/100\n",
      "1219/1219 [==============================] - 0s 39us/sample - loss: 0.0950 - accuracy: 0.9746 - val_loss: 0.0768 - val_accuracy: 0.9869\n"
     ]
    },
    {
     "data": {
      "text/plain": [
       "<tensorflow.python.keras.callbacks.History at 0x2cb35b80708>"
      ]
     },
     "execution_count": 30,
     "metadata": {},
     "output_type": "execute_result"
    }
   ],
   "source": [
    "model.fit(x_train,y_train,epochs=100,validation_data=(x_test,y_test))"
   ]
  },
  {
   "cell_type": "code",
   "execution_count": 31,
   "metadata": {},
   "outputs": [],
   "source": [
    "metrics=pd.DataFrame(model.history.history)"
   ]
  },
  {
   "cell_type": "code",
   "execution_count": 32,
   "metadata": {},
   "outputs": [
    {
     "data": {
      "text/plain": [
       "<matplotlib.axes._subplots.AxesSubplot at 0x2cb346b8348>"
      ]
     },
     "execution_count": 32,
     "metadata": {},
     "output_type": "execute_result"
    },
    {
     "data": {
      "image/png": "[encoded data removed]",
      "text/plain": [
       "<Figure size 432x288 with 1 Axes>"
      ]
     },
     "metadata": {},
     "output_type": "display_data"
    }
   ],
   "source": [
    "metrics.plot()"
   ]
  },
  {
   "cell_type": "code",
   "execution_count": 33,
   "metadata": {},
   "outputs": [],
   "source": [
    "from tensorflow.keras.callbacks import EarlyStopping"
   ]
  },
  {
   "cell_type": "code",
   "execution_count": 34,
   "metadata": {},
   "outputs": [],
   "source": [
    "earlystop=EarlyStopping(monitor='val_loss',mode='min',verbose=1,patience=20)"
   ]
  },
  {
   "cell_type": "code",
   "execution_count": 35,
   "metadata": {},
   "outputs": [
    {
     "name": "stdout",
     "output_type": "stream",
     "text": [
      "Train on 1219 samples, validate on 305 samples\n",
      "Epoch 1/150\n",
      "1219/1219 [==============================] - 0s 39us/sample - loss: 0.0944 - accuracy: 0.9737 - val_loss: 0.0754 - val_accuracy: 0.9902\n",
      "Epoch 2/150\n",
      "1219/1219 [==============================] - 0s 39us/sample - loss: 0.0930 - accuracy: 0.9737 - val_loss: 0.0757 - val_accuracy: 0.9869\n",
      "Epoch 3/150\n",
      "1219/1219 [==============================] - 0s 39us/sample - loss: 0.0914 - accuracy: 0.9729 - val_loss: 0.0744 - val_accuracy: 0.9869\n",
      "Epoch 4/150\n",
      "1219/1219 [==============================] - 0s 39us/sample - loss: 0.0902 - accuracy: 0.9729 - val_loss: 0.0743 - val_accuracy: 0.9902\n",
      "Epoch 5/150\n",
      "1219/1219 [==============================] - 0s 36us/sample - loss: 0.0891 - accuracy: 0.9770 - val_loss: 0.0701 - val_accuracy: 0.9902\n",
      "Epoch 6/150\n",
      "1219/1219 [==============================] - 0s 38us/sample - loss: 0.0881 - accuracy: 0.9746 - val_loss: 0.0696 - val_accuracy: 0.9902\n",
      "Epoch 7/150\n",
      "1219/1219 [==============================] - 0s 36us/sample - loss: 0.0867 - accuracy: 0.9746 - val_loss: 0.0697 - val_accuracy: 0.9902\n",
      "Epoch 8/150\n",
      "1219/1219 [==============================] - 0s 38us/sample - loss: 0.0860 - accuracy: 0.9762 - val_loss: 0.0724 - val_accuracy: 0.9869\n",
      "Epoch 9/150\n",
      "1219/1219 [==============================] - 0s 38us/sample - loss: 0.0849 - accuracy: 0.9795 - val_loss: 0.0654 - val_accuracy: 0.9902\n",
      "Epoch 10/150\n",
      "1219/1219 [==============================] - 0s 38us/sample - loss: 0.0838 - accuracy: 0.9770 - val_loss: 0.0676 - val_accuracy: 0.9902\n",
      "Epoch 11/150\n",
      "1219/1219 [==============================] - 0s 37us/sample - loss: 0.0828 - accuracy: 0.9787 - val_loss: 0.0636 - val_accuracy: 0.9902\n",
      "Epoch 12/150\n",
      "1219/1219 [==============================] - 0s 37us/sample - loss: 0.0821 - accuracy: 0.9787 - val_loss: 0.0663 - val_accuracy: 0.9934\n",
      "Epoch 13/150\n",
      "1219/1219 [==============================] - 0s 39us/sample - loss: 0.0811 - accuracy: 0.9795 - val_loss: 0.0605 - val_accuracy: 0.9902\n",
      "Epoch 14/150\n",
      "1219/1219 [==============================] - 0s 37us/sample - loss: 0.0814 - accuracy: 0.9754 - val_loss: 0.0604 - val_accuracy: 0.9902\n",
      "Epoch 15/150\n",
      "1219/1219 [==============================] - 0s 38us/sample - loss: 0.0792 - accuracy: 0.9770 - val_loss: 0.0619 - val_accuracy: 0.9902\n",
      "Epoch 16/150\n",
      "1219/1219 [==============================] - 0s 38us/sample - loss: 0.0782 - accuracy: 0.9754 - val_loss: 0.0599 - val_accuracy: 0.9902\n",
      "Epoch 17/150\n",
      "1219/1219 [==============================] - 0s 39us/sample - loss: 0.0776 - accuracy: 0.9762 - val_loss: 0.0565 - val_accuracy: 0.9902\n",
      "Epoch 18/150\n",
      "1219/1219 [==============================] - 0s 37us/sample - loss: 0.0768 - accuracy: 0.9779 - val_loss: 0.0614 - val_accuracy: 0.9934\n",
      "Epoch 19/150\n",
      "1219/1219 [==============================] - 0s 36us/sample - loss: 0.0760 - accuracy: 0.9770 - val_loss: 0.0606 - val_accuracy: 0.9934\n",
      "Epoch 20/150\n",
      "1219/1219 [==============================] - 0s 37us/sample - loss: 0.0750 - accuracy: 0.9770 - val_loss: 0.0552 - val_accuracy: 0.9902\n",
      "Epoch 21/150\n",
      "1219/1219 [==============================] - 0s 39us/sample - loss: 0.0740 - accuracy: 0.9770 - val_loss: 0.0546 - val_accuracy: 0.9902\n",
      "Epoch 22/150\n",
      "1219/1219 [==============================] - 0s 40us/sample - loss: 0.0732 - accuracy: 0.9779 - val_loss: 0.0559 - val_accuracy: 0.9902\n",
      "Epoch 23/150\n",
      "1219/1219 [==============================] - 0s 39us/sample - loss: 0.0725 - accuracy: 0.9762 - val_loss: 0.0522 - val_accuracy: 0.9902\n",
      "Epoch 24/150\n",
      "1219/1219 [==============================] - 0s 39us/sample - loss: 0.0723 - accuracy: 0.9770 - val_loss: 0.0528 - val_accuracy: 0.9902\n",
      "Epoch 25/150\n",
      "1219/1219 [==============================] - 0s 37us/sample - loss: 0.0710 - accuracy: 0.9770 - val_loss: 0.0550 - val_accuracy: 0.9934\n",
      "Epoch 26/150\n",
      "1219/1219 [==============================] - 0s 39us/sample - loss: 0.0705 - accuracy: 0.9779 - val_loss: 0.0498 - val_accuracy: 0.9902\n",
      "Epoch 27/150\n",
      "1219/1219 [==============================] - 0s 39us/sample - loss: 0.0697 - accuracy: 0.9770 - val_loss: 0.0516 - val_accuracy: 0.9902\n",
      "Epoch 28/150\n",
      "1219/1219 [==============================] - 0s 39us/sample - loss: 0.0686 - accuracy: 0.9770 - val_loss: 0.0510 - val_accuracy: 0.9902\n",
      "Epoch 29/150\n",
      "1219/1219 [==============================] - 0s 39us/sample - loss: 0.0683 - accuracy: 0.9779 - val_loss: 0.0521 - val_accuracy: 0.9934\n",
      "Epoch 30/150\n",
      "1219/1219 [==============================] - 0s 39us/sample - loss: 0.0678 - accuracy: 0.9770 - val_loss: 0.0507 - val_accuracy: 0.9934\n",
      "Epoch 31/150\n",
      "1219/1219 [==============================] - 0s 38us/sample - loss: 0.0669 - accuracy: 0.9779 - val_loss: 0.0492 - val_accuracy: 0.9902\n",
      "Epoch 32/150\n",
      "1219/1219 [==============================] - 0s 38us/sample - loss: 0.0663 - accuracy: 0.9762 - val_loss: 0.0474 - val_accuracy: 0.9902\n",
      "Epoch 33/150\n",
      "1219/1219 [==============================] - 0s 37us/sample - loss: 0.0661 - accuracy: 0.9762 - val_loss: 0.0468 - val_accuracy: 0.9902\n",
      "Epoch 34/150\n",
      "1219/1219 [==============================] - 0s 37us/sample - loss: 0.0648 - accuracy: 0.9787 - val_loss: 0.0507 - val_accuracy: 0.9934\n",
      "Epoch 35/150\n",
      "1219/1219 [==============================] - 0s 38us/sample - loss: 0.0640 - accuracy: 0.9795 - val_loss: 0.0435 - val_accuracy: 0.9934\n",
      "Epoch 36/150\n",
      "1219/1219 [==============================] - 0s 38us/sample - loss: 0.0652 - accuracy: 0.9787 - val_loss: 0.0444 - val_accuracy: 0.9902\n",
      "Epoch 37/150\n",
      "1219/1219 [==============================] - 0s 38us/sample - loss: 0.0633 - accuracy: 0.9795 - val_loss: 0.0430 - val_accuracy: 0.9934\n",
      "Epoch 38/150\n",
      "1219/1219 [==============================] - 0s 39us/sample - loss: 0.0624 - accuracy: 0.9787 - val_loss: 0.0449 - val_accuracy: 0.9902\n",
      "Epoch 39/150\n",
      "1219/1219 [==============================] - 0s 38us/sample - loss: 0.0619 - accuracy: 0.9787 - val_loss: 0.0437 - val_accuracy: 0.9902\n",
      "Epoch 40/150\n",
      "1219/1219 [==============================] - 0s 38us/sample - loss: 0.0615 - accuracy: 0.9779 - val_loss: 0.0452 - val_accuracy: 0.9934\n",
      "Epoch 41/150\n",
      "1219/1219 [==============================] - 0s 38us/sample - loss: 0.0608 - accuracy: 0.9795 - val_loss: 0.0428 - val_accuracy: 0.9902\n",
      "Epoch 42/150\n",
      "1219/1219 [==============================] - 0s 37us/sample - loss: 0.0604 - accuracy: 0.9787 - val_loss: 0.0435 - val_accuracy: 0.9934\n",
      "Epoch 43/150\n",
      "1219/1219 [==============================] - 0s 38us/sample - loss: 0.0598 - accuracy: 0.9795 - val_loss: 0.0402 - val_accuracy: 0.9934\n",
      "Epoch 44/150\n",
      "1219/1219 [==============================] - 0s 38us/sample - loss: 0.0591 - accuracy: 0.9811 - val_loss: 0.0430 - val_accuracy: 0.9934\n",
      "Epoch 45/150\n",
      "1219/1219 [==============================] - 0s 38us/sample - loss: 0.0588 - accuracy: 0.9795 - val_loss: 0.0412 - val_accuracy: 0.9902\n",
      "Epoch 46/150\n",
      "1219/1219 [==============================] - 0s 37us/sample - loss: 0.0585 - accuracy: 0.9795 - val_loss: 0.0450 - val_accuracy: 0.9934\n",
      "Epoch 47/150\n",
      "1219/1219 [==============================] - 0s 40us/sample - loss: 0.0604 - accuracy: 0.9803 - val_loss: 0.0403 - val_accuracy: 0.9902\n",
      "Epoch 48/150\n",
      "1219/1219 [==============================] - 0s 39us/sample - loss: 0.0576 - accuracy: 0.9811 - val_loss: 0.0399 - val_accuracy: 0.9902\n",
      "Epoch 49/150\n",
      "1219/1219 [==============================] - 0s 38us/sample - loss: 0.0568 - accuracy: 0.9787 - val_loss: 0.0401 - val_accuracy: 0.9934\n",
      "Epoch 50/150\n",
      "1219/1219 [==============================] - 0s 39us/sample - loss: 0.0566 - accuracy: 0.9795 - val_loss: 0.0406 - val_accuracy: 0.9934\n",
      "Epoch 51/150\n",
      "1219/1219 [==============================] - 0s 38us/sample - loss: 0.0562 - accuracy: 0.9811 - val_loss: 0.0391 - val_accuracy: 0.9934\n",
      "Epoch 52/150\n",
      "1219/1219 [==============================] - 0s 37us/sample - loss: 0.0559 - accuracy: 0.9803 - val_loss: 0.0372 - val_accuracy: 0.9934\n",
      "Epoch 53/150\n",
      "1219/1219 [==============================] - 0s 39us/sample - loss: 0.0552 - accuracy: 0.9787 - val_loss: 0.0383 - val_accuracy: 0.9934\n",
      "Epoch 54/150\n",
      "1219/1219 [==============================] - 0s 38us/sample - loss: 0.0549 - accuracy: 0.9795 - val_loss: 0.0405 - val_accuracy: 0.9934\n",
      "Epoch 55/150\n",
      "1219/1219 [==============================] - 0s 37us/sample - loss: 0.0565 - accuracy: 0.9828 - val_loss: 0.0356 - val_accuracy: 0.9934\n"
     ]
    },
    {
     "name": "stdout",
     "output_type": "stream",
     "text": [
      "Epoch 56/150\n",
      "1219/1219 [==============================] - 0s 38us/sample - loss: 0.0538 - accuracy: 0.9795 - val_loss: 0.0380 - val_accuracy: 0.9934\n",
      "Epoch 57/150\n",
      "1219/1219 [==============================] - 0s 38us/sample - loss: 0.0536 - accuracy: 0.9820 - val_loss: 0.0356 - val_accuracy: 0.9934\n",
      "Epoch 58/150\n",
      "1219/1219 [==============================] - 0s 37us/sample - loss: 0.0538 - accuracy: 0.9803 - val_loss: 0.0340 - val_accuracy: 0.9934\n",
      "Epoch 59/150\n",
      "1219/1219 [==============================] - 0s 37us/sample - loss: 0.0527 - accuracy: 0.9795 - val_loss: 0.0355 - val_accuracy: 0.9967\n",
      "Epoch 60/150\n",
      "1219/1219 [==============================] - 0s 37us/sample - loss: 0.0522 - accuracy: 0.9811 - val_loss: 0.0344 - val_accuracy: 0.9934\n",
      "Epoch 61/150\n",
      "1219/1219 [==============================] - 0s 36us/sample - loss: 0.0523 - accuracy: 0.9803 - val_loss: 0.0357 - val_accuracy: 0.9934\n",
      "Epoch 62/150\n",
      "1219/1219 [==============================] - 0s 38us/sample - loss: 0.0517 - accuracy: 0.9803 - val_loss: 0.0359 - val_accuracy: 0.9934\n",
      "Epoch 63/150\n",
      "1219/1219 [==============================] - 0s 37us/sample - loss: 0.0518 - accuracy: 0.9828 - val_loss: 0.0340 - val_accuracy: 0.9967\n",
      "Epoch 64/150\n",
      "1219/1219 [==============================] - 0s 37us/sample - loss: 0.0512 - accuracy: 0.9820 - val_loss: 0.0322 - val_accuracy: 0.9967\n",
      "Epoch 65/150\n",
      "1219/1219 [==============================] - 0s 36us/sample - loss: 0.0512 - accuracy: 0.9803 - val_loss: 0.0333 - val_accuracy: 0.9967\n",
      "Epoch 66/150\n",
      "1219/1219 [==============================] - 0s 37us/sample - loss: 0.0507 - accuracy: 0.9820 - val_loss: 0.0358 - val_accuracy: 0.9934\n",
      "Epoch 67/150\n",
      "1219/1219 [==============================] - 0s 37us/sample - loss: 0.0500 - accuracy: 0.9828 - val_loss: 0.0308 - val_accuracy: 0.9967\n",
      "Epoch 68/150\n",
      "1219/1219 [==============================] - 0s 38us/sample - loss: 0.0500 - accuracy: 0.9820 - val_loss: 0.0312 - val_accuracy: 0.9934\n",
      "Epoch 69/150\n",
      "1219/1219 [==============================] - 0s 37us/sample - loss: 0.0500 - accuracy: 0.9803 - val_loss: 0.0312 - val_accuracy: 0.9934\n",
      "Epoch 70/150\n",
      "1219/1219 [==============================] - 0s 38us/sample - loss: 0.0508 - accuracy: 0.9811 - val_loss: 0.0289 - val_accuracy: 0.9967\n",
      "Epoch 71/150\n",
      "1219/1219 [==============================] - 0s 38us/sample - loss: 0.0503 - accuracy: 0.9820 - val_loss: 0.0312 - val_accuracy: 0.9967\n",
      "Epoch 72/150\n",
      "1219/1219 [==============================] - 0s 38us/sample - loss: 0.0486 - accuracy: 0.9828 - val_loss: 0.0297 - val_accuracy: 0.9967\n",
      "Epoch 73/150\n",
      "1219/1219 [==============================] - 0s 37us/sample - loss: 0.0483 - accuracy: 0.9795 - val_loss: 0.0336 - val_accuracy: 0.9934\n",
      "Epoch 74/150\n",
      "1219/1219 [==============================] - 0s 37us/sample - loss: 0.0476 - accuracy: 0.9820 - val_loss: 0.0286 - val_accuracy: 0.9967\n",
      "Epoch 75/150\n",
      "1219/1219 [==============================] - 0s 38us/sample - loss: 0.0479 - accuracy: 0.9803 - val_loss: 0.0312 - val_accuracy: 0.9967\n",
      "Epoch 76/150\n",
      "1219/1219 [==============================] - 0s 37us/sample - loss: 0.0481 - accuracy: 0.9803 - val_loss: 0.0330 - val_accuracy: 0.9934\n",
      "Epoch 77/150\n",
      "1219/1219 [==============================] - 0s 39us/sample - loss: 0.0470 - accuracy: 0.9820 - val_loss: 0.0288 - val_accuracy: 0.9967\n",
      "Epoch 78/150\n",
      "1219/1219 [==============================] - 0s 47us/sample - loss: 0.0463 - accuracy: 0.9803 - val_loss: 0.0337 - val_accuracy: 0.9934\n",
      "Epoch 79/150\n",
      "1219/1219 [==============================] - 0s 46us/sample - loss: 0.0470 - accuracy: 0.9828 - val_loss: 0.0311 - val_accuracy: 0.9934\n",
      "Epoch 80/150\n",
      "1219/1219 [==============================] - 0s 41us/sample - loss: 0.0462 - accuracy: 0.9828 - val_loss: 0.0305 - val_accuracy: 0.9934\n",
      "Epoch 81/150\n",
      "1219/1219 [==============================] - 0s 41us/sample - loss: 0.0464 - accuracy: 0.9828 - val_loss: 0.0290 - val_accuracy: 0.9967\n",
      "Epoch 82/150\n",
      "1219/1219 [==============================] - 0s 43us/sample - loss: 0.0456 - accuracy: 0.9803 - val_loss: 0.0307 - val_accuracy: 0.9934\n",
      "Epoch 83/150\n",
      "1219/1219 [==============================] - 0s 44us/sample - loss: 0.0458 - accuracy: 0.9828 - val_loss: 0.0288 - val_accuracy: 0.9967\n",
      "Epoch 84/150\n",
      "1219/1219 [==============================] - 0s 38us/sample - loss: 0.0453 - accuracy: 0.9820 - val_loss: 0.0288 - val_accuracy: 0.9967\n",
      "Epoch 85/150\n",
      "1219/1219 [==============================] - 0s 33us/sample - loss: 0.0448 - accuracy: 0.9836 - val_loss: 0.0281 - val_accuracy: 0.9967\n",
      "Epoch 86/150\n",
      "1219/1219 [==============================] - 0s 35us/sample - loss: 0.0449 - accuracy: 0.9820 - val_loss: 0.0285 - val_accuracy: 0.9967\n",
      "Epoch 87/150\n",
      "1219/1219 [==============================] - 0s 36us/sample - loss: 0.0444 - accuracy: 0.9828 - val_loss: 0.0273 - val_accuracy: 0.9967\n",
      "Epoch 88/150\n",
      "1219/1219 [==============================] - 0s 36us/sample - loss: 0.0449 - accuracy: 0.9828 - val_loss: 0.0276 - val_accuracy: 0.9967\n",
      "Epoch 89/150\n",
      "1219/1219 [==============================] - 0s 36us/sample - loss: 0.0443 - accuracy: 0.9795 - val_loss: 0.0290 - val_accuracy: 0.9967\n",
      "Epoch 90/150\n",
      "1219/1219 [==============================] - 0s 37us/sample - loss: 0.0435 - accuracy: 0.9820 - val_loss: 0.0266 - val_accuracy: 1.0000\n",
      "Epoch 91/150\n",
      "1219/1219 [==============================] - 0s 37us/sample - loss: 0.0434 - accuracy: 0.9820 - val_loss: 0.0296 - val_accuracy: 0.9934\n",
      "Epoch 92/150\n",
      "1219/1219 [==============================] - 0s 38us/sample - loss: 0.0430 - accuracy: 0.9852 - val_loss: 0.0242 - val_accuracy: 0.9967\n",
      "Epoch 93/150\n",
      "1219/1219 [==============================] - 0s 39us/sample - loss: 0.0441 - accuracy: 0.9828 - val_loss: 0.0269 - val_accuracy: 0.9967\n",
      "Epoch 94/150\n",
      "1219/1219 [==============================] - 0s 38us/sample - loss: 0.0430 - accuracy: 0.9844 - val_loss: 0.0247 - val_accuracy: 1.0000\n",
      "Epoch 95/150\n",
      "1219/1219 [==============================] - 0s 37us/sample - loss: 0.0427 - accuracy: 0.9803 - val_loss: 0.0275 - val_accuracy: 0.9967\n",
      "Epoch 96/150\n",
      "1219/1219 [==============================] - 0s 37us/sample - loss: 0.0429 - accuracy: 0.9820 - val_loss: 0.0266 - val_accuracy: 0.9967\n",
      "Epoch 97/150\n",
      "1219/1219 [==============================] - 0s 38us/sample - loss: 0.0422 - accuracy: 0.9803 - val_loss: 0.0279 - val_accuracy: 0.9934\n",
      "Epoch 98/150\n",
      "1219/1219 [==============================] - 0s 38us/sample - loss: 0.0418 - accuracy: 0.9852 - val_loss: 0.0247 - val_accuracy: 1.0000\n",
      "Epoch 99/150\n",
      "1219/1219 [==============================] - 0s 39us/sample - loss: 0.0416 - accuracy: 0.9836 - val_loss: 0.0290 - val_accuracy: 0.9934\n",
      "Epoch 100/150\n",
      "1219/1219 [==============================] - 0s 37us/sample - loss: 0.0427 - accuracy: 0.9828 - val_loss: 0.0273 - val_accuracy: 0.9934\n",
      "Epoch 101/150\n",
      "1219/1219 [==============================] - 0s 39us/sample - loss: 0.0412 - accuracy: 0.9844 - val_loss: 0.0252 - val_accuracy: 0.9967\n",
      "Epoch 102/150\n",
      "1219/1219 [==============================] - 0s 37us/sample - loss: 0.0415 - accuracy: 0.9811 - val_loss: 0.0278 - val_accuracy: 0.9934\n",
      "Epoch 103/150\n",
      "1219/1219 [==============================] - 0s 37us/sample - loss: 0.0408 - accuracy: 0.9852 - val_loss: 0.0240 - val_accuracy: 1.0000\n",
      "Epoch 104/150\n",
      "1219/1219 [==============================] - 0s 39us/sample - loss: 0.0409 - accuracy: 0.9828 - val_loss: 0.0248 - val_accuracy: 0.9967\n",
      "Epoch 105/150\n",
      "1219/1219 [==============================] - 0s 38us/sample - loss: 0.0405 - accuracy: 0.9828 - val_loss: 0.0252 - val_accuracy: 0.9967\n",
      "Epoch 106/150\n",
      "1219/1219 [==============================] - 0s 38us/sample - loss: 0.0418 - accuracy: 0.9893 - val_loss: 0.0229 - val_accuracy: 1.0000\n",
      "Epoch 107/150\n",
      "1219/1219 [==============================] - 0s 37us/sample - loss: 0.0404 - accuracy: 0.9820 - val_loss: 0.0252 - val_accuracy: 0.9967\n",
      "Epoch 108/150\n",
      "1219/1219 [==============================] - 0s 38us/sample - loss: 0.0404 - accuracy: 0.9844 - val_loss: 0.0233 - val_accuracy: 1.0000\n",
      "Epoch 109/150\n",
      "1219/1219 [==============================] - 0s 39us/sample - loss: 0.0401 - accuracy: 0.9861 - val_loss: 0.0235 - val_accuracy: 1.0000\n",
      "Epoch 110/150\n",
      "1219/1219 [==============================] - 0s 38us/sample - loss: 0.0400 - accuracy: 0.9811 - val_loss: 0.0252 - val_accuracy: 0.9967\n"
     ]
    },
    {
     "name": "stdout",
     "output_type": "stream",
     "text": [
      "Epoch 111/150\n",
      "1219/1219 [==============================] - 0s 37us/sample - loss: 0.0395 - accuracy: 0.9861 - val_loss: 0.0217 - val_accuracy: 1.0000\n",
      "Epoch 112/150\n",
      "1219/1219 [==============================] - 0s 37us/sample - loss: 0.0393 - accuracy: 0.9820 - val_loss: 0.0238 - val_accuracy: 0.9967\n",
      "Epoch 113/150\n",
      "1219/1219 [==============================] - 0s 39us/sample - loss: 0.0394 - accuracy: 0.9852 - val_loss: 0.0261 - val_accuracy: 0.9967\n",
      "Epoch 114/150\n",
      "1219/1219 [==============================] - 0s 38us/sample - loss: 0.0407 - accuracy: 0.9844 - val_loss: 0.0243 - val_accuracy: 0.9967\n",
      "Epoch 115/150\n",
      "1219/1219 [==============================] - 0s 37us/sample - loss: 0.0406 - accuracy: 0.9869 - val_loss: 0.0230 - val_accuracy: 1.0000\n",
      "Epoch 116/150\n",
      "1219/1219 [==============================] - 0s 38us/sample - loss: 0.0389 - accuracy: 0.9828 - val_loss: 0.0225 - val_accuracy: 1.0000\n",
      "Epoch 117/150\n",
      "1219/1219 [==============================] - 0s 38us/sample - loss: 0.0387 - accuracy: 0.9836 - val_loss: 0.0219 - val_accuracy: 1.0000\n",
      "Epoch 118/150\n",
      "1219/1219 [==============================] - 0s 38us/sample - loss: 0.0386 - accuracy: 0.9828 - val_loss: 0.0221 - val_accuracy: 1.0000\n",
      "Epoch 119/150\n",
      "1219/1219 [==============================] - 0s 38us/sample - loss: 0.0383 - accuracy: 0.9844 - val_loss: 0.0229 - val_accuracy: 0.9967\n",
      "Epoch 120/150\n",
      "1219/1219 [==============================] - 0s 38us/sample - loss: 0.0381 - accuracy: 0.9852 - val_loss: 0.0216 - val_accuracy: 1.0000\n",
      "Epoch 121/150\n",
      "1219/1219 [==============================] - 0s 36us/sample - loss: 0.0382 - accuracy: 0.9861 - val_loss: 0.0226 - val_accuracy: 0.9967\n",
      "Epoch 122/150\n",
      "1219/1219 [==============================] - 0s 38us/sample - loss: 0.0376 - accuracy: 0.9877 - val_loss: 0.0207 - val_accuracy: 1.0000\n",
      "Epoch 123/150\n",
      "1219/1219 [==============================] - 0s 37us/sample - loss: 0.0378 - accuracy: 0.9820 - val_loss: 0.0214 - val_accuracy: 1.0000\n",
      "Epoch 124/150\n",
      "1219/1219 [==============================] - 0s 39us/sample - loss: 0.0375 - accuracy: 0.9828 - val_loss: 0.0228 - val_accuracy: 0.9967\n",
      "Epoch 125/150\n",
      "1219/1219 [==============================] - 0s 39us/sample - loss: 0.0387 - accuracy: 0.9811 - val_loss: 0.0208 - val_accuracy: 1.0000\n",
      "Epoch 126/150\n",
      "1219/1219 [==============================] - 0s 37us/sample - loss: 0.0374 - accuracy: 0.9811 - val_loss: 0.0227 - val_accuracy: 0.9967\n",
      "Epoch 127/150\n",
      "1219/1219 [==============================] - 0s 36us/sample - loss: 0.0371 - accuracy: 0.9861 - val_loss: 0.0211 - val_accuracy: 1.0000\n",
      "Epoch 128/150\n",
      "1219/1219 [==============================] - 0s 37us/sample - loss: 0.0375 - accuracy: 0.9869 - val_loss: 0.0234 - val_accuracy: 0.9967\n",
      "Epoch 129/150\n",
      "1219/1219 [==============================] - 0s 38us/sample - loss: 0.0371 - accuracy: 0.9869 - val_loss: 0.0225 - val_accuracy: 0.9967\n",
      "Epoch 130/150\n",
      "1219/1219 [==============================] - 0s 38us/sample - loss: 0.0370 - accuracy: 0.9836 - val_loss: 0.0235 - val_accuracy: 0.9967\n",
      "Epoch 131/150\n",
      "1219/1219 [==============================] - 0s 37us/sample - loss: 0.0370 - accuracy: 0.9869 - val_loss: 0.0199 - val_accuracy: 1.0000\n",
      "Epoch 132/150\n",
      "1219/1219 [==============================] - 0s 36us/sample - loss: 0.0375 - accuracy: 0.9820 - val_loss: 0.0194 - val_accuracy: 1.0000\n",
      "Epoch 133/150\n",
      "1219/1219 [==============================] - 0s 38us/sample - loss: 0.0367 - accuracy: 0.9844 - val_loss: 0.0195 - val_accuracy: 1.0000\n",
      "Epoch 134/150\n",
      "1219/1219 [==============================] - 0s 39us/sample - loss: 0.0365 - accuracy: 0.9852 - val_loss: 0.0209 - val_accuracy: 1.0000\n",
      "Epoch 135/150\n",
      "1219/1219 [==============================] - 0s 38us/sample - loss: 0.0363 - accuracy: 0.9836 - val_loss: 0.0204 - val_accuracy: 1.0000\n",
      "Epoch 136/150\n",
      "1219/1219 [==============================] - 0s 37us/sample - loss: 0.0361 - accuracy: 0.9828 - val_loss: 0.0225 - val_accuracy: 0.9967\n",
      "Epoch 137/150\n",
      "1219/1219 [==============================] - 0s 37us/sample - loss: 0.0378 - accuracy: 0.9910 - val_loss: 0.0196 - val_accuracy: 1.0000\n",
      "Epoch 138/150\n",
      "1219/1219 [==============================] - 0s 36us/sample - loss: 0.0369 - accuracy: 0.9828 - val_loss: 0.0245 - val_accuracy: 0.9934\n",
      "Epoch 139/150\n",
      "1219/1219 [==============================] - 0s 37us/sample - loss: 0.0364 - accuracy: 0.9852 - val_loss: 0.0204 - val_accuracy: 1.0000\n",
      "Epoch 140/150\n",
      "1219/1219 [==============================] - 0s 37us/sample - loss: 0.0359 - accuracy: 0.9885 - val_loss: 0.0208 - val_accuracy: 1.0000\n",
      "Epoch 141/150\n",
      "1219/1219 [==============================] - 0s 37us/sample - loss: 0.0355 - accuracy: 0.9885 - val_loss: 0.0207 - val_accuracy: 1.0000\n",
      "Epoch 142/150\n",
      "1219/1219 [==============================] - 0s 38us/sample - loss: 0.0355 - accuracy: 0.9861 - val_loss: 0.0216 - val_accuracy: 0.9967\n",
      "Epoch 143/150\n",
      "1219/1219 [==============================] - 0s 38us/sample - loss: 0.0361 - accuracy: 0.9869 - val_loss: 0.0234 - val_accuracy: 0.9967\n",
      "Epoch 144/150\n",
      "1219/1219 [==============================] - 0s 38us/sample - loss: 0.0357 - accuracy: 0.9869 - val_loss: 0.0201 - val_accuracy: 1.0000\n",
      "Epoch 145/150\n",
      "1219/1219 [==============================] - 0s 38us/sample - loss: 0.0350 - accuracy: 0.9893 - val_loss: 0.0211 - val_accuracy: 0.9967\n",
      "Epoch 146/150\n",
      "1219/1219 [==============================] - 0s 38us/sample - loss: 0.0350 - accuracy: 0.9885 - val_loss: 0.0202 - val_accuracy: 1.0000\n",
      "Epoch 147/150\n",
      "1219/1219 [==============================] - 0s 37us/sample - loss: 0.0349 - accuracy: 0.9869 - val_loss: 0.0204 - val_accuracy: 1.0000\n",
      "Epoch 148/150\n",
      "1219/1219 [==============================] - 0s 37us/sample - loss: 0.0353 - accuracy: 0.9869 - val_loss: 0.0197 - val_accuracy: 1.0000\n",
      "Epoch 149/150\n",
      "1219/1219 [==============================] - 0s 38us/sample - loss: 0.0350 - accuracy: 0.9852 - val_loss: 0.0242 - val_accuracy: 0.9934\n",
      "Epoch 150/150\n",
      "1219/1219 [==============================] - 0s 37us/sample - loss: 0.0354 - accuracy: 0.9861 - val_loss: 0.0216 - val_accuracy: 0.9967\n"
     ]
    },
    {
     "data": {
      "text/plain": [
       "<tensorflow.python.keras.callbacks.History at 0x2cb37360a48>"
      ]
     },
     "execution_count": 35,
     "metadata": {},
     "output_type": "execute_result"
    }
   ],
   "source": [
    "model.fit(x_train,y_train,epochs=150,validation_data=(x_test,y_test),callbacks=[earlystop])"
   ]
  },
  {
   "cell_type": "code",
   "execution_count": 36,
   "metadata": {},
   "outputs": [
    {
     "name": "stdout",
     "output_type": "stream",
     "text": [
      "305/305 [==============================] - 0s 63us/sample - loss: 0.0216 - accuracy: 0.9967\n"
     ]
    },
    {
     "data": {
      "text/plain": [
       "[0.02156876390036501, 0.9967213]"
      ]
     },
     "execution_count": 36,
     "metadata": {},
     "output_type": "execute_result"
    }
   ],
   "source": [
    "model.evaluate(x_test,y_test)"
   ]
  },
  {
   "cell_type": "code",
   "execution_count": 37,
   "metadata": {},
   "outputs": [
    {
     "data": {
      "text/plain": [
       "<matplotlib.axes._subplots.AxesSubplot at 0x2cb33528c48>"
      ]
     },
     "execution_count": 37,
     "metadata": {},
     "output_type": "execute_result"
    },
    {
     "data": {
      "image/png": "[encoded data removed]",
      "text/plain": [
       "<Figure size 432x288 with 1 Axes>"
      ]
     },
     "metadata": {},
     "output_type": "display_data"
    }
   ],
   "source": [
    "metrics=pd.DataFrame(model.history.history)\n",
    "metrics.plot()"
   ]
  },
  {
   "cell_type": "code",
   "execution_count": 41,
   "metadata": {},
   "outputs": [],
   "source": [
    "prediction=model.predict_classes(x_test)"
   ]
  },
  {
   "cell_type": "code",
   "execution_count": 42,
   "metadata": {},
   "outputs": [],
   "source": [
    "from sklearn.metrics import classification_report,confusion_matrix"
   ]
  },
  {
   "cell_type": "code",
   "execution_count": 43,
   "metadata": {},
   "outputs": [
    {
     "name": "stdout",
     "output_type": "stream",
     "text": [
      "              precision    recall  f1-score   support\n",
      "\n",
      "           0       0.99      1.00      1.00       153\n",
      "           1       1.00      0.99      1.00       152\n",
      "\n",
      "    accuracy                           1.00       305\n",
      "   macro avg       1.00      1.00      1.00       305\n",
      "weighted avg       1.00      1.00      1.00       305\n",
      "\n"
     ]
    }
   ],
   "source": [
    "print(classification_report(y_test,prediction))"
   ]
  },
  {
   "cell_type": "code",
   "execution_count": 44,
   "metadata": {},
   "outputs": [
    {
     "name": "stdout",
     "output_type": "stream",
     "text": [
      "[[153   0]\n",
      " [  1 151]]\n"
     ]
    }
   ],
   "source": [
    "print(confusion_matrix(y_test,prediction))"
   ]
  },
  {
   "cell_type": "code",
   "execution_count": null,
   "metadata": {},
   "outputs": [],
   "source": []
  }
 ],
 "metadata": {
  "kernelspec": {
   "display_name": "Python 3",
   "language": "python",
   "name": "python3"
  },
  "language_info": {
   "codemirror_mode": {
    "name": "ipython",
    "version": 3
   },
   "file_extension": ".py",
   "mimetype": "text/x-python",
   "name": "python",
   "nbconvert_exporter": "python",
   "pygments_lexer": "ipython3",
   "version": "3.7.6"
  }
 },
 "nbformat": 4,
 "nbformat_minor": 4
}
